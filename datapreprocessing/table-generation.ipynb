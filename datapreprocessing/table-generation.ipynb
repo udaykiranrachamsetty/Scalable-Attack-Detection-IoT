{
 "cells": [
  {
   "cell_type": "code",
   "execution_count": 1,
   "id": "initial_id",
   "metadata": {
    "collapsed": true,
    "ExecuteTime": {
     "end_time": "2023-10-21T06:57:33.110792700Z",
     "start_time": "2023-10-21T06:57:33.106268200Z"
    }
   },
   "outputs": [],
   "source": [
    "capture_34 = \"E:/Final year project/project/dataset/opt/Malware-Project/BigDataset/IoTScenarios/CTU-IoT-Malware-Capture-34-1/bro/conn.log.labeled\"\n",
    "capture_43 = \"E:/Final year project/project/dataset/opt/Malware-Project/BigDataset/IoTScenarios/CTU-IoT-Malware-Capture-43-1/bro/conn.log.labeled\"\n",
    "capture_44 = \"E:/Final year project/project/dataset/opt/Malware-Project/BigDataset/IoTScenarios/CTU-IoT-Malware-Capture-44-1/bro/conn.log.labeled\"\n",
    "capture_49 = \"E:/Final year project/project/dataset/opt/Malware-Project/BigDataset/IoTScenarios/CTU-IoT-Malware-Capture-49-1/bro/conn.log.labeled\"\n",
    "capture_52 = \"E:/Final year project/project/dataset/opt/Malware-Project/BigDataset/IoTScenarios/CTU-IoT-Malware-Capture-52-1/bro/conn.log.labeled\"\n",
    "capture_20 = \"E:/Final year project/project/dataset/opt/Malware-Project/BigDataset/IoTScenarios/CTU-IoT-Malware-Capture-20-1/bro/conn.log.labeled\"\n",
    "capture_21 = \"E:/Final year project/project/dataset/opt/Malware-Project/BigDataset/IoTScenarios/CTU-IoT-Malware-Capture-21-1/bro/conn.log.labeled\"\n",
    "capture_42 = \"E:/Final year project/project/dataset/opt/Malware-Project/BigDataset/IoTScenarios/CTU-IoT-Malware-Capture-42-1/bro/conn.log.labeled\"\n",
    "capture_60 = \"E:/Final year project/project/dataset/opt/Malware-Project/BigDataset/IoTScenarios/CTU-IoT-Malware-Capture-60-1/bro/conn.log.labeled\"\n",
    "capture_17 = \"E:/Final year project/project/dataset/opt/Malware-Project/BigDataset/IoTScenarios/CTU-IoT-Malware-Capture-17-1/bro/conn.log.labeled\"\n",
    "capture_36 = \"E:/Final year project/project/dataset/opt/Malware-Project/BigDataset/IoTScenarios/CTU-IoT-Malware-Capture-36-1/bro/conn.log.labeled\"\n",
    "capture_33 = \"E:/Final year project/project/dataset/opt/Malware-Project/BigDataset/IoTScenarios/CTU-IoT-Malware-Capture-33-1/bro/conn.log.labeled\"\n",
    "capture_8 = \"E:/Final year project/project/dataset/opt/Malware-Project/BigDataset/IoTScenarios/CTU-IoT-Malware-Capture-8-1/bro/conn.log.labeled\"\n",
    "capture_35 = \"E:/Final year project/project/dataset/opt/Malware-Project/BigDataset/IoTScenarios/CTU-IoT-Malware-Capture-35-1/bro/conn.log.labeled\"\n",
    "capture_48 = \"E:/Final year project/project/dataset/opt/Malware-Project/BigDataset/IoTScenarios/CTU-IoT-Malware-Capture-48-1/bro/conn.log.labeled\"\n",
    "capture_39 = \"E:/Final year project/project/dataset/opt/Malware-Project/BigDataset/IoTScenarios/CTU-IoT-Malware-Capture-39-1/bro/conn.log.labeled\"\n",
    "capture_7 = \"E:/Final year project/project/dataset/opt/Malware-Project/BigDataset/IoTScenarios/CTU-Honeypot-Capture-7-1/Somfy-01/bro/conn.log.labeled\"\n",
    "capture_9 = \"E:/Final year project/project/dataset/opt/Malware-Project/BigDataset/IoTScenarios/CTU-IoT-Malware-Capture-9-1/bro/conn.log.labeled\"\n",
    "capture_3 = \"E:/Final year project/project/dataset/opt/Malware-Project/BigDataset/IoTScenarios/CTU-IoT-Malware-Capture-3-1/bro/conn.log.labeled\"\n",
    "capture_1 = \"E:/Final year project/project/dataset/opt/Malware-Project/BigDataset/IoTScenarios/CTU-IoT-Malware-Capture-1-1/bro/conn.log.labeled\""
   ]
  },
  {
   "cell_type": "code",
   "execution_count": 2,
   "outputs": [
    {
     "name": "stdout",
     "output_type": "stream",
     "text": [
      "File: E:/Final year project/project/dataset/opt/Malware-Project/BigDataset/IoTScenarios/CTU-IoT-Malware-Capture-1-1/bro/conn.log.labeled, Records: 1008757\n",
      "File: E:/Final year project/project/dataset/opt/Malware-Project/BigDataset/IoTScenarios/CTU-IoT-Malware-Capture-3-1/bro/conn.log.labeled, Records: 156112\n",
      "File: E:/Final year project/project/dataset/opt/Malware-Project/BigDataset/IoTScenarios/CTU-Honeypot-Capture-7-1/Somfy-01/bro/conn.log.labeled, Records: 139\n",
      "File: E:/Final year project/project/dataset/opt/Malware-Project/BigDataset/IoTScenarios/CTU-IoT-Malware-Capture-8-1/bro/conn.log.labeled, Records: 10412\n",
      "File: E:/Final year project/project/dataset/opt/Malware-Project/BigDataset/IoTScenarios/CTU-IoT-Malware-Capture-9-1/bro/conn.log.labeled, Records: 6378302\n",
      "File: E:/Final year project/project/dataset/opt/Malware-Project/BigDataset/IoTScenarios/CTU-IoT-Malware-Capture-17-1/bro/conn.log.labeled, Records: 54659864\n",
      "File: E:/Final year project/project/dataset/opt/Malware-Project/BigDataset/IoTScenarios/CTU-IoT-Malware-Capture-20-1/bro/conn.log.labeled, Records: 3218\n",
      "File: E:/Final year project/project/dataset/opt/Malware-Project/BigDataset/IoTScenarios/CTU-IoT-Malware-Capture-21-1/bro/conn.log.labeled, Records: 3295\n",
      "File: E:/Final year project/project/dataset/opt/Malware-Project/BigDataset/IoTScenarios/CTU-IoT-Malware-Capture-33-1/bro/conn.log.labeled, Records: 54454600\n",
      "File: E:/Final year project/project/dataset/opt/Malware-Project/BigDataset/IoTScenarios/CTU-IoT-Malware-Capture-34-1/bro/conn.log.labeled, Records: 23154\n",
      "File: E:/Final year project/project/dataset/opt/Malware-Project/BigDataset/IoTScenarios/CTU-IoT-Malware-Capture-35-1/bro/conn.log.labeled, Records: 10447796\n",
      "File: E:/Final year project/project/dataset/opt/Malware-Project/BigDataset/IoTScenarios/CTU-IoT-Malware-Capture-36-1/bro/conn.log.labeled, Records: 13645107\n",
      "File: E:/Final year project/project/dataset/opt/Malware-Project/BigDataset/IoTScenarios/CTU-IoT-Malware-Capture-39-1/bro/conn.log.labeled, Records: 73568990\n",
      "File: E:/Final year project/project/dataset/opt/Malware-Project/BigDataset/IoTScenarios/CTU-IoT-Malware-Capture-42-1/bro/conn.log.labeled, Records: 4435\n",
      "File: E:/Final year project/project/dataset/opt/Malware-Project/BigDataset/IoTScenarios/CTU-IoT-Malware-Capture-43-1/bro/conn.log.labeled, Records: 67321818\n",
      "File: E:/Final year project/project/dataset/opt/Malware-Project/BigDataset/IoTScenarios/CTU-IoT-Malware-Capture-44-1/bro/conn.log.labeled, Records: 246\n",
      "File: E:/Final year project/project/dataset/opt/Malware-Project/BigDataset/IoTScenarios/CTU-IoT-Malware-Capture-48-1/bro/conn.log.labeled, Records: 3394347\n",
      "File: E:/Final year project/project/dataset/opt/Malware-Project/BigDataset/IoTScenarios/CTU-IoT-Malware-Capture-49-1/bro/conn.log.labeled, Records: 5410570\n",
      "File: E:/Final year project/project/dataset/opt/Malware-Project/BigDataset/IoTScenarios/CTU-IoT-Malware-Capture-52-1/bro/conn.log.labeled, Records: 19781387\n",
      "File: E:/Final year project/project/dataset/opt/Malware-Project/BigDataset/IoTScenarios/CTU-IoT-Malware-Capture-60-1/bro/conn.log.labeled, Records: 3581037\n"
     ]
    }
   ],
   "source": [
    "file_paths = [\n",
    "    capture_1,\n",
    "    capture_3,\n",
    "    capture_7,\n",
    "    capture_8,\n",
    "    capture_9,\n",
    "    capture_17,\n",
    "    capture_20,\n",
    "    capture_21,\n",
    "    capture_33,\n",
    "    capture_34,\n",
    "    capture_35,\n",
    "    capture_36,\n",
    "    capture_39,\n",
    "    capture_42,\n",
    "    capture_43,\n",
    "    capture_44,\n",
    "    capture_48,\n",
    "    capture_49,\n",
    "    capture_52,\n",
    "    capture_60\n",
    "]\n",
    "\n",
    "for file_path in file_paths:\n",
    "    with open(file_path, 'r') as file:\n",
    "        # Read the file and split it into lines\n",
    "        lines = file.read().split('\\n')\n",
    "        # Count the number of lines, excluding empty lines\n",
    "        record_count = len([line for line in lines if line.strip() != ''])\n",
    "        print(f\"File: {file_path}, Records: {record_count}\")"
   ],
   "metadata": {
    "collapsed": false,
    "ExecuteTime": {
     "end_time": "2023-10-21T07:17:16.250907900Z",
     "start_time": "2023-10-21T06:57:34.932605400Z"
    }
   },
   "id": "b314a56152569f0c"
  },
  {
   "cell_type": "code",
   "execution_count": null,
   "outputs": [],
   "source": [],
   "metadata": {
    "collapsed": false
   },
   "id": "5e8e043468a14e6a"
  }
 ],
 "metadata": {
  "kernelspec": {
   "display_name": "Python 3",
   "language": "python",
   "name": "python3"
  },
  "language_info": {
   "codemirror_mode": {
    "name": "ipython",
    "version": 2
   },
   "file_extension": ".py",
   "mimetype": "text/x-python",
   "name": "python",
   "nbconvert_exporter": "python",
   "pygments_lexer": "ipython2",
   "version": "2.7.6"
  }
 },
 "nbformat": 4,
 "nbformat_minor": 5
}
