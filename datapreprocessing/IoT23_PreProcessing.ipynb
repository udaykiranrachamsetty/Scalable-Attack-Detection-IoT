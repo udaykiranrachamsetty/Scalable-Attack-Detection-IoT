{
 "cells": [
  {
   "cell_type": "code",
   "execution_count": 1,
   "metadata": {
    "collapsed": true,
    "ExecuteTime": {
     "end_time": "2023-09-03T13:50:26.909259200Z",
     "start_time": "2023-09-03T13:50:24.376571400Z"
    }
   },
   "outputs": [],
   "source": [
    "import pandas as pd"
   ]
  },
  {
   "cell_type": "code",
   "execution_count": 4,
   "outputs": [],
   "source": [
    "capture_34 = \"E:/Final year project/project/dataset/opt/Malware-Project/BigDataset/IoTScenarios/CTU-IoT-Malware-Capture-34-1/bro/conn.log.labeled\"\n",
    "capture_43 = \"E:/Final year project/project/dataset/opt/Malware-Project/BigDataset/IoTScenarios/CTU-IoT-Malware-Capture-43-1/bro/conn.log.labeled\"\n",
    "capture_44 = \"E:/Final year project/project/dataset/opt/Malware-Project/BigDataset/IoTScenarios/CTU-IoT-Malware-Capture-44-1/bro/conn.log.labeled\"\n",
    "capture_49 = \"E:/Final year project/project/dataset/opt/Malware-Project/BigDataset/IoTScenarios/CTU-IoT-Malware-Capture-49-1/bro/conn.log.labeled\"\n",
    "capture_52 = \"E:/Final year project/project/dataset/opt/Malware-Project/BigDataset/IoTScenarios/CTU-IoT-Malware-Capture-52-1/bro/conn.log.labeled\"\n",
    "capture_20 = \"E:/Final year project/project/dataset/opt/Malware-Project/BigDataset/IoTScenarios/CTU-IoT-Malware-Capture-20-1/bro/conn.log.labeled\"\n",
    "capture_21 = \"E:/Final year project/project/dataset/opt/Malware-Project/BigDataset/IoTScenarios/CTU-IoT-Malware-Capture-21-1/bro/conn.log.labeled\"\n",
    "capture_42 = \"E:/Final year project/project/dataset/opt/Malware-Project/BigDataset/IoTScenarios/CTU-IoT-Malware-Capture-42-1/bro/conn.log.labeled\"\n",
    "capture_60 = \"E:/Final year project/project/dataset/opt/Malware-Project/BigDataset/IoTScenarios/CTU-IoT-Malware-Capture-60-1/bro/conn.log.labeled\"\n",
    "capture_17 = \"E:/Final year project/project/dataset/opt/Malware-Project/BigDataset/IoTScenarios/CTU-IoT-Malware-Capture-17-1/bro/conn.log.labeled\"\n",
    "capture_36 = \"E:/Final year project/project/dataset/opt/Malware-Project/BigDataset/IoTScenarios/CTU-IoT-Malware-Capture-36-1/bro/conn.log.labeled\"\n",
    "capture_33 = \"E:/Final year project/project/dataset/opt/Malware-Project/BigDataset/IoTScenarios/CTU-IoT-Malware-Capture-33-1/bro/conn.log.labeled\"\n",
    "capture_8 = \"E:/Final year project/project/dataset/opt/Malware-Project/BigDataset/IoTScenarios/CTU-IoT-Malware-Capture-8-1/bro/conn.log.labeled\"\n",
    "capture_35 = \"E:/Final year project/project/dataset/opt/Malware-Project/BigDataset/IoTScenarios/CTU-IoT-Malware-Capture-35-1/bro/conn.log.labeled\"\n",
    "capture_48 = \"E:/Final year project/project/dataset/opt/Malware-Project/BigDataset/IoTScenarios/CTU-IoT-Malware-Capture-48-1/bro/conn.log.labeled\"\n",
    "capture_39 = \"E:/Final year project/project/dataset/opt/Malware-Project/BigDataset/IoTScenarios/CTU-IoT-Malware-Capture-39-1/bro/conn.log.labeled\"\n",
    "capture_7 = \"E:/Final year project/project/dataset/opt/Malware-Project/BigDataset/IoTScenarios/CTU-Honeypot-Capture-7-1/Somfy-01/bro/conn.log.labeled\"\n",
    "capture_9 = \"E:/Final year project/project/dataset/opt/Malware-Project/BigDataset/IoTScenarios/CTU-IoT-Malware-Capture-9-1/bro/conn.log.labeled\"\n",
    "capture_3 = \"E:/Final year project/project/dataset/opt/Malware-Project/BigDataset/IoTScenarios/CTU-IoT-Malware-Capture-3-1/bro/conn.log.labeled\"\n",
    "capture_1 = \"E:/Final year project/project/dataset/opt/Malware-Project/BigDataset/IoTScenarios/CTU-IoT-Malware-Capture-1-1/bro/conn.log.labeled\""
   ],
   "metadata": {
    "collapsed": false,
    "ExecuteTime": {
     "end_time": "2023-09-03T15:03:57.974462100Z",
     "start_time": "2023-09-03T15:03:57.967454600Z"
    }
   }
  },
  {
   "cell_type": "code",
   "execution_count": 5,
   "outputs": [],
   "source": [
    "df34 = pd.read_table(filepath_or_buffer=capture_34, skiprows=10, nrows=100000)\n",
    "df34.columns=['ts',\n",
    "              'uid',\n",
    "              'id.orig_h',\n",
    "              'id.orig_p',\n",
    "              'id.resp_h',\n",
    "              'id.resp_p',\n",
    "              'proto',\n",
    "              'service',\n",
    "              'duration',\n",
    "              'orig_bytes',\n",
    "              'resp_bytes',\n",
    "              'conn_state',\n",
    "              'local_orig',\n",
    "              'local_resp',\n",
    "              'missed_bytes',\n",
    "              'history',\n",
    "              'orig_pkts',\n",
    "              'orig_ip_bytes',\n",
    "              'resp_pkts',\n",
    "              'resp_ip_bytes',\n",
    "              'label']\n",
    "df34.drop(df34.tail(1).index,inplace=True)"
   ],
   "metadata": {
    "collapsed": false,
    "ExecuteTime": {
     "end_time": "2023-09-03T15:04:01.021677300Z",
     "start_time": "2023-09-03T15:04:00.861692300Z"
    }
   }
  },
  {
   "cell_type": "code",
   "execution_count": 6,
   "outputs": [],
   "source": [
    "df43 = pd.read_table(filepath_or_buffer=capture_43, skiprows=10, nrows=100000)\n",
    "df43.columns=['ts',\n",
    "              'uid',\n",
    "              'id.orig_h',\n",
    "              'id.orig_p',\n",
    "              'id.resp_h',\n",
    "              'id.resp_p',\n",
    "              'proto',\n",
    "              'service',\n",
    "              'duration',\n",
    "              'orig_bytes',\n",
    "              'resp_bytes',\n",
    "              'conn_state',\n",
    "              'local_orig',\n",
    "              'local_resp',\n",
    "              'missed_bytes',\n",
    "              'history',\n",
    "              'orig_pkts',\n",
    "              'orig_ip_bytes',\n",
    "              'resp_pkts',\n",
    "              'resp_ip_bytes',\n",
    "              'label']\n",
    "df43.drop(df43.tail(1).index,inplace=True)"
   ],
   "metadata": {
    "collapsed": false,
    "ExecuteTime": {
     "end_time": "2023-09-03T15:04:46.703855800Z",
     "start_time": "2023-09-03T15:04:46.221061300Z"
    }
   }
  },
  {
   "cell_type": "code",
   "execution_count": 7,
   "outputs": [],
   "source": [
    "df44 = pd.read_table(filepath_or_buffer=capture_44, skiprows=10, nrows=100000)\n",
    "df44.columns=['ts',\n",
    "              'uid',\n",
    "              'id.orig_h',\n",
    "              'id.orig_p',\n",
    "              'id.resp_h',\n",
    "              'id.resp_p',\n",
    "              'proto',\n",
    "              'service',\n",
    "              'duration',\n",
    "              'orig_bytes',\n",
    "              'resp_bytes',\n",
    "              'conn_state',\n",
    "              'local_orig',\n",
    "              'local_resp',\n",
    "              'missed_bytes',\n",
    "              'history',\n",
    "              'orig_pkts',\n",
    "              'orig_ip_bytes',\n",
    "              'resp_pkts',\n",
    "              'resp_ip_bytes',\n",
    "              'label']\n",
    "df44.drop(df44.tail(1).index,inplace=True)"
   ],
   "metadata": {
    "collapsed": false,
    "ExecuteTime": {
     "end_time": "2023-09-03T15:05:02.226807400Z",
     "start_time": "2023-09-03T15:05:02.130562500Z"
    }
   }
  },
  {
   "cell_type": "code",
   "execution_count": 8,
   "outputs": [],
   "source": [
    "df49 = pd.read_table(filepath_or_buffer=capture_49, skiprows=10, nrows=100000)\n",
    "df49.columns=['ts',\n",
    "              'uid',\n",
    "              'id.orig_h',\n",
    "              'id.orig_p',\n",
    "              'id.resp_h',\n",
    "              'id.resp_p',\n",
    "              'proto',\n",
    "              'service',\n",
    "              'duration',\n",
    "              'orig_bytes',\n",
    "              'resp_bytes',\n",
    "              'conn_state',\n",
    "              'local_orig',\n",
    "              'local_resp',\n",
    "              'missed_bytes',\n",
    "              'history',\n",
    "              'orig_pkts',\n",
    "              'orig_ip_bytes',\n",
    "              'resp_pkts',\n",
    "              'resp_ip_bytes',\n",
    "              'label']\n",
    "df49.drop(df49.tail(1).index,inplace=True)"
   ],
   "metadata": {
    "collapsed": false,
    "ExecuteTime": {
     "end_time": "2023-09-03T15:05:15.836082400Z",
     "start_time": "2023-09-03T15:05:15.265117300Z"
    }
   }
  },
  {
   "cell_type": "code",
   "execution_count": 9,
   "outputs": [],
   "source": [
    "df52 = pd.read_table(filepath_or_buffer=capture_52, skiprows=10, nrows=100000)\n",
    "df52.columns=['ts',\n",
    "              'uid',\n",
    "              'id.orig_h',\n",
    "              'id.orig_p',\n",
    "              'id.resp_h',\n",
    "              'id.resp_p',\n",
    "              'proto',\n",
    "              'service',\n",
    "              'duration',\n",
    "              'orig_bytes',\n",
    "              'resp_bytes',\n",
    "              'conn_state',\n",
    "              'local_orig',\n",
    "              'local_resp',\n",
    "              'missed_bytes',\n",
    "              'history',\n",
    "              'orig_pkts',\n",
    "              'orig_ip_bytes',\n",
    "              'resp_pkts',\n",
    "              'resp_ip_bytes',\n",
    "              'label']\n",
    "df52.drop(df52.tail(1).index,inplace=True)"
   ],
   "metadata": {
    "collapsed": false,
    "ExecuteTime": {
     "end_time": "2023-09-03T15:05:29.390478400Z",
     "start_time": "2023-09-03T15:05:28.782128700Z"
    }
   }
  },
  {
   "cell_type": "code",
   "execution_count": 10,
   "outputs": [],
   "source": [
    "df20 = pd.read_table(filepath_or_buffer=capture_20, skiprows=10, nrows=100000)\n",
    "df20.columns=['ts',\n",
    "              'uid',\n",
    "              'id.orig_h',\n",
    "              'id.orig_p',\n",
    "              'id.resp_h',\n",
    "              'id.resp_p',\n",
    "              'proto',\n",
    "              'service',\n",
    "              'duration',\n",
    "              'orig_bytes',\n",
    "              'resp_bytes',\n",
    "              'conn_state',\n",
    "              'local_orig',\n",
    "              'local_resp',\n",
    "              'missed_bytes',\n",
    "              'history',\n",
    "              'orig_pkts',\n",
    "              'orig_ip_bytes',\n",
    "              'resp_pkts',\n",
    "              'resp_ip_bytes',\n",
    "              'label']\n",
    "df20.drop(df20.tail(1).index,inplace=True)"
   ],
   "metadata": {
    "collapsed": false,
    "ExecuteTime": {
     "end_time": "2023-09-03T15:05:39.932851200Z",
     "start_time": "2023-09-03T15:05:39.898038300Z"
    }
   }
  },
  {
   "cell_type": "code",
   "execution_count": 11,
   "outputs": [],
   "source": [
    "df21 = pd.read_table(filepath_or_buffer=capture_21, skiprows=10, nrows=100000)\n",
    "df21.columns=['ts',\n",
    "              'uid',\n",
    "              'id.orig_h',\n",
    "              'id.orig_p',\n",
    "              'id.resp_h',\n",
    "              'id.resp_p',\n",
    "              'proto',\n",
    "              'service',\n",
    "              'duration',\n",
    "              'orig_bytes',\n",
    "              'resp_bytes',\n",
    "              'conn_state',\n",
    "              'local_orig',\n",
    "              'local_resp',\n",
    "              'missed_bytes',\n",
    "              'history',\n",
    "              'orig_pkts',\n",
    "              'orig_ip_bytes',\n",
    "              'resp_pkts',\n",
    "              'resp_ip_bytes',\n",
    "              'label']\n",
    "df21.drop(df21.tail(1).index,inplace=True)"
   ],
   "metadata": {
    "collapsed": false,
    "ExecuteTime": {
     "end_time": "2023-09-03T15:05:51.423718900Z",
     "start_time": "2023-09-03T15:05:51.395469Z"
    }
   }
  },
  {
   "cell_type": "code",
   "execution_count": 12,
   "outputs": [],
   "source": [
    "df42 = pd.read_table(filepath_or_buffer=capture_42, skiprows=10, nrows=100000)\n",
    "df42.columns=['ts',\n",
    "              'uid',\n",
    "              'id.orig_h',\n",
    "              'id.orig_p',\n",
    "              'id.resp_h',\n",
    "              'id.resp_p',\n",
    "              'proto',\n",
    "              'service',\n",
    "              'duration',\n",
    "              'orig_bytes',\n",
    "              'resp_bytes',\n",
    "              'conn_state',\n",
    "              'local_orig',\n",
    "              'local_resp',\n",
    "              'missed_bytes',\n",
    "              'history',\n",
    "              'orig_pkts',\n",
    "              'orig_ip_bytes',\n",
    "              'resp_pkts',\n",
    "              'resp_ip_bytes',\n",
    "              'label']\n",
    "df42.drop(df42.tail(1).index,inplace=True)"
   ],
   "metadata": {
    "collapsed": false,
    "ExecuteTime": {
     "end_time": "2023-09-03T15:06:03.309138100Z",
     "start_time": "2023-09-03T15:06:03.272397Z"
    }
   }
  },
  {
   "cell_type": "code",
   "execution_count": 13,
   "outputs": [],
   "source": [
    "df60 = pd.read_table(filepath_or_buffer=capture_60, skiprows=10, nrows=100000)\n",
    "df60.columns=['ts',\n",
    "              'uid',\n",
    "              'id.orig_h',\n",
    "              'id.orig_p',\n",
    "              'id.resp_h',\n",
    "              'id.resp_p',\n",
    "              'proto',\n",
    "              'service',\n",
    "              'duration',\n",
    "              'orig_bytes',\n",
    "              'resp_bytes',\n",
    "              'conn_state',\n",
    "              'local_orig',\n",
    "              'local_resp',\n",
    "              'missed_bytes',\n",
    "              'history',\n",
    "              'orig_pkts',\n",
    "              'orig_ip_bytes',\n",
    "              'resp_pkts',\n",
    "              'resp_ip_bytes',\n",
    "              'label']\n",
    "df60.drop(df60.tail(1).index,inplace=True)"
   ],
   "metadata": {
    "collapsed": false,
    "ExecuteTime": {
     "end_time": "2023-09-03T15:06:15.858923700Z",
     "start_time": "2023-09-03T15:06:15.317444200Z"
    }
   }
  },
  {
   "cell_type": "code",
   "execution_count": 14,
   "outputs": [],
   "source": [
    "df17 = pd.read_table(filepath_or_buffer=capture_17, skiprows=10, nrows=100000)\n",
    "df17.columns=['ts',\n",
    "              'uid',\n",
    "              'id.orig_h',\n",
    "              'id.orig_p',\n",
    "              'id.resp_h',\n",
    "              'id.resp_p',\n",
    "              'proto',\n",
    "              'service',\n",
    "              'duration',\n",
    "              'orig_bytes',\n",
    "              'resp_bytes',\n",
    "              'conn_state',\n",
    "              'local_orig',\n",
    "              'local_resp',\n",
    "              'missed_bytes',\n",
    "              'history',\n",
    "              'orig_pkts',\n",
    "              'orig_ip_bytes',\n",
    "              'resp_pkts',\n",
    "              'resp_ip_bytes',\n",
    "              'label']\n",
    "df17.drop(df17.tail(1).index,inplace=True)"
   ],
   "metadata": {
    "collapsed": false,
    "ExecuteTime": {
     "end_time": "2023-09-03T15:06:26.892353400Z",
     "start_time": "2023-09-03T15:06:26.279737800Z"
    }
   }
  },
  {
   "cell_type": "code",
   "execution_count": 15,
   "outputs": [],
   "source": [
    "df36 = pd.read_table(filepath_or_buffer=capture_36, skiprows=10, nrows=100000)\n",
    "df36.columns=['ts',\n",
    "              'uid',\n",
    "              'id.orig_h',\n",
    "              'id.orig_p',\n",
    "              'id.resp_h',\n",
    "              'id.resp_p',\n",
    "              'proto',\n",
    "              'service',\n",
    "              'duration',\n",
    "              'orig_bytes',\n",
    "              'resp_bytes',\n",
    "              'conn_state',\n",
    "              'local_orig',\n",
    "              'local_resp',\n",
    "              'missed_bytes',\n",
    "              'history',\n",
    "              'orig_pkts',\n",
    "              'orig_ip_bytes',\n",
    "              'resp_pkts',\n",
    "              'resp_ip_bytes',\n",
    "              'label']\n",
    "df36.drop(df36.tail(1).index,inplace=True)"
   ],
   "metadata": {
    "collapsed": false,
    "ExecuteTime": {
     "end_time": "2023-09-03T15:06:39.340477700Z",
     "start_time": "2023-09-03T15:06:38.674944200Z"
    }
   }
  },
  {
   "cell_type": "code",
   "execution_count": 16,
   "outputs": [],
   "source": [
    "df33 = pd.read_table(filepath_or_buffer=capture_33, skiprows=10, nrows=100000)\n",
    "df33.columns=['ts',\n",
    "              'uid',\n",
    "              'id.orig_h',\n",
    "              'id.orig_p',\n",
    "              'id.resp_h',\n",
    "              'id.resp_p',\n",
    "              'proto',\n",
    "              'service',\n",
    "              'duration',\n",
    "              'orig_bytes',\n",
    "              'resp_bytes',\n",
    "              'conn_state',\n",
    "              'local_orig',\n",
    "              'local_resp',\n",
    "              'missed_bytes',\n",
    "              'history',\n",
    "              'orig_pkts',\n",
    "              'orig_ip_bytes',\n",
    "              'resp_pkts',\n",
    "              'resp_ip_bytes',\n",
    "              'label']\n",
    "df33.drop(df33.tail(1).index,inplace=True)"
   ],
   "metadata": {
    "collapsed": false,
    "ExecuteTime": {
     "end_time": "2023-09-03T15:06:50.173072Z",
     "start_time": "2023-09-03T15:06:49.471941Z"
    }
   }
  },
  {
   "cell_type": "code",
   "execution_count": 17,
   "outputs": [],
   "source": [
    "df8 = pd.read_table(filepath_or_buffer=capture_8, skiprows=10, nrows=100000)\n",
    "df8.columns=['ts',\n",
    "             'uid',\n",
    "             'id.orig_h',\n",
    "             'id.orig_p',\n",
    "             'id.resp_h',\n",
    "             'id.resp_p',\n",
    "             'proto',\n",
    "             'service',\n",
    "             'duration',\n",
    "             'orig_bytes',\n",
    "             'resp_bytes',\n",
    "             'conn_state',\n",
    "             'local_orig',\n",
    "             'local_resp',\n",
    "             'missed_bytes',\n",
    "             'history',\n",
    "             'orig_pkts',\n",
    "             'orig_ip_bytes',\n",
    "             'resp_pkts',\n",
    "             'resp_ip_bytes',\n",
    "             'label']\n",
    "df8.drop(df8.tail(1).index,inplace=True)"
   ],
   "metadata": {
    "collapsed": false,
    "ExecuteTime": {
     "end_time": "2023-09-03T15:07:01.302261700Z",
     "start_time": "2023-09-03T15:07:01.273278900Z"
    }
   }
  },
  {
   "cell_type": "code",
   "execution_count": 18,
   "outputs": [],
   "source": [
    "df35 = pd.read_table(filepath_or_buffer=capture_35, skiprows=10, nrows=100000)\n",
    "df35.columns=['ts',\n",
    "              'uid',\n",
    "              'id.orig_h',\n",
    "              'id.orig_p',\n",
    "              'id.resp_h',\n",
    "              'id.resp_p',\n",
    "              'proto',\n",
    "              'service',\n",
    "              'duration',\n",
    "              'orig_bytes',\n",
    "              'resp_bytes',\n",
    "              'conn_state',\n",
    "              'local_orig',\n",
    "              'local_resp',\n",
    "              'missed_bytes',\n",
    "              'history',\n",
    "              'orig_pkts',\n",
    "              'orig_ip_bytes',\n",
    "              'resp_pkts',\n",
    "              'resp_ip_bytes',\n",
    "              'label']\n",
    "df35.drop(df35.tail(1).index,inplace=True)"
   ],
   "metadata": {
    "collapsed": false,
    "ExecuteTime": {
     "end_time": "2023-09-03T15:07:12.910321Z",
     "start_time": "2023-09-03T15:07:12.278610700Z"
    }
   }
  },
  {
   "cell_type": "code",
   "execution_count": 19,
   "outputs": [],
   "source": [
    "df48 = pd.read_table(filepath_or_buffer=capture_48, skiprows=10, nrows=100000)\n",
    "df48.columns=['ts',\n",
    "              'uid',\n",
    "              'id.orig_h',\n",
    "              'id.orig_p',\n",
    "              'id.resp_h',\n",
    "              'id.resp_p',\n",
    "              'proto',\n",
    "              'service',\n",
    "              'duration',\n",
    "              'orig_bytes',\n",
    "              'resp_bytes',\n",
    "              'conn_state',\n",
    "              'local_orig',\n",
    "              'local_resp',\n",
    "              'missed_bytes',\n",
    "              'history',\n",
    "              'orig_pkts',\n",
    "              'orig_ip_bytes',\n",
    "              'resp_pkts',\n",
    "              'resp_ip_bytes',\n",
    "              'label']\n",
    "df48.drop(df48.tail(1).index,inplace=True)"
   ],
   "metadata": {
    "collapsed": false,
    "ExecuteTime": {
     "end_time": "2023-09-03T15:07:24.746883900Z",
     "start_time": "2023-09-03T15:07:24.124209800Z"
    }
   }
  },
  {
   "cell_type": "code",
   "execution_count": 20,
   "outputs": [],
   "source": [
    "df39 = pd.read_table(filepath_or_buffer=capture_39, skiprows=10, nrows=100000)\n",
    "df39.columns=['ts',\n",
    "              'uid',\n",
    "              'id.orig_h',\n",
    "              'id.orig_p',\n",
    "              'id.resp_h',\n",
    "              'id.resp_p',\n",
    "              'proto',\n",
    "              'service',\n",
    "              'duration',\n",
    "              'orig_bytes',\n",
    "              'resp_bytes',\n",
    "              'conn_state',\n",
    "              'local_orig',\n",
    "              'local_resp',\n",
    "              'missed_bytes',\n",
    "              'history',\n",
    "              'orig_pkts',\n",
    "              'orig_ip_bytes',\n",
    "              'resp_pkts',\n",
    "              'resp_ip_bytes',\n",
    "              'label']\n",
    "df39.drop(df39.tail(1).index,inplace=True)"
   ],
   "metadata": {
    "collapsed": false,
    "ExecuteTime": {
     "end_time": "2023-09-03T15:07:46.339385400Z",
     "start_time": "2023-09-03T15:07:45.466540600Z"
    }
   }
  },
  {
   "cell_type": "code",
   "execution_count": 21,
   "outputs": [],
   "source": [
    "df7 = pd.read_table(filepath_or_buffer=capture_7, skiprows=10, nrows=100000)\n",
    "df7.columns=['ts',\n",
    "             'uid',\n",
    "             'id.orig_h',\n",
    "             'id.orig_p',\n",
    "             'id.resp_h',\n",
    "             'id.resp_p',\n",
    "             'proto',\n",
    "             'service',\n",
    "             'duration',\n",
    "             'orig_bytes',\n",
    "             'resp_bytes',\n",
    "             'conn_state',\n",
    "             'local_orig',\n",
    "             'local_resp',\n",
    "             'missed_bytes',\n",
    "             'history',\n",
    "             'orig_pkts',\n",
    "             'orig_ip_bytes',\n",
    "             'resp_pkts',\n",
    "             'resp_ip_bytes',\n",
    "             'label']\n",
    "df7.drop(df7.tail(1).index,inplace=True)"
   ],
   "metadata": {
    "collapsed": false,
    "ExecuteTime": {
     "end_time": "2023-09-03T15:07:55.536106300Z",
     "start_time": "2023-09-03T15:07:55.516490500Z"
    }
   }
  },
  {
   "cell_type": "code",
   "execution_count": 22,
   "outputs": [],
   "source": [
    "df9 = pd.read_table(filepath_or_buffer=capture_9, skiprows=10, nrows=100000)\n",
    "df9.columns=['ts',\n",
    "             'uid',\n",
    "             'id.orig_h',\n",
    "             'id.orig_p',\n",
    "             'id.resp_h',\n",
    "             'id.resp_p',\n",
    "             'proto',\n",
    "             'service',\n",
    "             'duration',\n",
    "             'orig_bytes',\n",
    "             'resp_bytes',\n",
    "             'conn_state',\n",
    "             'local_orig',\n",
    "             'local_resp',\n",
    "             'missed_bytes',\n",
    "             'history',\n",
    "             'orig_pkts',\n",
    "             'orig_ip_bytes',\n",
    "             'resp_pkts',\n",
    "             'resp_ip_bytes',\n",
    "             'label']\n",
    "df9.drop(df9.tail(1).index,inplace=True)"
   ],
   "metadata": {
    "collapsed": false,
    "ExecuteTime": {
     "end_time": "2023-09-03T15:08:09.616674Z",
     "start_time": "2023-09-03T15:08:09.338249200Z"
    }
   }
  },
  {
   "cell_type": "code",
   "execution_count": 23,
   "outputs": [],
   "source": [
    "df3 = pd.read_table(filepath_or_buffer=capture_3, skiprows=10, nrows=100000)\n",
    "df3.columns=['ts',\n",
    "             'uid',\n",
    "             'id.orig_h',\n",
    "             'id.orig_p',\n",
    "             'id.resp_h',\n",
    "             'id.resp_p',\n",
    "             'proto',\n",
    "             'service',\n",
    "             'duration',\n",
    "             'orig_bytes',\n",
    "             'resp_bytes',\n",
    "             'conn_state',\n",
    "             'local_orig',\n",
    "             'local_resp',\n",
    "             'missed_bytes',\n",
    "             'history',\n",
    "             'orig_pkts',\n",
    "             'orig_ip_bytes',\n",
    "             'resp_pkts',\n",
    "             'resp_ip_bytes',\n",
    "             'label']\n",
    "df3.drop(df3.tail(1).index,inplace=True)"
   ],
   "metadata": {
    "collapsed": false,
    "ExecuteTime": {
     "end_time": "2023-09-03T15:08:22.374898Z",
     "start_time": "2023-09-03T15:08:21.664103600Z"
    }
   }
  },
  {
   "cell_type": "code",
   "execution_count": 24,
   "outputs": [],
   "source": [
    "df1 = pd.read_table(filepath_or_buffer=capture_1, skiprows=10, nrows=100000)\n",
    "df1.columns=['ts',\n",
    "             'uid',\n",
    "             'id.orig_h',\n",
    "             'id.orig_p',\n",
    "             'id.resp_h',\n",
    "             'id.resp_p',\n",
    "             'proto',\n",
    "             'service',\n",
    "             'duration',\n",
    "             'orig_bytes',\n",
    "             'resp_bytes',\n",
    "             'conn_state',\n",
    "             'local_orig',\n",
    "             'local_resp',\n",
    "             'missed_bytes',\n",
    "             'history',\n",
    "             'orig_pkts',\n",
    "             'orig_ip_bytes',\n",
    "             'resp_pkts',\n",
    "             'resp_ip_bytes',\n",
    "             'label']\n",
    "df1.drop(df1.tail(1).index,inplace=True)"
   ],
   "metadata": {
    "collapsed": false,
    "ExecuteTime": {
     "end_time": "2023-09-03T15:08:34.602776100Z",
     "start_time": "2023-09-03T15:08:34.067041300Z"
    }
   }
  },
  {
   "cell_type": "code",
   "execution_count": 25,
   "outputs": [],
   "source": [
    "frames=[df1, df17, df20, df21, df3, df33, df34, df35, df36, df39, df42, df43, df44, df48, df49, df52, df60, df7, df8, df9]"
   ],
   "metadata": {
    "collapsed": false,
    "ExecuteTime": {
     "end_time": "2023-09-03T15:08:51.155259800Z",
     "start_time": "2023-09-03T15:08:51.137257600Z"
    }
   }
  },
  {
   "cell_type": "code",
   "execution_count": 26,
   "outputs": [],
   "source": [
    "df_c=pd.concat(frames)"
   ],
   "metadata": {
    "collapsed": false,
    "ExecuteTime": {
     "end_time": "2023-09-03T15:09:01.076583500Z",
     "start_time": "2023-09-03T15:09:00.758309900Z"
    }
   }
  },
  {
   "cell_type": "code",
   "execution_count": 27,
   "outputs": [
    {
     "data": {
      "text/plain": "                      ts                 uid        id.orig_h  id.orig_p   \n0       1525879832.01624   CDe43c1PtgynajGI6  192.168.100.103    60905.0  \\\n1      1525879832.024985  CJaDcG3MZzvf1YVYI4  192.168.100.103    44301.0   \n2      1525879832.044975  CMBrup3BLXivSp4Avc  192.168.100.103    50244.0   \n3      1525879833.016171  CfHl9r3XMYtDQRrHnh  192.168.100.103    34243.0   \n4      1525879833.044906  C7USrA15nFVkniMqC5  192.168.100.103    34840.0   \n...                  ...                 ...              ...        ...   \n99994  1532526102.004508  CMeH6R2aua5c5Dd65a  192.168.100.111    41762.0   \n99995   1532526102.00451  CvqGx33hsXDpDVXa1i  192.168.100.111    58758.0   \n99996  1532526102.004511   CC83RoUd9RLFuTL81  192.168.100.111    40400.0   \n99997  1532526102.004752  C4ISld2cuSukEEuQtk  192.168.100.111    27117.0   \n99998  1532526102.004756   C4U1azYmDx32faVY7  192.168.100.111    23227.0   \n\n             id.resp_h  id.resp_p proto service  duration orig_bytes  ...   \n0      131.174.215.147       23.0   tcp       -  2.998796          0  ...  \\\n1          91.42.47.63       23.0   tcp       -         -          -  ...   \n2      120.210.108.200       23.0   tcp       -         -          -  ...   \n3         147.7.65.203    49560.0   tcp       -  2.998804          0  ...   \n4         145.164.35.6    21288.0   tcp       -         -          -  ...   \n...                ...        ...   ...     ...       ...        ...  ...   \n99994  221.182.209.127       23.0   tcp       -         -          -  ...   \n99995    208.50.139.48       23.0   tcp       -         -          -  ...   \n99996     40.95.136.51       23.0   tcp       -         -          -  ...   \n99997   122.37.183.236       23.0   tcp       -         -          -  ...   \n99998   189.62.234.179       23.0   tcp       -         -          -  ...   \n\n      conn_state local_orig local_resp missed_bytes  history orig_pkts   \n0             S0          -          -          0.0        S       3.0  \\\n1             S0          -          -          0.0        S       1.0   \n2             S0          -          -          0.0        S       1.0   \n3             S0          -          -          0.0        S       3.0   \n4             S0          -          -          0.0        S       1.0   \n...          ...        ...        ...          ...      ...       ...   \n99994         S0          -          -          0.0        S       1.0   \n99995         S0          -          -          0.0        S       1.0   \n99996         S0          -          -          0.0        S       1.0   \n99997         S0          -          -          0.0        S       1.0   \n99998         S0          -          -          0.0        S       1.0   \n\n       orig_ip_bytes  resp_pkts  resp_ip_bytes   \n0              180.0        0.0            0.0  \\\n1               60.0        0.0            0.0   \n2               60.0        0.0            0.0   \n3              180.0        0.0            0.0   \n4               60.0        0.0            0.0   \n...              ...        ...            ...   \n99994           40.0        0.0            0.0   \n99995           40.0        0.0            0.0   \n99996           40.0        0.0            0.0   \n99997           40.0        0.0            0.0   \n99998           40.0        0.0            0.0   \n\n                                                 label  \n0      (empty)   Malicious   PartOfAHorizontalPortScan  \n1      (empty)   Malicious   PartOfAHorizontalPortScan  \n2      (empty)   Malicious   PartOfAHorizontalPortScan  \n3                                 (empty)   Benign   -  \n4                                 (empty)   Benign   -  \n...                                                ...  \n99994  (empty)   Malicious   PartOfAHorizontalPortScan  \n99995  (empty)   Malicious   PartOfAHorizontalPortScan  \n99996  (empty)   Malicious   PartOfAHorizontalPortScan  \n99997  (empty)   Malicious   PartOfAHorizontalPortScan  \n99998  (empty)   Malicious   PartOfAHorizontalPortScan  \n\n[1344802 rows x 21 columns]",
      "text/html": "<div>\n<style scoped>\n    .dataframe tbody tr th:only-of-type {\n        vertical-align: middle;\n    }\n\n    .dataframe tbody tr th {\n        vertical-align: top;\n    }\n\n    .dataframe thead th {\n        text-align: right;\n    }\n</style>\n<table border=\"1\" class=\"dataframe\">\n  <thead>\n    <tr style=\"text-align: right;\">\n      <th></th>\n      <th>ts</th>\n      <th>uid</th>\n      <th>id.orig_h</th>\n      <th>id.orig_p</th>\n      <th>id.resp_h</th>\n      <th>id.resp_p</th>\n      <th>proto</th>\n      <th>service</th>\n      <th>duration</th>\n      <th>orig_bytes</th>\n      <th>...</th>\n      <th>conn_state</th>\n      <th>local_orig</th>\n      <th>local_resp</th>\n      <th>missed_bytes</th>\n      <th>history</th>\n      <th>orig_pkts</th>\n      <th>orig_ip_bytes</th>\n      <th>resp_pkts</th>\n      <th>resp_ip_bytes</th>\n      <th>label</th>\n    </tr>\n  </thead>\n  <tbody>\n    <tr>\n      <th>0</th>\n      <td>1525879832.01624</td>\n      <td>CDe43c1PtgynajGI6</td>\n      <td>192.168.100.103</td>\n      <td>60905.0</td>\n      <td>131.174.215.147</td>\n      <td>23.0</td>\n      <td>tcp</td>\n      <td>-</td>\n      <td>2.998796</td>\n      <td>0</td>\n      <td>...</td>\n      <td>S0</td>\n      <td>-</td>\n      <td>-</td>\n      <td>0.0</td>\n      <td>S</td>\n      <td>3.0</td>\n      <td>180.0</td>\n      <td>0.0</td>\n      <td>0.0</td>\n      <td>(empty)   Malicious   PartOfAHorizontalPortScan</td>\n    </tr>\n    <tr>\n      <th>1</th>\n      <td>1525879832.024985</td>\n      <td>CJaDcG3MZzvf1YVYI4</td>\n      <td>192.168.100.103</td>\n      <td>44301.0</td>\n      <td>91.42.47.63</td>\n      <td>23.0</td>\n      <td>tcp</td>\n      <td>-</td>\n      <td>-</td>\n      <td>-</td>\n      <td>...</td>\n      <td>S0</td>\n      <td>-</td>\n      <td>-</td>\n      <td>0.0</td>\n      <td>S</td>\n      <td>1.0</td>\n      <td>60.0</td>\n      <td>0.0</td>\n      <td>0.0</td>\n      <td>(empty)   Malicious   PartOfAHorizontalPortScan</td>\n    </tr>\n    <tr>\n      <th>2</th>\n      <td>1525879832.044975</td>\n      <td>CMBrup3BLXivSp4Avc</td>\n      <td>192.168.100.103</td>\n      <td>50244.0</td>\n      <td>120.210.108.200</td>\n      <td>23.0</td>\n      <td>tcp</td>\n      <td>-</td>\n      <td>-</td>\n      <td>-</td>\n      <td>...</td>\n      <td>S0</td>\n      <td>-</td>\n      <td>-</td>\n      <td>0.0</td>\n      <td>S</td>\n      <td>1.0</td>\n      <td>60.0</td>\n      <td>0.0</td>\n      <td>0.0</td>\n      <td>(empty)   Malicious   PartOfAHorizontalPortScan</td>\n    </tr>\n    <tr>\n      <th>3</th>\n      <td>1525879833.016171</td>\n      <td>CfHl9r3XMYtDQRrHnh</td>\n      <td>192.168.100.103</td>\n      <td>34243.0</td>\n      <td>147.7.65.203</td>\n      <td>49560.0</td>\n      <td>tcp</td>\n      <td>-</td>\n      <td>2.998804</td>\n      <td>0</td>\n      <td>...</td>\n      <td>S0</td>\n      <td>-</td>\n      <td>-</td>\n      <td>0.0</td>\n      <td>S</td>\n      <td>3.0</td>\n      <td>180.0</td>\n      <td>0.0</td>\n      <td>0.0</td>\n      <td>(empty)   Benign   -</td>\n    </tr>\n    <tr>\n      <th>4</th>\n      <td>1525879833.044906</td>\n      <td>C7USrA15nFVkniMqC5</td>\n      <td>192.168.100.103</td>\n      <td>34840.0</td>\n      <td>145.164.35.6</td>\n      <td>21288.0</td>\n      <td>tcp</td>\n      <td>-</td>\n      <td>-</td>\n      <td>-</td>\n      <td>...</td>\n      <td>S0</td>\n      <td>-</td>\n      <td>-</td>\n      <td>0.0</td>\n      <td>S</td>\n      <td>1.0</td>\n      <td>60.0</td>\n      <td>0.0</td>\n      <td>0.0</td>\n      <td>(empty)   Benign   -</td>\n    </tr>\n    <tr>\n      <th>...</th>\n      <td>...</td>\n      <td>...</td>\n      <td>...</td>\n      <td>...</td>\n      <td>...</td>\n      <td>...</td>\n      <td>...</td>\n      <td>...</td>\n      <td>...</td>\n      <td>...</td>\n      <td>...</td>\n      <td>...</td>\n      <td>...</td>\n      <td>...</td>\n      <td>...</td>\n      <td>...</td>\n      <td>...</td>\n      <td>...</td>\n      <td>...</td>\n      <td>...</td>\n      <td>...</td>\n    </tr>\n    <tr>\n      <th>99994</th>\n      <td>1532526102.004508</td>\n      <td>CMeH6R2aua5c5Dd65a</td>\n      <td>192.168.100.111</td>\n      <td>41762.0</td>\n      <td>221.182.209.127</td>\n      <td>23.0</td>\n      <td>tcp</td>\n      <td>-</td>\n      <td>-</td>\n      <td>-</td>\n      <td>...</td>\n      <td>S0</td>\n      <td>-</td>\n      <td>-</td>\n      <td>0.0</td>\n      <td>S</td>\n      <td>1.0</td>\n      <td>40.0</td>\n      <td>0.0</td>\n      <td>0.0</td>\n      <td>(empty)   Malicious   PartOfAHorizontalPortScan</td>\n    </tr>\n    <tr>\n      <th>99995</th>\n      <td>1532526102.00451</td>\n      <td>CvqGx33hsXDpDVXa1i</td>\n      <td>192.168.100.111</td>\n      <td>58758.0</td>\n      <td>208.50.139.48</td>\n      <td>23.0</td>\n      <td>tcp</td>\n      <td>-</td>\n      <td>-</td>\n      <td>-</td>\n      <td>...</td>\n      <td>S0</td>\n      <td>-</td>\n      <td>-</td>\n      <td>0.0</td>\n      <td>S</td>\n      <td>1.0</td>\n      <td>40.0</td>\n      <td>0.0</td>\n      <td>0.0</td>\n      <td>(empty)   Malicious   PartOfAHorizontalPortScan</td>\n    </tr>\n    <tr>\n      <th>99996</th>\n      <td>1532526102.004511</td>\n      <td>CC83RoUd9RLFuTL81</td>\n      <td>192.168.100.111</td>\n      <td>40400.0</td>\n      <td>40.95.136.51</td>\n      <td>23.0</td>\n      <td>tcp</td>\n      <td>-</td>\n      <td>-</td>\n      <td>-</td>\n      <td>...</td>\n      <td>S0</td>\n      <td>-</td>\n      <td>-</td>\n      <td>0.0</td>\n      <td>S</td>\n      <td>1.0</td>\n      <td>40.0</td>\n      <td>0.0</td>\n      <td>0.0</td>\n      <td>(empty)   Malicious   PartOfAHorizontalPortScan</td>\n    </tr>\n    <tr>\n      <th>99997</th>\n      <td>1532526102.004752</td>\n      <td>C4ISld2cuSukEEuQtk</td>\n      <td>192.168.100.111</td>\n      <td>27117.0</td>\n      <td>122.37.183.236</td>\n      <td>23.0</td>\n      <td>tcp</td>\n      <td>-</td>\n      <td>-</td>\n      <td>-</td>\n      <td>...</td>\n      <td>S0</td>\n      <td>-</td>\n      <td>-</td>\n      <td>0.0</td>\n      <td>S</td>\n      <td>1.0</td>\n      <td>40.0</td>\n      <td>0.0</td>\n      <td>0.0</td>\n      <td>(empty)   Malicious   PartOfAHorizontalPortScan</td>\n    </tr>\n    <tr>\n      <th>99998</th>\n      <td>1532526102.004756</td>\n      <td>C4U1azYmDx32faVY7</td>\n      <td>192.168.100.111</td>\n      <td>23227.0</td>\n      <td>189.62.234.179</td>\n      <td>23.0</td>\n      <td>tcp</td>\n      <td>-</td>\n      <td>-</td>\n      <td>-</td>\n      <td>...</td>\n      <td>S0</td>\n      <td>-</td>\n      <td>-</td>\n      <td>0.0</td>\n      <td>S</td>\n      <td>1.0</td>\n      <td>40.0</td>\n      <td>0.0</td>\n      <td>0.0</td>\n      <td>(empty)   Malicious   PartOfAHorizontalPortScan</td>\n    </tr>\n  </tbody>\n</table>\n<p>1344802 rows × 21 columns</p>\n</div>"
     },
     "execution_count": 27,
     "metadata": {},
     "output_type": "execute_result"
    }
   ],
   "source": [
    "df_c"
   ],
   "metadata": {
    "collapsed": false,
    "ExecuteTime": {
     "end_time": "2023-09-03T15:09:12.733769500Z",
     "start_time": "2023-09-03T15:09:11.850739900Z"
    }
   }
  },
  {
   "cell_type": "code",
   "execution_count": 28,
   "outputs": [
    {
     "data": {
      "text/plain": "(1344802, 21)"
     },
     "execution_count": 28,
     "metadata": {},
     "output_type": "execute_result"
    }
   ],
   "source": [
    "df_c.shape"
   ],
   "metadata": {
    "collapsed": false,
    "ExecuteTime": {
     "end_time": "2023-09-03T15:09:44.865492200Z",
     "start_time": "2023-09-03T15:09:44.841491500Z"
    }
   }
  },
  {
   "cell_type": "code",
   "execution_count": 29,
   "outputs": [
    {
     "data": {
      "text/plain": "label\n-   Malicious   PartOfAHorizontalPortScan          578916\n(empty)   Malicious   PartOfAHorizontalPortScan    247023\n-   Malicious   Okiru                              163016\n-   Benign   -                                     146275\n-   Malicious   DDoS                               138777\n(empty)   Benign   -                                51331\n(empty)   Malicious   C&C                            8229\n-   Malicious   C&C                                  6871\n(empty)   Malicious   Attack                         3814\n-   Malicious   C&C-HeartBeat                         227\n-   benign   -                                        127\n-   Malicious   Attack                                101\n-   Malicious   C&C-FileDownload                       43\n-   Malicious   C&C-Torii                              30\n-   Malicious   FileDownload                           13\n-   Malicious   C&C-HeartBeat-FileDownload              8\n-   Malicious   C&C-Mirai                               1\nName: count, dtype: int64"
     },
     "execution_count": 29,
     "metadata": {},
     "output_type": "execute_result"
    }
   ],
   "source": [
    "df_c['label'].value_counts()"
   ],
   "metadata": {
    "collapsed": false,
    "ExecuteTime": {
     "end_time": "2023-09-03T15:09:56.961630700Z",
     "start_time": "2023-09-03T15:09:56.953138400Z"
    }
   }
  },
  {
   "cell_type": "code",
   "execution_count": 30,
   "outputs": [],
   "source": [
    "df_c.loc[(df_c.label == '-   Malicious   PartOfAHorizontalPortScan'), 'label'] = 'PartOfAHorizontalPortScan'\n",
    "df_c.loc[(df_c.label == '(empty)   Malicious   PartOfAHorizontalPortScan'), 'label'] = 'PartOfAHorizontalPortScan'\n",
    "df_c.loc[(df_c.label == '-   Malicious   Okiru'), 'label'] = 'Okiru'\n",
    "df_c.loc[(df_c.label == '(empty)   Malicious   Okiru'), 'label'] = 'Okiru'\n",
    "df_c.loc[(df_c.label == '-   Benign   -'), 'label'] = 'Benign'\n",
    "df_c.loc[(df_c.label == '(empty)   Benign   -'), 'label'] = 'Benign'\n",
    "df_c.loc[(df_c.label == '-   Malicious   DDoS'), 'label'] = 'DDoS'\n",
    "df_c.loc[(df_c.label == '-   Malicious   C&C'), 'label'] = 'C&C'\n",
    "df_c.loc[(df_c.label == '(empty)   Malicious   C&C'), 'label'] = 'C&C'\n",
    "df_c.loc[(df_c.label == '-   Malicious   Attack'), 'label'] = 'Attack'\n",
    "df_c.loc[(df_c.label == '(empty)   Malicious   Attack'), 'label'] = 'Attack'\n",
    "df_c.loc[(df_c.label == '-   Malicious   C&C-HeartBeat'), 'label'] = 'C&C-HeartBeat'\n",
    "df_c.loc[(df_c.label == '(empty)   Malicious   C&C-HeartBeat'), 'label'] = 'C&C-HeartBeat'\n",
    "df_c.loc[(df_c.label == '-   Malicious   C&C-FileDownload'), 'label'] = 'C&C-FileDownload'\n",
    "df_c.loc[(df_c.label == '-   Malicious   C&C-Torii'), 'label'] = 'C&C-Torii'\n",
    "df_c.loc[(df_c.label == '-   Malicious   C&C-HeartBeat-FileDownload'), 'label'] = 'C&C-HeartBeat-FileDownload'\n",
    "df_c.loc[(df_c.label == '-   Malicious   FileDownload'), 'label'] = 'FileDownload'\n",
    "df_c.loc[(df_c.label == '-   Malicious   C&C-Mirai'), 'label'] = 'C&C-Mirai'\n",
    "df_c.loc[(df_c.label == '-   Malicious   Okiru-Attack'), 'label'] = 'Okiru-Attack'"
   ],
   "metadata": {
    "collapsed": false,
    "ExecuteTime": {
     "end_time": "2023-09-03T15:11:42.854274Z",
     "start_time": "2023-09-03T15:11:41.516106900Z"
    }
   }
  },
  {
   "cell_type": "code",
   "execution_count": 31,
   "outputs": [
    {
     "data": {
      "text/plain": "label\nPartOfAHorizontalPortScan     825939\nBenign                        197606\nOkiru                         163016\nDDoS                          138777\nC&C                            15100\nAttack                          3915\nC&C-HeartBeat                    227\n-   benign   -                   127\nC&C-FileDownload                  43\nC&C-Torii                         30\nFileDownload                      13\nC&C-HeartBeat-FileDownload         8\nC&C-Mirai                          1\nName: count, dtype: int64"
     },
     "execution_count": 31,
     "metadata": {},
     "output_type": "execute_result"
    }
   ],
   "source": [
    "df_c['label'].value_counts()"
   ],
   "metadata": {
    "collapsed": false,
    "ExecuteTime": {
     "end_time": "2023-09-03T15:12:05.574822700Z",
     "start_time": "2023-09-03T15:12:05.532463300Z"
    }
   }
  },
  {
   "cell_type": "code",
   "execution_count": 32,
   "outputs": [],
   "source": [
    "pd.options.display.max_rows = 300\n",
    "pd.options.display.max_columns = 300"
   ],
   "metadata": {
    "collapsed": false,
    "ExecuteTime": {
     "end_time": "2023-09-03T15:12:26.341507200Z",
     "start_time": "2023-09-03T15:12:26.319449100Z"
    }
   }
  },
  {
   "cell_type": "code",
   "execution_count": 33,
   "outputs": [],
   "source": [
    "df_c = df_c.drop(columns=['ts','uid','id.orig_h','id.orig_p','id.resp_h','id.resp_p',\n",
    "                          'service','local_orig','local_resp','history'])"
   ],
   "metadata": {
    "collapsed": false,
    "ExecuteTime": {
     "end_time": "2023-09-03T15:12:38.442187800Z",
     "start_time": "2023-09-03T15:12:38.385515500Z"
    }
   }
  },
  {
   "cell_type": "code",
   "execution_count": 34,
   "outputs": [],
   "source": [
    "df_c = pd.get_dummies(df_c, columns=['proto'])\n",
    "df_c = pd.get_dummies(df_c, columns=['conn_state'])"
   ],
   "metadata": {
    "collapsed": false,
    "ExecuteTime": {
     "end_time": "2023-09-03T15:12:50.400476300Z",
     "start_time": "2023-09-03T15:12:49.712111700Z"
    }
   }
  },
  {
   "cell_type": "code",
   "execution_count": 35,
   "outputs": [
    {
     "data": {
      "text/plain": "       duration orig_bytes resp_bytes  missed_bytes  orig_pkts  orig_ip_bytes   \n0      2.998796          0          0           0.0        3.0          180.0  \\\n1             -          -          -           0.0        1.0           60.0   \n2             -          -          -           0.0        1.0           60.0   \n3      2.998804          0          0           0.0        3.0          180.0   \n4             -          -          -           0.0        1.0           60.0   \n...         ...        ...        ...           ...        ...            ...   \n99994         -          -          -           0.0        1.0           40.0   \n99995         -          -          -           0.0        1.0           40.0   \n99996         -          -          -           0.0        1.0           40.0   \n99997         -          -          -           0.0        1.0           40.0   \n99998         -          -          -           0.0        1.0           40.0   \n\n       resp_pkts  resp_ip_bytes                      label  proto_icmp   \n0            0.0            0.0  PartOfAHorizontalPortScan       False  \\\n1            0.0            0.0  PartOfAHorizontalPortScan       False   \n2            0.0            0.0  PartOfAHorizontalPortScan       False   \n3            0.0            0.0                     Benign       False   \n4            0.0            0.0                     Benign       False   \n...          ...            ...                        ...         ...   \n99994        0.0            0.0  PartOfAHorizontalPortScan       False   \n99995        0.0            0.0  PartOfAHorizontalPortScan       False   \n99996        0.0            0.0  PartOfAHorizontalPortScan       False   \n99997        0.0            0.0  PartOfAHorizontalPortScan       False   \n99998        0.0            0.0  PartOfAHorizontalPortScan       False   \n\n       proto_tcp  proto_udp  conn_state_OTH  conn_state_REJ  conn_state_RSTO   \n0           True      False           False           False            False  \\\n1           True      False           False           False            False   \n2           True      False           False           False            False   \n3           True      False           False           False            False   \n4           True      False           False           False            False   \n...          ...        ...             ...             ...              ...   \n99994       True      False           False           False            False   \n99995       True      False           False           False            False   \n99996       True      False           False           False            False   \n99997       True      False           False           False            False   \n99998       True      False           False           False            False   \n\n       conn_state_RSTOS0  conn_state_RSTR  conn_state_RSTRH  conn_state_S0   \n0                  False            False             False           True  \\\n1                  False            False             False           True   \n2                  False            False             False           True   \n3                  False            False             False           True   \n4                  False            False             False           True   \n...                  ...              ...               ...            ...   \n99994              False            False             False           True   \n99995              False            False             False           True   \n99996              False            False             False           True   \n99997              False            False             False           True   \n99998              False            False             False           True   \n\n       conn_state_S1  conn_state_S2  conn_state_S3  conn_state_SF   \n0              False          False          False          False  \\\n1              False          False          False          False   \n2              False          False          False          False   \n3              False          False          False          False   \n4              False          False          False          False   \n...              ...            ...            ...            ...   \n99994          False          False          False          False   \n99995          False          False          False          False   \n99996          False          False          False          False   \n99997          False          False          False          False   \n99998          False          False          False          False   \n\n       conn_state_SH  conn_state_SHR  \n0              False           False  \n1              False           False  \n2              False           False  \n3              False           False  \n4              False           False  \n...              ...             ...  \n99994          False           False  \n99995          False           False  \n99996          False           False  \n99997          False           False  \n99998          False           False  \n\n[1344802 rows x 25 columns]",
      "text/html": "<div>\n<style scoped>\n    .dataframe tbody tr th:only-of-type {\n        vertical-align: middle;\n    }\n\n    .dataframe tbody tr th {\n        vertical-align: top;\n    }\n\n    .dataframe thead th {\n        text-align: right;\n    }\n</style>\n<table border=\"1\" class=\"dataframe\">\n  <thead>\n    <tr style=\"text-align: right;\">\n      <th></th>\n      <th>duration</th>\n      <th>orig_bytes</th>\n      <th>resp_bytes</th>\n      <th>missed_bytes</th>\n      <th>orig_pkts</th>\n      <th>orig_ip_bytes</th>\n      <th>resp_pkts</th>\n      <th>resp_ip_bytes</th>\n      <th>label</th>\n      <th>proto_icmp</th>\n      <th>proto_tcp</th>\n      <th>proto_udp</th>\n      <th>conn_state_OTH</th>\n      <th>conn_state_REJ</th>\n      <th>conn_state_RSTO</th>\n      <th>conn_state_RSTOS0</th>\n      <th>conn_state_RSTR</th>\n      <th>conn_state_RSTRH</th>\n      <th>conn_state_S0</th>\n      <th>conn_state_S1</th>\n      <th>conn_state_S2</th>\n      <th>conn_state_S3</th>\n      <th>conn_state_SF</th>\n      <th>conn_state_SH</th>\n      <th>conn_state_SHR</th>\n    </tr>\n  </thead>\n  <tbody>\n    <tr>\n      <th>0</th>\n      <td>2.998796</td>\n      <td>0</td>\n      <td>0</td>\n      <td>0.0</td>\n      <td>3.0</td>\n      <td>180.0</td>\n      <td>0.0</td>\n      <td>0.0</td>\n      <td>PartOfAHorizontalPortScan</td>\n      <td>False</td>\n      <td>True</td>\n      <td>False</td>\n      <td>False</td>\n      <td>False</td>\n      <td>False</td>\n      <td>False</td>\n      <td>False</td>\n      <td>False</td>\n      <td>True</td>\n      <td>False</td>\n      <td>False</td>\n      <td>False</td>\n      <td>False</td>\n      <td>False</td>\n      <td>False</td>\n    </tr>\n    <tr>\n      <th>1</th>\n      <td>-</td>\n      <td>-</td>\n      <td>-</td>\n      <td>0.0</td>\n      <td>1.0</td>\n      <td>60.0</td>\n      <td>0.0</td>\n      <td>0.0</td>\n      <td>PartOfAHorizontalPortScan</td>\n      <td>False</td>\n      <td>True</td>\n      <td>False</td>\n      <td>False</td>\n      <td>False</td>\n      <td>False</td>\n      <td>False</td>\n      <td>False</td>\n      <td>False</td>\n      <td>True</td>\n      <td>False</td>\n      <td>False</td>\n      <td>False</td>\n      <td>False</td>\n      <td>False</td>\n      <td>False</td>\n    </tr>\n    <tr>\n      <th>2</th>\n      <td>-</td>\n      <td>-</td>\n      <td>-</td>\n      <td>0.0</td>\n      <td>1.0</td>\n      <td>60.0</td>\n      <td>0.0</td>\n      <td>0.0</td>\n      <td>PartOfAHorizontalPortScan</td>\n      <td>False</td>\n      <td>True</td>\n      <td>False</td>\n      <td>False</td>\n      <td>False</td>\n      <td>False</td>\n      <td>False</td>\n      <td>False</td>\n      <td>False</td>\n      <td>True</td>\n      <td>False</td>\n      <td>False</td>\n      <td>False</td>\n      <td>False</td>\n      <td>False</td>\n      <td>False</td>\n    </tr>\n    <tr>\n      <th>3</th>\n      <td>2.998804</td>\n      <td>0</td>\n      <td>0</td>\n      <td>0.0</td>\n      <td>3.0</td>\n      <td>180.0</td>\n      <td>0.0</td>\n      <td>0.0</td>\n      <td>Benign</td>\n      <td>False</td>\n      <td>True</td>\n      <td>False</td>\n      <td>False</td>\n      <td>False</td>\n      <td>False</td>\n      <td>False</td>\n      <td>False</td>\n      <td>False</td>\n      <td>True</td>\n      <td>False</td>\n      <td>False</td>\n      <td>False</td>\n      <td>False</td>\n      <td>False</td>\n      <td>False</td>\n    </tr>\n    <tr>\n      <th>4</th>\n      <td>-</td>\n      <td>-</td>\n      <td>-</td>\n      <td>0.0</td>\n      <td>1.0</td>\n      <td>60.0</td>\n      <td>0.0</td>\n      <td>0.0</td>\n      <td>Benign</td>\n      <td>False</td>\n      <td>True</td>\n      <td>False</td>\n      <td>False</td>\n      <td>False</td>\n      <td>False</td>\n      <td>False</td>\n      <td>False</td>\n      <td>False</td>\n      <td>True</td>\n      <td>False</td>\n      <td>False</td>\n      <td>False</td>\n      <td>False</td>\n      <td>False</td>\n      <td>False</td>\n    </tr>\n    <tr>\n      <th>...</th>\n      <td>...</td>\n      <td>...</td>\n      <td>...</td>\n      <td>...</td>\n      <td>...</td>\n      <td>...</td>\n      <td>...</td>\n      <td>...</td>\n      <td>...</td>\n      <td>...</td>\n      <td>...</td>\n      <td>...</td>\n      <td>...</td>\n      <td>...</td>\n      <td>...</td>\n      <td>...</td>\n      <td>...</td>\n      <td>...</td>\n      <td>...</td>\n      <td>...</td>\n      <td>...</td>\n      <td>...</td>\n      <td>...</td>\n      <td>...</td>\n      <td>...</td>\n    </tr>\n    <tr>\n      <th>99994</th>\n      <td>-</td>\n      <td>-</td>\n      <td>-</td>\n      <td>0.0</td>\n      <td>1.0</td>\n      <td>40.0</td>\n      <td>0.0</td>\n      <td>0.0</td>\n      <td>PartOfAHorizontalPortScan</td>\n      <td>False</td>\n      <td>True</td>\n      <td>False</td>\n      <td>False</td>\n      <td>False</td>\n      <td>False</td>\n      <td>False</td>\n      <td>False</td>\n      <td>False</td>\n      <td>True</td>\n      <td>False</td>\n      <td>False</td>\n      <td>False</td>\n      <td>False</td>\n      <td>False</td>\n      <td>False</td>\n    </tr>\n    <tr>\n      <th>99995</th>\n      <td>-</td>\n      <td>-</td>\n      <td>-</td>\n      <td>0.0</td>\n      <td>1.0</td>\n      <td>40.0</td>\n      <td>0.0</td>\n      <td>0.0</td>\n      <td>PartOfAHorizontalPortScan</td>\n      <td>False</td>\n      <td>True</td>\n      <td>False</td>\n      <td>False</td>\n      <td>False</td>\n      <td>False</td>\n      <td>False</td>\n      <td>False</td>\n      <td>False</td>\n      <td>True</td>\n      <td>False</td>\n      <td>False</td>\n      <td>False</td>\n      <td>False</td>\n      <td>False</td>\n      <td>False</td>\n    </tr>\n    <tr>\n      <th>99996</th>\n      <td>-</td>\n      <td>-</td>\n      <td>-</td>\n      <td>0.0</td>\n      <td>1.0</td>\n      <td>40.0</td>\n      <td>0.0</td>\n      <td>0.0</td>\n      <td>PartOfAHorizontalPortScan</td>\n      <td>False</td>\n      <td>True</td>\n      <td>False</td>\n      <td>False</td>\n      <td>False</td>\n      <td>False</td>\n      <td>False</td>\n      <td>False</td>\n      <td>False</td>\n      <td>True</td>\n      <td>False</td>\n      <td>False</td>\n      <td>False</td>\n      <td>False</td>\n      <td>False</td>\n      <td>False</td>\n    </tr>\n    <tr>\n      <th>99997</th>\n      <td>-</td>\n      <td>-</td>\n      <td>-</td>\n      <td>0.0</td>\n      <td>1.0</td>\n      <td>40.0</td>\n      <td>0.0</td>\n      <td>0.0</td>\n      <td>PartOfAHorizontalPortScan</td>\n      <td>False</td>\n      <td>True</td>\n      <td>False</td>\n      <td>False</td>\n      <td>False</td>\n      <td>False</td>\n      <td>False</td>\n      <td>False</td>\n      <td>False</td>\n      <td>True</td>\n      <td>False</td>\n      <td>False</td>\n      <td>False</td>\n      <td>False</td>\n      <td>False</td>\n      <td>False</td>\n    </tr>\n    <tr>\n      <th>99998</th>\n      <td>-</td>\n      <td>-</td>\n      <td>-</td>\n      <td>0.0</td>\n      <td>1.0</td>\n      <td>40.0</td>\n      <td>0.0</td>\n      <td>0.0</td>\n      <td>PartOfAHorizontalPortScan</td>\n      <td>False</td>\n      <td>True</td>\n      <td>False</td>\n      <td>False</td>\n      <td>False</td>\n      <td>False</td>\n      <td>False</td>\n      <td>False</td>\n      <td>False</td>\n      <td>True</td>\n      <td>False</td>\n      <td>False</td>\n      <td>False</td>\n      <td>False</td>\n      <td>False</td>\n      <td>False</td>\n    </tr>\n  </tbody>\n</table>\n<p>1344802 rows × 25 columns</p>\n</div>"
     },
     "execution_count": 35,
     "metadata": {},
     "output_type": "execute_result"
    }
   ],
   "source": [
    "df_c"
   ],
   "metadata": {
    "collapsed": false,
    "ExecuteTime": {
     "end_time": "2023-09-03T15:13:02.372486200Z",
     "start_time": "2023-09-03T15:13:02.323226Z"
    }
   }
  },
  {
   "cell_type": "code",
   "execution_count": 36,
   "outputs": [],
   "source": [
    "df_c['duration'] = df_c['duration'].str.replace('-','0')\n",
    "df_c['orig_bytes'] = df_c['orig_bytes'].str.replace('-','0')\n",
    "df_c['resp_bytes'] = df_c['resp_bytes'].str.replace('-','0')"
   ],
   "metadata": {
    "collapsed": false,
    "ExecuteTime": {
     "end_time": "2023-09-03T15:13:30.579228100Z",
     "start_time": "2023-09-03T15:13:28.556963300Z"
    }
   }
  },
  {
   "cell_type": "code",
   "execution_count": 37,
   "outputs": [],
   "source": [
    "df_c.fillna(-1,inplace=True)"
   ],
   "metadata": {
    "collapsed": false,
    "ExecuteTime": {
     "end_time": "2023-09-03T15:13:40.780572200Z",
     "start_time": "2023-09-03T15:13:40.601813500Z"
    }
   }
  },
  {
   "cell_type": "code",
   "execution_count": 38,
   "outputs": [
    {
     "data": {
      "text/plain": "duration             0\norig_bytes           0\nresp_bytes           0\nmissed_bytes         0\norig_pkts            0\norig_ip_bytes        0\nresp_pkts            0\nresp_ip_bytes        0\nlabel                0\nproto_icmp           0\nproto_tcp            0\nproto_udp            0\nconn_state_OTH       0\nconn_state_REJ       0\nconn_state_RSTO      0\nconn_state_RSTOS0    0\nconn_state_RSTR      0\nconn_state_RSTRH     0\nconn_state_S0        0\nconn_state_S1        0\nconn_state_S2        0\nconn_state_S3        0\nconn_state_SF        0\nconn_state_SH        0\nconn_state_SHR       0\ndtype: int64"
     },
     "execution_count": 38,
     "metadata": {},
     "output_type": "execute_result"
    }
   ],
   "source": [
    "df_c.isna().sum()"
   ],
   "metadata": {
    "collapsed": false,
    "ExecuteTime": {
     "end_time": "2023-09-03T15:13:52.186244600Z",
     "start_time": "2023-09-03T15:13:52.024045Z"
    }
   }
  },
  {
   "cell_type": "code",
   "execution_count": 39,
   "outputs": [
    {
     "name": "stdout",
     "output_type": "stream",
     "text": [
      "['duration', 'orig_bytes', 'resp_bytes', 'missed_bytes', 'orig_pkts', 'orig_ip_bytes', 'resp_pkts', 'resp_ip_bytes', 'label', 'proto_icmp', 'proto_tcp', 'proto_udp', 'conn_state_OTH', 'conn_state_REJ', 'conn_state_RSTO', 'conn_state_RSTOS0', 'conn_state_RSTR', 'conn_state_RSTRH', 'conn_state_S0', 'conn_state_S1', 'conn_state_S2', 'conn_state_S3', 'conn_state_SF', 'conn_state_SH', 'conn_state_SHR']\n"
     ]
    }
   ],
   "source": [
    "print(df_c.columns.tolist())"
   ],
   "metadata": {
    "collapsed": false,
    "ExecuteTime": {
     "end_time": "2023-09-03T15:14:13.636934800Z",
     "start_time": "2023-09-03T15:14:13.613920100Z"
    }
   }
  },
  {
   "cell_type": "code",
   "execution_count": 40,
   "outputs": [],
   "source": [
    "df_c.to_csv('iot23_combined.csv')"
   ],
   "metadata": {
    "collapsed": false,
    "ExecuteTime": {
     "end_time": "2023-09-03T15:14:35.610908400Z",
     "start_time": "2023-09-03T15:14:27.406860700Z"
    }
   }
  },
  {
   "cell_type": "code",
   "execution_count": null,
   "outputs": [],
   "source": [],
   "metadata": {
    "collapsed": false
   }
  }
 ],
 "metadata": {
  "kernelspec": {
   "display_name": "Python 3",
   "language": "python",
   "name": "python3"
  },
  "language_info": {
   "codemirror_mode": {
    "name": "ipython",
    "version": 2
   },
   "file_extension": ".py",
   "mimetype": "text/x-python",
   "name": "python",
   "nbconvert_exporter": "python",
   "pygments_lexer": "ipython2",
   "version": "2.7.6"
  }
 },
 "nbformat": 4,
 "nbformat_minor": 0
}
