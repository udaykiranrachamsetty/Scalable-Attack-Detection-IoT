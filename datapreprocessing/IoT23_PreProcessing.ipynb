{
 "cells": [
  {
   "cell_type": "code",
   "execution_count": 2,
   "metadata": {
    "collapsed": true,
    "ExecuteTime": {
     "end_time": "2023-10-21T06:05:03.935799500Z",
     "start_time": "2023-10-21T06:05:03.352279400Z"
    }
   },
   "outputs": [],
   "source": [
    "import pandas as pd"
   ]
  },
  {
   "cell_type": "code",
   "execution_count": 3,
   "outputs": [],
   "source": [
    "capture_34 = \"E:/Final year project/project/dataset/opt/Malware-Project/BigDataset/IoTScenarios/CTU-IoT-Malware-Capture-34-1/bro/conn.log.labeled\"\n",
    "capture_43 = \"E:/Final year project/project/dataset/opt/Malware-Project/BigDataset/IoTScenarios/CTU-IoT-Malware-Capture-43-1/bro/conn.log.labeled\"\n",
    "capture_44 = \"E:/Final year project/project/dataset/opt/Malware-Project/BigDataset/IoTScenarios/CTU-IoT-Malware-Capture-44-1/bro/conn.log.labeled\"\n",
    "capture_49 = \"E:/Final year project/project/dataset/opt/Malware-Project/BigDataset/IoTScenarios/CTU-IoT-Malware-Capture-49-1/bro/conn.log.labeled\"\n",
    "capture_52 = \"E:/Final year project/project/dataset/opt/Malware-Project/BigDataset/IoTScenarios/CTU-IoT-Malware-Capture-52-1/bro/conn.log.labeled\"\n",
    "capture_20 = \"E:/Final year project/project/dataset/opt/Malware-Project/BigDataset/IoTScenarios/CTU-IoT-Malware-Capture-20-1/bro/conn.log.labeled\"\n",
    "capture_21 = \"E:/Final year project/project/dataset/opt/Malware-Project/BigDataset/IoTScenarios/CTU-IoT-Malware-Capture-21-1/bro/conn.log.labeled\"\n",
    "capture_42 = \"E:/Final year project/project/dataset/opt/Malware-Project/BigDataset/IoTScenarios/CTU-IoT-Malware-Capture-42-1/bro/conn.log.labeled\"\n",
    "capture_60 = \"E:/Final year project/project/dataset/opt/Malware-Project/BigDataset/IoTScenarios/CTU-IoT-Malware-Capture-60-1/bro/conn.log.labeled\"\n",
    "capture_17 = \"E:/Final year project/project/dataset/opt/Malware-Project/BigDataset/IoTScenarios/CTU-IoT-Malware-Capture-17-1/bro/conn.log.labeled\"\n",
    "capture_36 = \"E:/Final year project/project/dataset/opt/Malware-Project/BigDataset/IoTScenarios/CTU-IoT-Malware-Capture-36-1/bro/conn.log.labeled\"\n",
    "capture_33 = \"E:/Final year project/project/dataset/opt/Malware-Project/BigDataset/IoTScenarios/CTU-IoT-Malware-Capture-33-1/bro/conn.log.labeled\"\n",
    "capture_8 = \"E:/Final year project/project/dataset/opt/Malware-Project/BigDataset/IoTScenarios/CTU-IoT-Malware-Capture-8-1/bro/conn.log.labeled\"\n",
    "capture_35 = \"E:/Final year project/project/dataset/opt/Malware-Project/BigDataset/IoTScenarios/CTU-IoT-Malware-Capture-35-1/bro/conn.log.labeled\"\n",
    "capture_48 = \"E:/Final year project/project/dataset/opt/Malware-Project/BigDataset/IoTScenarios/CTU-IoT-Malware-Capture-48-1/bro/conn.log.labeled\"\n",
    "capture_39 = \"E:/Final year project/project/dataset/opt/Malware-Project/BigDataset/IoTScenarios/CTU-IoT-Malware-Capture-39-1/bro/conn.log.labeled\"\n",
    "capture_7 = \"E:/Final year project/project/dataset/opt/Malware-Project/BigDataset/IoTScenarios/CTU-Honeypot-Capture-7-1/Somfy-01/bro/conn.log.labeled\"\n",
    "capture_9 = \"E:/Final year project/project/dataset/opt/Malware-Project/BigDataset/IoTScenarios/CTU-IoT-Malware-Capture-9-1/bro/conn.log.labeled\"\n",
    "capture_3 = \"E:/Final year project/project/dataset/opt/Malware-Project/BigDataset/IoTScenarios/CTU-IoT-Malware-Capture-3-1/bro/conn.log.labeled\"\n",
    "capture_1 = \"E:/Final year project/project/dataset/opt/Malware-Project/BigDataset/IoTScenarios/CTU-IoT-Malware-Capture-1-1/bro/conn.log.labeled\""
   ],
   "metadata": {
    "collapsed": false,
    "ExecuteTime": {
     "end_time": "2023-10-21T06:05:05.190866300Z",
     "start_time": "2023-10-21T06:05:05.171523800Z"
    }
   }
  },
  {
   "cell_type": "code",
   "execution_count": 4,
   "outputs": [],
   "source": [
    "df34 = pd.read_table(filepath_or_buffer=capture_34, skiprows=10)\n",
    "df34.columns=['ts',\n",
    "              'uid',\n",
    "              'id.orig_h',\n",
    "              'id.orig_p',\n",
    "              'id.resp_h',\n",
    "              'id.resp_p',\n",
    "              'proto',\n",
    "              'service',\n",
    "              'duration',\n",
    "              'orig_bytes',\n",
    "              'resp_bytes',\n",
    "              'conn_state',\n",
    "              'local_orig',\n",
    "              'local_resp',\n",
    "              'missed_bytes',\n",
    "              'history',\n",
    "              'orig_pkts',\n",
    "              'orig_ip_bytes',\n",
    "              'resp_pkts',\n",
    "              'resp_ip_bytes',\n",
    "              'label']\n",
    "df34.drop(df34.tail(1).index,inplace=True)"
   ],
   "metadata": {
    "collapsed": false,
    "ExecuteTime": {
     "end_time": "2023-10-21T06:05:06.663259200Z",
     "start_time": "2023-10-21T06:05:06.477945800Z"
    }
   }
  },
  {
   "cell_type": "code",
   "execution_count": 5,
   "outputs": [],
   "source": [
    "df43 = pd.read_table(filepath_or_buffer=capture_43, skiprows=10,nrows=4000000)\n",
    "df43.columns=['ts',\n",
    "              'uid',\n",
    "              'id.orig_h',\n",
    "              'id.orig_p',\n",
    "              'id.resp_h',\n",
    "              'id.resp_p',\n",
    "              'proto',\n",
    "              'service',\n",
    "              'duration',\n",
    "              'orig_bytes',\n",
    "              'resp_bytes',\n",
    "              'conn_state',\n",
    "              'local_orig',\n",
    "              'local_resp',\n",
    "              'missed_bytes',\n",
    "              'history',\n",
    "              'orig_pkts',\n",
    "              'orig_ip_bytes',\n",
    "              'resp_pkts',\n",
    "              'resp_ip_bytes',\n",
    "              'label']\n",
    "df43.drop(df43.tail(1).index,inplace=True)"
   ],
   "metadata": {
    "collapsed": false,
    "ExecuteTime": {
     "end_time": "2023-10-21T06:05:18.556234900Z",
     "start_time": "2023-10-21T06:05:07.599631Z"
    }
   }
  },
  {
   "cell_type": "code",
   "execution_count": 6,
   "outputs": [],
   "source": [
    "df44 = pd.read_table(filepath_or_buffer=capture_44, skiprows=10)\n",
    "df44.columns=['ts',\n",
    "              'uid',\n",
    "              'id.orig_h',\n",
    "              'id.orig_p',\n",
    "              'id.resp_h',\n",
    "              'id.resp_p',\n",
    "              'proto',\n",
    "              'service',\n",
    "              'duration',\n",
    "              'orig_bytes',\n",
    "              'resp_bytes',\n",
    "              'conn_state',\n",
    "              'local_orig',\n",
    "              'local_resp',\n",
    "              'missed_bytes',\n",
    "              'history',\n",
    "              'orig_pkts',\n",
    "              'orig_ip_bytes',\n",
    "              'resp_pkts',\n",
    "              'resp_ip_bytes',\n",
    "              'label']\n",
    "df44.drop(df44.tail(1).index,inplace=True)"
   ],
   "metadata": {
    "collapsed": false,
    "ExecuteTime": {
     "end_time": "2023-10-21T06:05:19.600459800Z",
     "start_time": "2023-10-21T06:05:19.558004200Z"
    }
   }
  },
  {
   "cell_type": "code",
   "execution_count": 7,
   "outputs": [],
   "source": [
    "df49 = pd.read_table(filepath_or_buffer=capture_49, skiprows=10, nrows=4000000)\n",
    "df49.columns=['ts',\n",
    "              'uid',\n",
    "              'id.orig_h',\n",
    "              'id.orig_p',\n",
    "              'id.resp_h',\n",
    "              'id.resp_p',\n",
    "              'proto',\n",
    "              'service',\n",
    "              'duration',\n",
    "              'orig_bytes',\n",
    "              'resp_bytes',\n",
    "              'conn_state',\n",
    "              'local_orig',\n",
    "              'local_resp',\n",
    "              'missed_bytes',\n",
    "              'history',\n",
    "              'orig_pkts',\n",
    "              'orig_ip_bytes',\n",
    "              'resp_pkts',\n",
    "              'resp_ip_bytes',\n",
    "              'label']\n",
    "df49.drop(df49.tail(1).index,inplace=True)"
   ],
   "metadata": {
    "collapsed": false,
    "ExecuteTime": {
     "end_time": "2023-10-21T06:05:32.918300200Z",
     "start_time": "2023-10-21T06:05:21.126622800Z"
    }
   }
  },
  {
   "cell_type": "code",
   "execution_count": 8,
   "outputs": [],
   "source": [
    "df52 = pd.read_table(filepath_or_buffer=capture_52, skiprows=10, nrows=1000000)\n",
    "df52.columns=['ts',\n",
    "              'uid',\n",
    "              'id.orig_h',\n",
    "              'id.orig_p',\n",
    "              'id.resp_h',\n",
    "              'id.resp_p',\n",
    "              'proto',\n",
    "              'service',\n",
    "              'duration',\n",
    "              'orig_bytes',\n",
    "              'resp_bytes',\n",
    "              'conn_state',\n",
    "              'local_orig',\n",
    "              'local_resp',\n",
    "              'missed_bytes',\n",
    "              'history',\n",
    "              'orig_pkts',\n",
    "              'orig_ip_bytes',\n",
    "              'resp_pkts',\n",
    "              'resp_ip_bytes',\n",
    "              'label']\n",
    "df52.drop(df52.tail(1).index,inplace=True)"
   ],
   "metadata": {
    "collapsed": false,
    "ExecuteTime": {
     "end_time": "2023-10-21T06:05:51.402141200Z",
     "start_time": "2023-10-21T06:05:47.697440800Z"
    }
   }
  },
  {
   "cell_type": "code",
   "execution_count": 9,
   "outputs": [],
   "source": [
    "df20 = pd.read_table(filepath_or_buffer=capture_20, skiprows=10, nrows=1000000)\n",
    "df20.columns=['ts',\n",
    "              'uid',\n",
    "              'id.orig_h',\n",
    "              'id.orig_p',\n",
    "              'id.resp_h',\n",
    "              'id.resp_p',\n",
    "              'proto',\n",
    "              'service',\n",
    "              'duration',\n",
    "              'orig_bytes',\n",
    "              'resp_bytes',\n",
    "              'conn_state',\n",
    "              'local_orig',\n",
    "              'local_resp',\n",
    "              'missed_bytes',\n",
    "              'history',\n",
    "              'orig_pkts',\n",
    "              'orig_ip_bytes',\n",
    "              'resp_pkts',\n",
    "              'resp_ip_bytes',\n",
    "              'label']\n",
    "df20.drop(df20.tail(1).index,inplace=True)"
   ],
   "metadata": {
    "collapsed": false,
    "ExecuteTime": {
     "end_time": "2023-10-21T06:05:56.830929Z",
     "start_time": "2023-10-21T06:05:56.721790400Z"
    }
   }
  },
  {
   "cell_type": "code",
   "execution_count": 10,
   "outputs": [],
   "source": [
    "df21 = pd.read_table(filepath_or_buffer=capture_21, skiprows=10, nrows=1000000)\n",
    "df21.columns=['ts',\n",
    "              'uid',\n",
    "              'id.orig_h',\n",
    "              'id.orig_p',\n",
    "              'id.resp_h',\n",
    "              'id.resp_p',\n",
    "              'proto',\n",
    "              'service',\n",
    "              'duration',\n",
    "              'orig_bytes',\n",
    "              'resp_bytes',\n",
    "              'conn_state',\n",
    "              'local_orig',\n",
    "              'local_resp',\n",
    "              'missed_bytes',\n",
    "              'history',\n",
    "              'orig_pkts',\n",
    "              'orig_ip_bytes',\n",
    "              'resp_pkts',\n",
    "              'resp_ip_bytes',\n",
    "              'label']\n",
    "df21.drop(df21.tail(1).index,inplace=True)"
   ],
   "metadata": {
    "collapsed": false,
    "ExecuteTime": {
     "end_time": "2023-10-21T06:05:59.515880600Z",
     "start_time": "2023-10-21T06:05:59.389211100Z"
    }
   }
  },
  {
   "cell_type": "code",
   "execution_count": 11,
   "outputs": [],
   "source": [
    "df42 = pd.read_table(filepath_or_buffer=capture_42, skiprows=10, nrows=1000000)\n",
    "df42.columns=['ts',\n",
    "              'uid',\n",
    "              'id.orig_h',\n",
    "              'id.orig_p',\n",
    "              'id.resp_h',\n",
    "              'id.resp_p',\n",
    "              'proto',\n",
    "              'service',\n",
    "              'duration',\n",
    "              'orig_bytes',\n",
    "              'resp_bytes',\n",
    "              'conn_state',\n",
    "              'local_orig',\n",
    "              'local_resp',\n",
    "              'missed_bytes',\n",
    "              'history',\n",
    "              'orig_pkts',\n",
    "              'orig_ip_bytes',\n",
    "              'resp_pkts',\n",
    "              'resp_ip_bytes',\n",
    "              'label']\n",
    "df42.drop(df42.tail(1).index,inplace=True)"
   ],
   "metadata": {
    "collapsed": false,
    "ExecuteTime": {
     "end_time": "2023-10-21T06:06:13.355639800Z",
     "start_time": "2023-10-21T06:06:13.245472700Z"
    }
   }
  },
  {
   "cell_type": "code",
   "execution_count": 12,
   "outputs": [],
   "source": [
    "df60 = pd.read_table(filepath_or_buffer=capture_60, skiprows=10, nrows=1000000)\n",
    "df60.columns=['ts',\n",
    "              'uid',\n",
    "              'id.orig_h',\n",
    "              'id.orig_p',\n",
    "              'id.resp_h',\n",
    "              'id.resp_p',\n",
    "              'proto',\n",
    "              'service',\n",
    "              'duration',\n",
    "              'orig_bytes',\n",
    "              'resp_bytes',\n",
    "              'conn_state',\n",
    "              'local_orig',\n",
    "              'local_resp',\n",
    "              'missed_bytes',\n",
    "              'history',\n",
    "              'orig_pkts',\n",
    "              'orig_ip_bytes',\n",
    "              'resp_pkts',\n",
    "              'resp_ip_bytes',\n",
    "              'label']\n",
    "df60.drop(df60.tail(1).index,inplace=True)"
   ],
   "metadata": {
    "collapsed": false,
    "ExecuteTime": {
     "end_time": "2023-10-21T06:06:18.343445800Z",
     "start_time": "2023-10-21T06:06:15.716328200Z"
    }
   }
  },
  {
   "cell_type": "code",
   "execution_count": 13,
   "outputs": [],
   "source": [
    "df17 = pd.read_table(filepath_or_buffer=capture_17, skiprows=10, nrows=1000000)\n",
    "df17.columns=['ts',\n",
    "              'uid',\n",
    "              'id.orig_h',\n",
    "              'id.orig_p',\n",
    "              'id.resp_h',\n",
    "              'id.resp_p',\n",
    "              'proto',\n",
    "              'service',\n",
    "              'duration',\n",
    "              'orig_bytes',\n",
    "              'resp_bytes',\n",
    "              'conn_state',\n",
    "              'local_orig',\n",
    "              'local_resp',\n",
    "              'missed_bytes',\n",
    "              'history',\n",
    "              'orig_pkts',\n",
    "              'orig_ip_bytes',\n",
    "              'resp_pkts',\n",
    "              'resp_ip_bytes',\n",
    "              'label']\n",
    "df17.drop(df17.tail(1).index,inplace=True)"
   ],
   "metadata": {
    "collapsed": false,
    "ExecuteTime": {
     "end_time": "2023-10-21T06:06:30.930750800Z",
     "start_time": "2023-10-21T06:06:28.042500600Z"
    }
   }
  },
  {
   "cell_type": "code",
   "execution_count": 14,
   "outputs": [],
   "source": [
    "df36 = pd.read_table(filepath_or_buffer=capture_36, skiprows=10, nrows=1000000)\n",
    "df36.columns=['ts',\n",
    "              'uid',\n",
    "              'id.orig_h',\n",
    "              'id.orig_p',\n",
    "              'id.resp_h',\n",
    "              'id.resp_p',\n",
    "              'proto',\n",
    "              'service',\n",
    "              'duration',\n",
    "              'orig_bytes',\n",
    "              'resp_bytes',\n",
    "              'conn_state',\n",
    "              'local_orig',\n",
    "              'local_resp',\n",
    "              'missed_bytes',\n",
    "              'history',\n",
    "              'orig_pkts',\n",
    "              'orig_ip_bytes',\n",
    "              'resp_pkts',\n",
    "              'resp_ip_bytes',\n",
    "              'label']\n",
    "df36.drop(df36.tail(1).index,inplace=True)"
   ],
   "metadata": {
    "collapsed": false,
    "ExecuteTime": {
     "end_time": "2023-10-21T06:06:43.482969400Z",
     "start_time": "2023-10-21T06:06:40.471266200Z"
    }
   }
  },
  {
   "cell_type": "code",
   "execution_count": 15,
   "outputs": [],
   "source": [
    "df33 = pd.read_table(filepath_or_buffer=capture_33, skiprows=10, nrows=1000000)\n",
    "df33.columns=['ts',\n",
    "              'uid',\n",
    "              'id.orig_h',\n",
    "              'id.orig_p',\n",
    "              'id.resp_h',\n",
    "              'id.resp_p',\n",
    "              'proto',\n",
    "              'service',\n",
    "              'duration',\n",
    "              'orig_bytes',\n",
    "              'resp_bytes',\n",
    "              'conn_state',\n",
    "              'local_orig',\n",
    "              'local_resp',\n",
    "              'missed_bytes',\n",
    "              'history',\n",
    "              'orig_pkts',\n",
    "              'orig_ip_bytes',\n",
    "              'resp_pkts',\n",
    "              'resp_ip_bytes',\n",
    "              'label']\n",
    "df33.drop(df33.tail(1).index,inplace=True)"
   ],
   "metadata": {
    "collapsed": false,
    "ExecuteTime": {
     "end_time": "2023-10-21T06:06:49.531792300Z",
     "start_time": "2023-10-21T06:06:46.538057400Z"
    }
   }
  },
  {
   "cell_type": "code",
   "execution_count": 16,
   "outputs": [],
   "source": [
    "df8 = pd.read_table(filepath_or_buffer=capture_8, skiprows=10, nrows=1000000)\n",
    "df8.columns=['ts',\n",
    "             'uid',\n",
    "             'id.orig_h',\n",
    "             'id.orig_p',\n",
    "             'id.resp_h',\n",
    "             'id.resp_p',\n",
    "             'proto',\n",
    "             'service',\n",
    "             'duration',\n",
    "             'orig_bytes',\n",
    "             'resp_bytes',\n",
    "             'conn_state',\n",
    "             'local_orig',\n",
    "             'local_resp',\n",
    "             'missed_bytes',\n",
    "             'history',\n",
    "             'orig_pkts',\n",
    "             'orig_ip_bytes',\n",
    "             'resp_pkts',\n",
    "             'resp_ip_bytes',\n",
    "             'label']\n",
    "df8.drop(df8.tail(1).index,inplace=True)"
   ],
   "metadata": {
    "collapsed": false,
    "ExecuteTime": {
     "end_time": "2023-10-21T06:06:56.040907300Z",
     "start_time": "2023-10-21T06:06:55.967455500Z"
    }
   }
  },
  {
   "cell_type": "code",
   "execution_count": 17,
   "outputs": [],
   "source": [
    "df35 = pd.read_table(filepath_or_buffer=capture_35, skiprows=10, nrows=1000000)\n",
    "df35.columns=['ts',\n",
    "              'uid',\n",
    "              'id.orig_h',\n",
    "              'id.orig_p',\n",
    "              'id.resp_h',\n",
    "              'id.resp_p',\n",
    "              'proto',\n",
    "              'service',\n",
    "              'duration',\n",
    "              'orig_bytes',\n",
    "              'resp_bytes',\n",
    "              'conn_state',\n",
    "              'local_orig',\n",
    "              'local_resp',\n",
    "              'missed_bytes',\n",
    "              'history',\n",
    "              'orig_pkts',\n",
    "              'orig_ip_bytes',\n",
    "              'resp_pkts',\n",
    "              'resp_ip_bytes',\n",
    "              'label']\n",
    "df35.drop(df35.tail(1).index,inplace=True)"
   ],
   "metadata": {
    "collapsed": false,
    "ExecuteTime": {
     "end_time": "2023-10-21T06:07:01.662541800Z",
     "start_time": "2023-10-21T06:06:59.403807800Z"
    }
   }
  },
  {
   "cell_type": "code",
   "execution_count": 18,
   "outputs": [],
   "source": [
    "df48 = pd.read_table(filepath_or_buffer=capture_48, skiprows=10, nrows=1000000)\n",
    "df48.columns=['ts',\n",
    "              'uid',\n",
    "              'id.orig_h',\n",
    "              'id.orig_p',\n",
    "              'id.resp_h',\n",
    "              'id.resp_p',\n",
    "              'proto',\n",
    "              'service',\n",
    "              'duration',\n",
    "              'orig_bytes',\n",
    "              'resp_bytes',\n",
    "              'conn_state',\n",
    "              'local_orig',\n",
    "              'local_resp',\n",
    "              'missed_bytes',\n",
    "              'history',\n",
    "              'orig_pkts',\n",
    "              'orig_ip_bytes',\n",
    "              'resp_pkts',\n",
    "              'resp_ip_bytes',\n",
    "              'label']\n",
    "df48.drop(df48.tail(1).index,inplace=True)"
   ],
   "metadata": {
    "collapsed": false,
    "ExecuteTime": {
     "end_time": "2023-10-21T06:07:07.713665Z",
     "start_time": "2023-10-21T06:07:05.053639800Z"
    }
   }
  },
  {
   "cell_type": "code",
   "execution_count": 19,
   "outputs": [],
   "source": [
    "df39 = pd.read_table(filepath_or_buffer=capture_39, skiprows=10, nrows=2000000)\n",
    "df39.columns=['ts',\n",
    "              'uid',\n",
    "              'id.orig_h',\n",
    "              'id.orig_p',\n",
    "              'id.resp_h',\n",
    "              'id.resp_p',\n",
    "              'proto',\n",
    "              'service',\n",
    "              'duration',\n",
    "              'orig_bytes',\n",
    "              'resp_bytes',\n",
    "              'conn_state',\n",
    "              'local_orig',\n",
    "              'local_resp',\n",
    "              'missed_bytes',\n",
    "              'history',\n",
    "              'orig_pkts',\n",
    "              'orig_ip_bytes',\n",
    "              'resp_pkts',\n",
    "              'resp_ip_bytes',\n",
    "              'label']\n",
    "df39.drop(df39.tail(1).index,inplace=True)"
   ],
   "metadata": {
    "collapsed": false,
    "ExecuteTime": {
     "end_time": "2023-10-21T06:07:17.040399300Z",
     "start_time": "2023-10-21T06:07:11.160235100Z"
    }
   }
  },
  {
   "cell_type": "code",
   "execution_count": 20,
   "outputs": [],
   "source": [
    "df7 = pd.read_table(filepath_or_buffer=capture_7, skiprows=10, nrows=1000000)\n",
    "df7.columns=['ts',\n",
    "             'uid',\n",
    "             'id.orig_h',\n",
    "             'id.orig_p',\n",
    "             'id.resp_h',\n",
    "             'id.resp_p',\n",
    "             'proto',\n",
    "             'service',\n",
    "             'duration',\n",
    "             'orig_bytes',\n",
    "             'resp_bytes',\n",
    "             'conn_state',\n",
    "             'local_orig',\n",
    "             'local_resp',\n",
    "             'missed_bytes',\n",
    "             'history',\n",
    "             'orig_pkts',\n",
    "             'orig_ip_bytes',\n",
    "             'resp_pkts',\n",
    "             'resp_ip_bytes',\n",
    "             'label']\n",
    "df7.drop(df7.tail(1).index,inplace=True)"
   ],
   "metadata": {
    "collapsed": false,
    "ExecuteTime": {
     "end_time": "2023-10-21T06:07:24.018374200Z",
     "start_time": "2023-10-21T06:07:24.001557900Z"
    }
   }
  },
  {
   "cell_type": "code",
   "execution_count": 21,
   "outputs": [],
   "source": [
    "df9 = pd.read_table(filepath_or_buffer=capture_9, skiprows=10, nrows=1000000)\n",
    "df9.columns=['ts',\n",
    "             'uid',\n",
    "             'id.orig_h',\n",
    "             'id.orig_p',\n",
    "             'id.resp_h',\n",
    "             'id.resp_p',\n",
    "             'proto',\n",
    "             'service',\n",
    "             'duration',\n",
    "             'orig_bytes',\n",
    "             'resp_bytes',\n",
    "             'conn_state',\n",
    "             'local_orig',\n",
    "             'local_resp',\n",
    "             'missed_bytes',\n",
    "             'history',\n",
    "             'orig_pkts',\n",
    "             'orig_ip_bytes',\n",
    "             'resp_pkts',\n",
    "             'resp_ip_bytes',\n",
    "             'label']\n",
    "df9.drop(df9.tail(1).index,inplace=True)"
   ],
   "metadata": {
    "collapsed": false,
    "ExecuteTime": {
     "end_time": "2023-10-21T06:07:31.640783Z",
     "start_time": "2023-10-21T06:07:28.694960Z"
    }
   }
  },
  {
   "cell_type": "code",
   "execution_count": 22,
   "outputs": [],
   "source": [
    "df3 = pd.read_table(filepath_or_buffer=capture_3, skiprows=10, nrows=100000)\n",
    "df3.columns=['ts',\n",
    "             'uid',\n",
    "             'id.orig_h',\n",
    "             'id.orig_p',\n",
    "             'id.resp_h',\n",
    "             'id.resp_p',\n",
    "             'proto',\n",
    "             'service',\n",
    "             'duration',\n",
    "             'orig_bytes',\n",
    "             'resp_bytes',\n",
    "             'conn_state',\n",
    "             'local_orig',\n",
    "             'local_resp',\n",
    "             'missed_bytes',\n",
    "             'history',\n",
    "             'orig_pkts',\n",
    "             'orig_ip_bytes',\n",
    "             'resp_pkts',\n",
    "             'resp_ip_bytes',\n",
    "             'label']\n",
    "df3.drop(df3.tail(1).index,inplace=True)"
   ],
   "metadata": {
    "collapsed": false,
    "ExecuteTime": {
     "end_time": "2023-10-21T06:07:36.977769400Z",
     "start_time": "2023-10-21T06:07:36.561452500Z"
    }
   }
  },
  {
   "cell_type": "code",
   "execution_count": 23,
   "outputs": [],
   "source": [
    "df1 = pd.read_table(filepath_or_buffer=capture_1, skiprows=10,nrows=1000000)\n",
    "df1.columns=['ts',\n",
    "             'uid',\n",
    "             'id.orig_h',\n",
    "             'id.orig_p',\n",
    "             'id.resp_h',\n",
    "             'id.resp_p',\n",
    "             'proto',\n",
    "             'service',\n",
    "             'duration',\n",
    "             'orig_bytes',\n",
    "             'resp_bytes',\n",
    "             'conn_state',\n",
    "             'local_orig',\n",
    "             'local_resp',\n",
    "             'missed_bytes',\n",
    "             'history',\n",
    "             'orig_pkts',\n",
    "             'orig_ip_bytes',\n",
    "             'resp_pkts',\n",
    "             'resp_ip_bytes',\n",
    "             'label']\n",
    "df1.drop(df1.tail(1).index,inplace=True)"
   ],
   "metadata": {
    "collapsed": false,
    "ExecuteTime": {
     "end_time": "2023-10-21T06:07:45.309110700Z",
     "start_time": "2023-10-21T06:07:42.027140100Z"
    }
   }
  },
  {
   "cell_type": "code",
   "execution_count": 24,
   "outputs": [],
   "source": [
    "frames=[df1, df17, df20, df21, df3, df33, df34, df35, df36, df39, df42, df43, df44, df48, df49, df52, df60, df7, df8, df9]"
   ],
   "metadata": {
    "collapsed": false,
    "ExecuteTime": {
     "end_time": "2023-10-21T06:07:49.624797700Z",
     "start_time": "2023-10-21T06:07:49.619159900Z"
    }
   }
  },
  {
   "cell_type": "code",
   "execution_count": 25,
   "outputs": [],
   "source": [
    "df_c=pd.concat(frames)"
   ],
   "metadata": {
    "collapsed": false,
    "ExecuteTime": {
     "end_time": "2023-10-21T06:07:59.358831900Z",
     "start_time": "2023-10-21T06:07:55.117859Z"
    }
   }
  },
  {
   "cell_type": "code",
   "execution_count": 26,
   "outputs": [
    {
     "data": {
      "text/plain": "                       ts                 uid        id.orig_h  id.orig_p   \n0        1525879832.01624   CDe43c1PtgynajGI6  192.168.100.103    60905.0  \\\n1       1525879832.024985  CJaDcG3MZzvf1YVYI4  192.168.100.103    44301.0   \n2       1525879832.044975  CMBrup3BLXivSp4Avc  192.168.100.103    50244.0   \n3       1525879833.016171  CfHl9r3XMYtDQRrHnh  192.168.100.103    34243.0   \n4       1525879833.044906  C7USrA15nFVkniMqC5  192.168.100.103    34840.0   \n...                   ...                 ...              ...        ...   \n999994  1532534874.003333  Czfm4a3R4MD1VocO76  192.168.100.111    40056.0   \n999995  1532534874.003335  CoZcO81e19bEGcoLCd  192.168.100.111    11769.0   \n999996  1532534874.003336  CW9x4g10zM3eXYOT25  192.168.100.111    44225.0   \n999997  1532534874.003577   CMpWnC2fZlAXgTvFR  192.168.100.111    53947.0   \n999998  1532534874.003581  CDirws3wG2DEwBamM5  192.168.100.111    53701.0   \n\n              id.resp_h  id.resp_p proto service  duration orig_bytes  ...   \n0       131.174.215.147       23.0   tcp       -  2.998796          0  ...  \\\n1           91.42.47.63       23.0   tcp       -         -          -  ...   \n2       120.210.108.200       23.0   tcp       -         -          -  ...   \n3          147.7.65.203    49560.0   tcp       -  2.998804          0  ...   \n4          145.164.35.6    21288.0   tcp       -         -          -  ...   \n...                 ...        ...   ...     ...       ...        ...  ...   \n999994   144.147.23.251       81.0   tcp       -         -          -  ...   \n999995    80.116.116.70       81.0   tcp       -         -          -  ...   \n999996   95.230.130.195       81.0   tcp       -         -          -  ...   \n999997    35.93.207.128       81.0   tcp       -         -          -  ...   \n999998    86.142.47.152       81.0   tcp       -         -          -  ...   \n\n       conn_state local_orig local_resp missed_bytes  history orig_pkts   \n0              S0          -          -          0.0        S       3.0  \\\n1              S0          -          -          0.0        S       1.0   \n2              S0          -          -          0.0        S       1.0   \n3              S0          -          -          0.0        S       3.0   \n4              S0          -          -          0.0        S       1.0   \n...           ...        ...        ...          ...      ...       ...   \n999994         S0          -          -          0.0        S       1.0   \n999995         S0          -          -          0.0        S       1.0   \n999996         S0          -          -          0.0        S       1.0   \n999997         S0          -          -          0.0        S       1.0   \n999998         S0          -          -          0.0        S       1.0   \n\n        orig_ip_bytes  resp_pkts  resp_ip_bytes   \n0               180.0        0.0            0.0  \\\n1                60.0        0.0            0.0   \n2                60.0        0.0            0.0   \n3               180.0        0.0            0.0   \n4                60.0        0.0            0.0   \n...               ...        ...            ...   \n999994           40.0        0.0            0.0   \n999995           40.0        0.0            0.0   \n999996           40.0        0.0            0.0   \n999997           40.0        0.0            0.0   \n999998           40.0        0.0            0.0   \n\n                                                  label  \n0       (empty)   Malicious   PartOfAHorizontalPortScan  \n1       (empty)   Malicious   PartOfAHorizontalPortScan  \n2       (empty)   Malicious   PartOfAHorizontalPortScan  \n3                                  (empty)   Benign   -  \n4                                  (empty)   Benign   -  \n...                                                 ...  \n999994  (empty)   Malicious   PartOfAHorizontalPortScan  \n999995  (empty)   Malicious   PartOfAHorizontalPortScan  \n999996  (empty)   Malicious   PartOfAHorizontalPortScan  \n999997  (empty)   Malicious   PartOfAHorizontalPortScan  \n999998  (empty)   Malicious   PartOfAHorizontalPortScan  \n\n[19144802 rows x 21 columns]",
      "text/html": "<div>\n<style scoped>\n    .dataframe tbody tr th:only-of-type {\n        vertical-align: middle;\n    }\n\n    .dataframe tbody tr th {\n        vertical-align: top;\n    }\n\n    .dataframe thead th {\n        text-align: right;\n    }\n</style>\n<table border=\"1\" class=\"dataframe\">\n  <thead>\n    <tr style=\"text-align: right;\">\n      <th></th>\n      <th>ts</th>\n      <th>uid</th>\n      <th>id.orig_h</th>\n      <th>id.orig_p</th>\n      <th>id.resp_h</th>\n      <th>id.resp_p</th>\n      <th>proto</th>\n      <th>service</th>\n      <th>duration</th>\n      <th>orig_bytes</th>\n      <th>...</th>\n      <th>conn_state</th>\n      <th>local_orig</th>\n      <th>local_resp</th>\n      <th>missed_bytes</th>\n      <th>history</th>\n      <th>orig_pkts</th>\n      <th>orig_ip_bytes</th>\n      <th>resp_pkts</th>\n      <th>resp_ip_bytes</th>\n      <th>label</th>\n    </tr>\n  </thead>\n  <tbody>\n    <tr>\n      <th>0</th>\n      <td>1525879832.01624</td>\n      <td>CDe43c1PtgynajGI6</td>\n      <td>192.168.100.103</td>\n      <td>60905.0</td>\n      <td>131.174.215.147</td>\n      <td>23.0</td>\n      <td>tcp</td>\n      <td>-</td>\n      <td>2.998796</td>\n      <td>0</td>\n      <td>...</td>\n      <td>S0</td>\n      <td>-</td>\n      <td>-</td>\n      <td>0.0</td>\n      <td>S</td>\n      <td>3.0</td>\n      <td>180.0</td>\n      <td>0.0</td>\n      <td>0.0</td>\n      <td>(empty)   Malicious   PartOfAHorizontalPortScan</td>\n    </tr>\n    <tr>\n      <th>1</th>\n      <td>1525879832.024985</td>\n      <td>CJaDcG3MZzvf1YVYI4</td>\n      <td>192.168.100.103</td>\n      <td>44301.0</td>\n      <td>91.42.47.63</td>\n      <td>23.0</td>\n      <td>tcp</td>\n      <td>-</td>\n      <td>-</td>\n      <td>-</td>\n      <td>...</td>\n      <td>S0</td>\n      <td>-</td>\n      <td>-</td>\n      <td>0.0</td>\n      <td>S</td>\n      <td>1.0</td>\n      <td>60.0</td>\n      <td>0.0</td>\n      <td>0.0</td>\n      <td>(empty)   Malicious   PartOfAHorizontalPortScan</td>\n    </tr>\n    <tr>\n      <th>2</th>\n      <td>1525879832.044975</td>\n      <td>CMBrup3BLXivSp4Avc</td>\n      <td>192.168.100.103</td>\n      <td>50244.0</td>\n      <td>120.210.108.200</td>\n      <td>23.0</td>\n      <td>tcp</td>\n      <td>-</td>\n      <td>-</td>\n      <td>-</td>\n      <td>...</td>\n      <td>S0</td>\n      <td>-</td>\n      <td>-</td>\n      <td>0.0</td>\n      <td>S</td>\n      <td>1.0</td>\n      <td>60.0</td>\n      <td>0.0</td>\n      <td>0.0</td>\n      <td>(empty)   Malicious   PartOfAHorizontalPortScan</td>\n    </tr>\n    <tr>\n      <th>3</th>\n      <td>1525879833.016171</td>\n      <td>CfHl9r3XMYtDQRrHnh</td>\n      <td>192.168.100.103</td>\n      <td>34243.0</td>\n      <td>147.7.65.203</td>\n      <td>49560.0</td>\n      <td>tcp</td>\n      <td>-</td>\n      <td>2.998804</td>\n      <td>0</td>\n      <td>...</td>\n      <td>S0</td>\n      <td>-</td>\n      <td>-</td>\n      <td>0.0</td>\n      <td>S</td>\n      <td>3.0</td>\n      <td>180.0</td>\n      <td>0.0</td>\n      <td>0.0</td>\n      <td>(empty)   Benign   -</td>\n    </tr>\n    <tr>\n      <th>4</th>\n      <td>1525879833.044906</td>\n      <td>C7USrA15nFVkniMqC5</td>\n      <td>192.168.100.103</td>\n      <td>34840.0</td>\n      <td>145.164.35.6</td>\n      <td>21288.0</td>\n      <td>tcp</td>\n      <td>-</td>\n      <td>-</td>\n      <td>-</td>\n      <td>...</td>\n      <td>S0</td>\n      <td>-</td>\n      <td>-</td>\n      <td>0.0</td>\n      <td>S</td>\n      <td>1.0</td>\n      <td>60.0</td>\n      <td>0.0</td>\n      <td>0.0</td>\n      <td>(empty)   Benign   -</td>\n    </tr>\n    <tr>\n      <th>...</th>\n      <td>...</td>\n      <td>...</td>\n      <td>...</td>\n      <td>...</td>\n      <td>...</td>\n      <td>...</td>\n      <td>...</td>\n      <td>...</td>\n      <td>...</td>\n      <td>...</td>\n      <td>...</td>\n      <td>...</td>\n      <td>...</td>\n      <td>...</td>\n      <td>...</td>\n      <td>...</td>\n      <td>...</td>\n      <td>...</td>\n      <td>...</td>\n      <td>...</td>\n      <td>...</td>\n    </tr>\n    <tr>\n      <th>999994</th>\n      <td>1532534874.003333</td>\n      <td>Czfm4a3R4MD1VocO76</td>\n      <td>192.168.100.111</td>\n      <td>40056.0</td>\n      <td>144.147.23.251</td>\n      <td>81.0</td>\n      <td>tcp</td>\n      <td>-</td>\n      <td>-</td>\n      <td>-</td>\n      <td>...</td>\n      <td>S0</td>\n      <td>-</td>\n      <td>-</td>\n      <td>0.0</td>\n      <td>S</td>\n      <td>1.0</td>\n      <td>40.0</td>\n      <td>0.0</td>\n      <td>0.0</td>\n      <td>(empty)   Malicious   PartOfAHorizontalPortScan</td>\n    </tr>\n    <tr>\n      <th>999995</th>\n      <td>1532534874.003335</td>\n      <td>CoZcO81e19bEGcoLCd</td>\n      <td>192.168.100.111</td>\n      <td>11769.0</td>\n      <td>80.116.116.70</td>\n      <td>81.0</td>\n      <td>tcp</td>\n      <td>-</td>\n      <td>-</td>\n      <td>-</td>\n      <td>...</td>\n      <td>S0</td>\n      <td>-</td>\n      <td>-</td>\n      <td>0.0</td>\n      <td>S</td>\n      <td>1.0</td>\n      <td>40.0</td>\n      <td>0.0</td>\n      <td>0.0</td>\n      <td>(empty)   Malicious   PartOfAHorizontalPortScan</td>\n    </tr>\n    <tr>\n      <th>999996</th>\n      <td>1532534874.003336</td>\n      <td>CW9x4g10zM3eXYOT25</td>\n      <td>192.168.100.111</td>\n      <td>44225.0</td>\n      <td>95.230.130.195</td>\n      <td>81.0</td>\n      <td>tcp</td>\n      <td>-</td>\n      <td>-</td>\n      <td>-</td>\n      <td>...</td>\n      <td>S0</td>\n      <td>-</td>\n      <td>-</td>\n      <td>0.0</td>\n      <td>S</td>\n      <td>1.0</td>\n      <td>40.0</td>\n      <td>0.0</td>\n      <td>0.0</td>\n      <td>(empty)   Malicious   PartOfAHorizontalPortScan</td>\n    </tr>\n    <tr>\n      <th>999997</th>\n      <td>1532534874.003577</td>\n      <td>CMpWnC2fZlAXgTvFR</td>\n      <td>192.168.100.111</td>\n      <td>53947.0</td>\n      <td>35.93.207.128</td>\n      <td>81.0</td>\n      <td>tcp</td>\n      <td>-</td>\n      <td>-</td>\n      <td>-</td>\n      <td>...</td>\n      <td>S0</td>\n      <td>-</td>\n      <td>-</td>\n      <td>0.0</td>\n      <td>S</td>\n      <td>1.0</td>\n      <td>40.0</td>\n      <td>0.0</td>\n      <td>0.0</td>\n      <td>(empty)   Malicious   PartOfAHorizontalPortScan</td>\n    </tr>\n    <tr>\n      <th>999998</th>\n      <td>1532534874.003581</td>\n      <td>CDirws3wG2DEwBamM5</td>\n      <td>192.168.100.111</td>\n      <td>53701.0</td>\n      <td>86.142.47.152</td>\n      <td>81.0</td>\n      <td>tcp</td>\n      <td>-</td>\n      <td>-</td>\n      <td>-</td>\n      <td>...</td>\n      <td>S0</td>\n      <td>-</td>\n      <td>-</td>\n      <td>0.0</td>\n      <td>S</td>\n      <td>1.0</td>\n      <td>40.0</td>\n      <td>0.0</td>\n      <td>0.0</td>\n      <td>(empty)   Malicious   PartOfAHorizontalPortScan</td>\n    </tr>\n  </tbody>\n</table>\n<p>19144802 rows × 21 columns</p>\n</div>"
     },
     "execution_count": 26,
     "metadata": {},
     "output_type": "execute_result"
    }
   ],
   "source": [
    "df_c"
   ],
   "metadata": {
    "collapsed": false,
    "ExecuteTime": {
     "end_time": "2023-10-21T06:08:38.658821100Z",
     "start_time": "2023-10-21T06:08:22.481581Z"
    }
   }
  },
  {
   "cell_type": "code",
   "execution_count": 27,
   "outputs": [
    {
     "data": {
      "text/plain": "(19144802, 21)"
     },
     "execution_count": 27,
     "metadata": {},
     "output_type": "execute_result"
    }
   ],
   "source": [
    "df_c.shape"
   ],
   "metadata": {
    "collapsed": false,
    "ExecuteTime": {
     "end_time": "2023-10-21T06:09:57.954850400Z",
     "start_time": "2023-10-21T06:09:57.896479600Z"
    }
   }
  },
  {
   "cell_type": "code",
   "execution_count": 28,
   "outputs": [
    {
     "data": {
      "text/plain": "label\n-   Malicious   PartOfAHorizontalPortScan          11465361\n-   Benign   -                                      2274547\n-   Malicious   Okiru                               2020258\n(empty)   Malicious   PartOfAHorizontalPortScan     1623576\n-   Malicious   DDoS                                1263025\n(empty)   Benign   -                                 474770\n-   Malicious   C&C                                    8558\n(empty)   Malicious   C&C                              8237\n(empty)   Malicious   Attack                           3814\n-   Malicious   C&C-HeartBeat                          1438\n-   Malicious   Attack                                  988\n-   benign   -                                          127\n-   Malicious   C&C-FileDownload                         47\n-   Malicious   C&C-Torii                                30\n-   Malicious   FileDownload                             14\n-   Malicious   C&C-HeartBeat-FileDownload                8\n-   Malicious   Okiru-Attack                              3\n-   Malicious   C&C-Mirai                                 1\nName: count, dtype: int64"
     },
     "execution_count": 28,
     "metadata": {},
     "output_type": "execute_result"
    }
   ],
   "source": [
    "df_c['label'].value_counts()"
   ],
   "metadata": {
    "collapsed": false,
    "ExecuteTime": {
     "end_time": "2023-10-21T06:10:14.677790800Z",
     "start_time": "2023-10-21T06:10:13.810590500Z"
    }
   }
  },
  {
   "cell_type": "code",
   "execution_count": 29,
   "outputs": [
    {
     "data": {
      "text/plain": "array(['(empty)   Malicious   PartOfAHorizontalPortScan',\n       '(empty)   Benign   -', '(empty)   Malicious   C&C',\n       '-   Malicious   PartOfAHorizontalPortScan',\n       '-   Malicious   Okiru', '-   Malicious   DDoS',\n       '-   Malicious   C&C-HeartBeat', '-   Benign   -',\n       '-   Malicious   C&C-Torii', '(empty)   Malicious   Attack',\n       '-   Malicious   C&C', '-   Malicious   C&C-FileDownload',\n       '-   Malicious   Attack', '-   Malicious   Okiru-Attack',\n       '-   Malicious   FileDownload',\n       '-   Malicious   C&C-HeartBeat-FileDownload',\n       '-   Malicious   C&C-Mirai', '-   benign   -'], dtype=object)"
     },
     "execution_count": 29,
     "metadata": {},
     "output_type": "execute_result"
    }
   ],
   "source": [
    "df_c['label'].unique()"
   ],
   "metadata": {
    "collapsed": false,
    "ExecuteTime": {
     "end_time": "2023-10-21T06:10:33.158078500Z",
     "start_time": "2023-10-21T06:10:31.622886100Z"
    }
   }
  },
  {
   "cell_type": "code",
   "execution_count": 30,
   "outputs": [],
   "source": [
    "df_c.loc[(df_c.label == '-   Malicious   PartOfAHorizontalPortScan'), 'label'] = 'PartOfAHorizontalPortScan'\n",
    "df_c.loc[(df_c.label == '(empty)   Malicious   PartOfAHorizontalPortScan'), 'label'] = 'PartOfAHorizontalPortScan'\n",
    "df_c.loc[(df_c.label == '-   Malicious   Okiru'), 'label'] = 'Okiru'\n",
    "df_c.loc[(df_c.label == '(empty)   Malicious   Okiru'), 'label'] = 'Okiru'\n",
    "df_c.loc[(df_c.label == '-   Benign   -'), 'label'] = 'Benign'\n",
    "df_c.loc[(df_c.label == '(empty)   Benign   -'), 'label'] = 'Benign'\n",
    "df_c.loc[(df_c.label == '-   benign   -'), 'label'] = 'Benign'\n",
    "df_c.loc[(df_c.label == '-   Malicious   DDoS'), 'label'] = 'DDoS'\n",
    "df_c.loc[(df_c.label == '-   Malicious   C&C'), 'label'] = 'C&C'\n",
    "df_c.loc[(df_c.label == '(empty)   Malicious   C&C'), 'label'] = 'C&C'\n",
    "df_c.loc[(df_c.label == '-   Malicious   Attack'), 'label'] = 'Attack'\n",
    "df_c.loc[(df_c.label == '(empty)   Malicious   Attack'), 'label'] = 'Attack'\n",
    "df_c.loc[(df_c.label == '-   Malicious   C&C-HeartBeat'), 'label'] = 'C&C-HeartBeat'\n",
    "df_c.loc[(df_c.label == '(empty)   Malicious   C&C-HeartBeat'), 'label'] = 'C&C-HeartBeat'\n",
    "df_c.loc[(df_c.label == '-   Malicious   C&C-FileDownload'), 'label'] = 'C&C-FileDownload'\n",
    "df_c.loc[(df_c.label == '-   Malicious   C&C-Torii'), 'label'] = 'C&C-Torii'\n",
    "df_c.loc[(df_c.label == '-   Malicious   C&C-HeartBeat-FileDownload'), 'label'] = 'C&C-HeartBeat-FileDownload'\n",
    "df_c.loc[(df_c.label == '-   Malicious   FileDownload'), 'label'] = 'FileDownload'\n",
    "df_c.loc[(df_c.label == '-   Malicious   C&C-Mirai'), 'label'] = 'C&C-Mirai'\n",
    "df_c.loc[(df_c.label == '-   Malicious   Okiru-Attack'), 'label'] = 'Okiru-Attack'"
   ],
   "metadata": {
    "collapsed": false,
    "ExecuteTime": {
     "end_time": "2023-10-21T06:10:50.112606800Z",
     "start_time": "2023-10-21T06:10:33.166081100Z"
    }
   }
  },
  {
   "cell_type": "code",
   "execution_count": 31,
   "outputs": [
    {
     "data": {
      "text/plain": "label\nPartOfAHorizontalPortScan     13088937\nBenign                         2749444\nOkiru                          2020258\nDDoS                           1263025\nC&C                              16795\nAttack                            4802\nC&C-HeartBeat                     1438\nC&C-FileDownload                    47\nC&C-Torii                           30\nFileDownload                        14\nC&C-HeartBeat-FileDownload           8\nOkiru-Attack                         3\nC&C-Mirai                            1\nName: count, dtype: int64"
     },
     "execution_count": 31,
     "metadata": {},
     "output_type": "execute_result"
    }
   ],
   "source": [
    "df_c['label'].value_counts()"
   ],
   "metadata": {
    "collapsed": false,
    "ExecuteTime": {
     "end_time": "2023-10-21T06:11:06.336888800Z",
     "start_time": "2023-10-21T06:11:06.327205700Z"
    }
   }
  },
  {
   "cell_type": "code",
   "execution_count": 32,
   "outputs": [
    {
     "name": "stdout",
     "output_type": "stream",
     "text": [
      "label\n",
      "PartOfAHorizontalPortScan     13088937\n",
      "Benign                         2749444\n",
      "Okiru                          2020258\n",
      "DDoS                           1263025\n",
      "C&C                              16795\n",
      "Attack                            4802\n",
      "C&C-HeartBeat                     1438\n",
      "C&C-FileDownload                    47\n",
      "C&C-Torii                           30\n",
      "FileDownload                        14\n",
      "C&C-HeartBeat-FileDownload           8\n",
      "Okiru-Attack                         3\n",
      "C&C-Mirai                            1\n",
      "Name: count, dtype: int64\n"
     ]
    },
    {
     "data": {
      "text/plain": "<Figure size 640x480 with 1 Axes>",
      "image/png": "[encoded data removed]"
     },
     "metadata": {},
     "output_type": "display_data"
    }
   ],
   "source": [
    "from matplotlib import pyplot as plt\n",
    "\n",
    "print(df_c['label'].value_counts())\n",
    "df_c['label'].value_counts().plot(kind='bar')\n",
    "plt.show()"
   ],
   "metadata": {
    "collapsed": false,
    "ExecuteTime": {
     "end_time": "2023-10-21T06:11:24.560188800Z",
     "start_time": "2023-10-21T06:11:22.202691400Z"
    }
   }
  },
  {
   "cell_type": "code",
   "execution_count": 33,
   "outputs": [],
   "source": [
    "pd.options.display.max_rows = 300\n",
    "pd.options.display.max_columns = 300"
   ],
   "metadata": {
    "collapsed": false,
    "ExecuteTime": {
     "end_time": "2023-10-21T06:11:40.095078100Z",
     "start_time": "2023-10-21T06:11:40.079363300Z"
    }
   }
  },
  {
   "cell_type": "code",
   "execution_count": 34,
   "outputs": [],
   "source": [
    "df_c = df_c.drop(columns=['ts','uid','id.orig_h','id.orig_p','id.resp_h','id.resp_p',\n",
    "                          'service','local_orig','local_resp','history'])"
   ],
   "metadata": {
    "collapsed": false,
    "ExecuteTime": {
     "end_time": "2023-10-21T06:11:43.824912Z",
     "start_time": "2023-10-21T06:11:42.134471100Z"
    }
   }
  },
  {
   "cell_type": "code",
   "execution_count": 35,
   "outputs": [],
   "source": [
    "df_c = pd.get_dummies(df_c, columns=['proto'])\n",
    "df_c = pd.get_dummies(df_c, columns=['conn_state'])"
   ],
   "metadata": {
    "collapsed": false,
    "ExecuteTime": {
     "end_time": "2023-10-21T06:12:03.396819400Z",
     "start_time": "2023-10-21T06:11:56.293743500Z"
    }
   }
  },
  {
   "cell_type": "code",
   "execution_count": 36,
   "outputs": [
    {
     "data": {
      "text/plain": "        duration orig_bytes resp_bytes  missed_bytes  orig_pkts   \n0       2.998796          0          0           0.0        3.0  \\\n1              -          -          -           0.0        1.0   \n2              -          -          -           0.0        1.0   \n3       2.998804          0          0           0.0        3.0   \n4              -          -          -           0.0        1.0   \n...          ...        ...        ...           ...        ...   \n999994         -          -          -           0.0        1.0   \n999995         -          -          -           0.0        1.0   \n999996         -          -          -           0.0        1.0   \n999997         -          -          -           0.0        1.0   \n999998         -          -          -           0.0        1.0   \n\n        orig_ip_bytes  resp_pkts  resp_ip_bytes                      label   \n0               180.0        0.0            0.0  PartOfAHorizontalPortScan  \\\n1                60.0        0.0            0.0  PartOfAHorizontalPortScan   \n2                60.0        0.0            0.0  PartOfAHorizontalPortScan   \n3               180.0        0.0            0.0                     Benign   \n4                60.0        0.0            0.0                     Benign   \n...               ...        ...            ...                        ...   \n999994           40.0        0.0            0.0  PartOfAHorizontalPortScan   \n999995           40.0        0.0            0.0  PartOfAHorizontalPortScan   \n999996           40.0        0.0            0.0  PartOfAHorizontalPortScan   \n999997           40.0        0.0            0.0  PartOfAHorizontalPortScan   \n999998           40.0        0.0            0.0  PartOfAHorizontalPortScan   \n\n        proto_icmp  proto_tcp  proto_udp  conn_state_OTH  conn_state_REJ   \n0            False       True      False           False           False  \\\n1            False       True      False           False           False   \n2            False       True      False           False           False   \n3            False       True      False           False           False   \n4            False       True      False           False           False   \n...            ...        ...        ...             ...             ...   \n999994       False       True      False           False           False   \n999995       False       True      False           False           False   \n999996       False       True      False           False           False   \n999997       False       True      False           False           False   \n999998       False       True      False           False           False   \n\n        conn_state_RSTO  conn_state_RSTOS0  conn_state_RSTR  conn_state_RSTRH   \n0                 False              False            False             False  \\\n1                 False              False            False             False   \n2                 False              False            False             False   \n3                 False              False            False             False   \n4                 False              False            False             False   \n...                 ...                ...              ...               ...   \n999994            False              False            False             False   \n999995            False              False            False             False   \n999996            False              False            False             False   \n999997            False              False            False             False   \n999998            False              False            False             False   \n\n        conn_state_S0  conn_state_S1  conn_state_S2  conn_state_S3   \n0                True          False          False          False  \\\n1                True          False          False          False   \n2                True          False          False          False   \n3                True          False          False          False   \n4                True          False          False          False   \n...               ...            ...            ...            ...   \n999994           True          False          False          False   \n999995           True          False          False          False   \n999996           True          False          False          False   \n999997           True          False          False          False   \n999998           True          False          False          False   \n\n        conn_state_SF  conn_state_SH  conn_state_SHR  \n0               False          False           False  \n1               False          False           False  \n2               False          False           False  \n3               False          False           False  \n4               False          False           False  \n...               ...            ...             ...  \n999994          False          False           False  \n999995          False          False           False  \n999996          False          False           False  \n999997          False          False           False  \n999998          False          False           False  \n\n[19144802 rows x 25 columns]",
      "text/html": "<div>\n<style scoped>\n    .dataframe tbody tr th:only-of-type {\n        vertical-align: middle;\n    }\n\n    .dataframe tbody tr th {\n        vertical-align: top;\n    }\n\n    .dataframe thead th {\n        text-align: right;\n    }\n</style>\n<table border=\"1\" class=\"dataframe\">\n  <thead>\n    <tr style=\"text-align: right;\">\n      <th></th>\n      <th>duration</th>\n      <th>orig_bytes</th>\n      <th>resp_bytes</th>\n      <th>missed_bytes</th>\n      <th>orig_pkts</th>\n      <th>orig_ip_bytes</th>\n      <th>resp_pkts</th>\n      <th>resp_ip_bytes</th>\n      <th>label</th>\n      <th>proto_icmp</th>\n      <th>proto_tcp</th>\n      <th>proto_udp</th>\n      <th>conn_state_OTH</th>\n      <th>conn_state_REJ</th>\n      <th>conn_state_RSTO</th>\n      <th>conn_state_RSTOS0</th>\n      <th>conn_state_RSTR</th>\n      <th>conn_state_RSTRH</th>\n      <th>conn_state_S0</th>\n      <th>conn_state_S1</th>\n      <th>conn_state_S2</th>\n      <th>conn_state_S3</th>\n      <th>conn_state_SF</th>\n      <th>conn_state_SH</th>\n      <th>conn_state_SHR</th>\n    </tr>\n  </thead>\n  <tbody>\n    <tr>\n      <th>0</th>\n      <td>2.998796</td>\n      <td>0</td>\n      <td>0</td>\n      <td>0.0</td>\n      <td>3.0</td>\n      <td>180.0</td>\n      <td>0.0</td>\n      <td>0.0</td>\n      <td>PartOfAHorizontalPortScan</td>\n      <td>False</td>\n      <td>True</td>\n      <td>False</td>\n      <td>False</td>\n      <td>False</td>\n      <td>False</td>\n      <td>False</td>\n      <td>False</td>\n      <td>False</td>\n      <td>True</td>\n      <td>False</td>\n      <td>False</td>\n      <td>False</td>\n      <td>False</td>\n      <td>False</td>\n      <td>False</td>\n    </tr>\n    <tr>\n      <th>1</th>\n      <td>-</td>\n      <td>-</td>\n      <td>-</td>\n      <td>0.0</td>\n      <td>1.0</td>\n      <td>60.0</td>\n      <td>0.0</td>\n      <td>0.0</td>\n      <td>PartOfAHorizontalPortScan</td>\n      <td>False</td>\n      <td>True</td>\n      <td>False</td>\n      <td>False</td>\n      <td>False</td>\n      <td>False</td>\n      <td>False</td>\n      <td>False</td>\n      <td>False</td>\n      <td>True</td>\n      <td>False</td>\n      <td>False</td>\n      <td>False</td>\n      <td>False</td>\n      <td>False</td>\n      <td>False</td>\n    </tr>\n    <tr>\n      <th>2</th>\n      <td>-</td>\n      <td>-</td>\n      <td>-</td>\n      <td>0.0</td>\n      <td>1.0</td>\n      <td>60.0</td>\n      <td>0.0</td>\n      <td>0.0</td>\n      <td>PartOfAHorizontalPortScan</td>\n      <td>False</td>\n      <td>True</td>\n      <td>False</td>\n      <td>False</td>\n      <td>False</td>\n      <td>False</td>\n      <td>False</td>\n      <td>False</td>\n      <td>False</td>\n      <td>True</td>\n      <td>False</td>\n      <td>False</td>\n      <td>False</td>\n      <td>False</td>\n      <td>False</td>\n      <td>False</td>\n    </tr>\n    <tr>\n      <th>3</th>\n      <td>2.998804</td>\n      <td>0</td>\n      <td>0</td>\n      <td>0.0</td>\n      <td>3.0</td>\n      <td>180.0</td>\n      <td>0.0</td>\n      <td>0.0</td>\n      <td>Benign</td>\n      <td>False</td>\n      <td>True</td>\n      <td>False</td>\n      <td>False</td>\n      <td>False</td>\n      <td>False</td>\n      <td>False</td>\n      <td>False</td>\n      <td>False</td>\n      <td>True</td>\n      <td>False</td>\n      <td>False</td>\n      <td>False</td>\n      <td>False</td>\n      <td>False</td>\n      <td>False</td>\n    </tr>\n    <tr>\n      <th>4</th>\n      <td>-</td>\n      <td>-</td>\n      <td>-</td>\n      <td>0.0</td>\n      <td>1.0</td>\n      <td>60.0</td>\n      <td>0.0</td>\n      <td>0.0</td>\n      <td>Benign</td>\n      <td>False</td>\n      <td>True</td>\n      <td>False</td>\n      <td>False</td>\n      <td>False</td>\n      <td>False</td>\n      <td>False</td>\n      <td>False</td>\n      <td>False</td>\n      <td>True</td>\n      <td>False</td>\n      <td>False</td>\n      <td>False</td>\n      <td>False</td>\n      <td>False</td>\n      <td>False</td>\n    </tr>\n    <tr>\n      <th>...</th>\n      <td>...</td>\n      <td>...</td>\n      <td>...</td>\n      <td>...</td>\n      <td>...</td>\n      <td>...</td>\n      <td>...</td>\n      <td>...</td>\n      <td>...</td>\n      <td>...</td>\n      <td>...</td>\n      <td>...</td>\n      <td>...</td>\n      <td>...</td>\n      <td>...</td>\n      <td>...</td>\n      <td>...</td>\n      <td>...</td>\n      <td>...</td>\n      <td>...</td>\n      <td>...</td>\n      <td>...</td>\n      <td>...</td>\n      <td>...</td>\n      <td>...</td>\n    </tr>\n    <tr>\n      <th>999994</th>\n      <td>-</td>\n      <td>-</td>\n      <td>-</td>\n      <td>0.0</td>\n      <td>1.0</td>\n      <td>40.0</td>\n      <td>0.0</td>\n      <td>0.0</td>\n      <td>PartOfAHorizontalPortScan</td>\n      <td>False</td>\n      <td>True</td>\n      <td>False</td>\n      <td>False</td>\n      <td>False</td>\n      <td>False</td>\n      <td>False</td>\n      <td>False</td>\n      <td>False</td>\n      <td>True</td>\n      <td>False</td>\n      <td>False</td>\n      <td>False</td>\n      <td>False</td>\n      <td>False</td>\n      <td>False</td>\n    </tr>\n    <tr>\n      <th>999995</th>\n      <td>-</td>\n      <td>-</td>\n      <td>-</td>\n      <td>0.0</td>\n      <td>1.0</td>\n      <td>40.0</td>\n      <td>0.0</td>\n      <td>0.0</td>\n      <td>PartOfAHorizontalPortScan</td>\n      <td>False</td>\n      <td>True</td>\n      <td>False</td>\n      <td>False</td>\n      <td>False</td>\n      <td>False</td>\n      <td>False</td>\n      <td>False</td>\n      <td>False</td>\n      <td>True</td>\n      <td>False</td>\n      <td>False</td>\n      <td>False</td>\n      <td>False</td>\n      <td>False</td>\n      <td>False</td>\n    </tr>\n    <tr>\n      <th>999996</th>\n      <td>-</td>\n      <td>-</td>\n      <td>-</td>\n      <td>0.0</td>\n      <td>1.0</td>\n      <td>40.0</td>\n      <td>0.0</td>\n      <td>0.0</td>\n      <td>PartOfAHorizontalPortScan</td>\n      <td>False</td>\n      <td>True</td>\n      <td>False</td>\n      <td>False</td>\n      <td>False</td>\n      <td>False</td>\n      <td>False</td>\n      <td>False</td>\n      <td>False</td>\n      <td>True</td>\n      <td>False</td>\n      <td>False</td>\n      <td>False</td>\n      <td>False</td>\n      <td>False</td>\n      <td>False</td>\n    </tr>\n    <tr>\n      <th>999997</th>\n      <td>-</td>\n      <td>-</td>\n      <td>-</td>\n      <td>0.0</td>\n      <td>1.0</td>\n      <td>40.0</td>\n      <td>0.0</td>\n      <td>0.0</td>\n      <td>PartOfAHorizontalPortScan</td>\n      <td>False</td>\n      <td>True</td>\n      <td>False</td>\n      <td>False</td>\n      <td>False</td>\n      <td>False</td>\n      <td>False</td>\n      <td>False</td>\n      <td>False</td>\n      <td>True</td>\n      <td>False</td>\n      <td>False</td>\n      <td>False</td>\n      <td>False</td>\n      <td>False</td>\n      <td>False</td>\n    </tr>\n    <tr>\n      <th>999998</th>\n      <td>-</td>\n      <td>-</td>\n      <td>-</td>\n      <td>0.0</td>\n      <td>1.0</td>\n      <td>40.0</td>\n      <td>0.0</td>\n      <td>0.0</td>\n      <td>PartOfAHorizontalPortScan</td>\n      <td>False</td>\n      <td>True</td>\n      <td>False</td>\n      <td>False</td>\n      <td>False</td>\n      <td>False</td>\n      <td>False</td>\n      <td>False</td>\n      <td>False</td>\n      <td>True</td>\n      <td>False</td>\n      <td>False</td>\n      <td>False</td>\n      <td>False</td>\n      <td>False</td>\n      <td>False</td>\n    </tr>\n  </tbody>\n</table>\n<p>19144802 rows × 25 columns</p>\n</div>"
     },
     "execution_count": 36,
     "metadata": {},
     "output_type": "execute_result"
    }
   ],
   "source": [
    "df_c"
   ],
   "metadata": {
    "collapsed": false,
    "ExecuteTime": {
     "end_time": "2023-10-21T06:12:08.483500700Z",
     "start_time": "2023-10-21T06:12:08.464002800Z"
    }
   }
  },
  {
   "cell_type": "code",
   "execution_count": 43,
   "outputs": [
    {
     "data": {
      "text/plain": "        duration orig_bytes resp_bytes  orig_pkts  orig_ip_bytes  resp_pkts   \n0       2.998796          0          0        3.0          180.0        0.0  \\\n1              0          0          0        1.0           60.0        0.0   \n2              0          0          0        1.0           60.0        0.0   \n3       2.998804          0          0        3.0          180.0        0.0   \n4              0          0          0        1.0           60.0        0.0   \n...          ...        ...        ...        ...            ...        ...   \n999994         0          0          0        1.0           40.0        0.0   \n999995         0          0          0        1.0           40.0        0.0   \n999996         0          0          0        1.0           40.0        0.0   \n999997         0          0          0        1.0           40.0        0.0   \n999998         0          0          0        1.0           40.0        0.0   \n\n        resp_ip_bytes                      label  proto_icmp  proto_tcp   \n0                 0.0  PartOfAHorizontalPortScan           0          1  \\\n1                 0.0  PartOfAHorizontalPortScan           0          1   \n2                 0.0  PartOfAHorizontalPortScan           0          1   \n3                 0.0                     Benign           0          1   \n4                 0.0                     Benign           0          1   \n...               ...                        ...         ...        ...   \n999994            0.0  PartOfAHorizontalPortScan           0          1   \n999995            0.0  PartOfAHorizontalPortScan           0          1   \n999996            0.0  PartOfAHorizontalPortScan           0          1   \n999997            0.0  PartOfAHorizontalPortScan           0          1   \n999998            0.0  PartOfAHorizontalPortScan           0          1   \n\n        proto_udp  conn_state_OTH  conn_state_REJ  conn_state_RSTO   \n0               0               0               0                0  \\\n1               0               0               0                0   \n2               0               0               0                0   \n3               0               0               0                0   \n4               0               0               0                0   \n...           ...             ...             ...              ...   \n999994          0               0               0                0   \n999995          0               0               0                0   \n999996          0               0               0                0   \n999997          0               0               0                0   \n999998          0               0               0                0   \n\n        conn_state_RSTOS0  conn_state_RSTR  conn_state_RSTRH  conn_state_S0   \n0                       0                0                 0              1  \\\n1                       0                0                 0              1   \n2                       0                0                 0              1   \n3                       0                0                 0              1   \n4                       0                0                 0              1   \n...                   ...              ...               ...            ...   \n999994                  0                0                 0              1   \n999995                  0                0                 0              1   \n999996                  0                0                 0              1   \n999997                  0                0                 0              1   \n999998                  0                0                 0              1   \n\n        conn_state_S1  conn_state_S2  conn_state_S3  conn_state_SF   \n0                   0              0              0              0  \\\n1                   0              0              0              0   \n2                   0              0              0              0   \n3                   0              0              0              0   \n4                   0              0              0              0   \n...               ...            ...            ...            ...   \n999994              0              0              0              0   \n999995              0              0              0              0   \n999996              0              0              0              0   \n999997              0              0              0              0   \n999998              0              0              0              0   \n\n        conn_state_SH  conn_state_SHR  \n0                   0               0  \n1                   0               0  \n2                   0               0  \n3                   0               0  \n4                   0               0  \n...               ...             ...  \n999994              0               0  \n999995              0               0  \n999996              0               0  \n999997              0               0  \n999998              0               0  \n\n[19144802 rows x 24 columns]",
      "text/html": "<div>\n<style scoped>\n    .dataframe tbody tr th:only-of-type {\n        vertical-align: middle;\n    }\n\n    .dataframe tbody tr th {\n        vertical-align: top;\n    }\n\n    .dataframe thead th {\n        text-align: right;\n    }\n</style>\n<table border=\"1\" class=\"dataframe\">\n  <thead>\n    <tr style=\"text-align: right;\">\n      <th></th>\n      <th>duration</th>\n      <th>orig_bytes</th>\n      <th>resp_bytes</th>\n      <th>orig_pkts</th>\n      <th>orig_ip_bytes</th>\n      <th>resp_pkts</th>\n      <th>resp_ip_bytes</th>\n      <th>label</th>\n      <th>proto_icmp</th>\n      <th>proto_tcp</th>\n      <th>proto_udp</th>\n      <th>conn_state_OTH</th>\n      <th>conn_state_REJ</th>\n      <th>conn_state_RSTO</th>\n      <th>conn_state_RSTOS0</th>\n      <th>conn_state_RSTR</th>\n      <th>conn_state_RSTRH</th>\n      <th>conn_state_S0</th>\n      <th>conn_state_S1</th>\n      <th>conn_state_S2</th>\n      <th>conn_state_S3</th>\n      <th>conn_state_SF</th>\n      <th>conn_state_SH</th>\n      <th>conn_state_SHR</th>\n    </tr>\n  </thead>\n  <tbody>\n    <tr>\n      <th>0</th>\n      <td>2.998796</td>\n      <td>0</td>\n      <td>0</td>\n      <td>3.0</td>\n      <td>180.0</td>\n      <td>0.0</td>\n      <td>0.0</td>\n      <td>PartOfAHorizontalPortScan</td>\n      <td>0</td>\n      <td>1</td>\n      <td>0</td>\n      <td>0</td>\n      <td>0</td>\n      <td>0</td>\n      <td>0</td>\n      <td>0</td>\n      <td>0</td>\n      <td>1</td>\n      <td>0</td>\n      <td>0</td>\n      <td>0</td>\n      <td>0</td>\n      <td>0</td>\n      <td>0</td>\n    </tr>\n    <tr>\n      <th>1</th>\n      <td>0</td>\n      <td>0</td>\n      <td>0</td>\n      <td>1.0</td>\n      <td>60.0</td>\n      <td>0.0</td>\n      <td>0.0</td>\n      <td>PartOfAHorizontalPortScan</td>\n      <td>0</td>\n      <td>1</td>\n      <td>0</td>\n      <td>0</td>\n      <td>0</td>\n      <td>0</td>\n      <td>0</td>\n      <td>0</td>\n      <td>0</td>\n      <td>1</td>\n      <td>0</td>\n      <td>0</td>\n      <td>0</td>\n      <td>0</td>\n      <td>0</td>\n      <td>0</td>\n    </tr>\n    <tr>\n      <th>2</th>\n      <td>0</td>\n      <td>0</td>\n      <td>0</td>\n      <td>1.0</td>\n      <td>60.0</td>\n      <td>0.0</td>\n      <td>0.0</td>\n      <td>PartOfAHorizontalPortScan</td>\n      <td>0</td>\n      <td>1</td>\n      <td>0</td>\n      <td>0</td>\n      <td>0</td>\n      <td>0</td>\n      <td>0</td>\n      <td>0</td>\n      <td>0</td>\n      <td>1</td>\n      <td>0</td>\n      <td>0</td>\n      <td>0</td>\n      <td>0</td>\n      <td>0</td>\n      <td>0</td>\n    </tr>\n    <tr>\n      <th>3</th>\n      <td>2.998804</td>\n      <td>0</td>\n      <td>0</td>\n      <td>3.0</td>\n      <td>180.0</td>\n      <td>0.0</td>\n      <td>0.0</td>\n      <td>Benign</td>\n      <td>0</td>\n      <td>1</td>\n      <td>0</td>\n      <td>0</td>\n      <td>0</td>\n      <td>0</td>\n      <td>0</td>\n      <td>0</td>\n      <td>0</td>\n      <td>1</td>\n      <td>0</td>\n      <td>0</td>\n      <td>0</td>\n      <td>0</td>\n      <td>0</td>\n      <td>0</td>\n    </tr>\n    <tr>\n      <th>4</th>\n      <td>0</td>\n      <td>0</td>\n      <td>0</td>\n      <td>1.0</td>\n      <td>60.0</td>\n      <td>0.0</td>\n      <td>0.0</td>\n      <td>Benign</td>\n      <td>0</td>\n      <td>1</td>\n      <td>0</td>\n      <td>0</td>\n      <td>0</td>\n      <td>0</td>\n      <td>0</td>\n      <td>0</td>\n      <td>0</td>\n      <td>1</td>\n      <td>0</td>\n      <td>0</td>\n      <td>0</td>\n      <td>0</td>\n      <td>0</td>\n      <td>0</td>\n    </tr>\n    <tr>\n      <th>...</th>\n      <td>...</td>\n      <td>...</td>\n      <td>...</td>\n      <td>...</td>\n      <td>...</td>\n      <td>...</td>\n      <td>...</td>\n      <td>...</td>\n      <td>...</td>\n      <td>...</td>\n      <td>...</td>\n      <td>...</td>\n      <td>...</td>\n      <td>...</td>\n      <td>...</td>\n      <td>...</td>\n      <td>...</td>\n      <td>...</td>\n      <td>...</td>\n      <td>...</td>\n      <td>...</td>\n      <td>...</td>\n      <td>...</td>\n      <td>...</td>\n    </tr>\n    <tr>\n      <th>999994</th>\n      <td>0</td>\n      <td>0</td>\n      <td>0</td>\n      <td>1.0</td>\n      <td>40.0</td>\n      <td>0.0</td>\n      <td>0.0</td>\n      <td>PartOfAHorizontalPortScan</td>\n      <td>0</td>\n      <td>1</td>\n      <td>0</td>\n      <td>0</td>\n      <td>0</td>\n      <td>0</td>\n      <td>0</td>\n      <td>0</td>\n      <td>0</td>\n      <td>1</td>\n      <td>0</td>\n      <td>0</td>\n      <td>0</td>\n      <td>0</td>\n      <td>0</td>\n      <td>0</td>\n    </tr>\n    <tr>\n      <th>999995</th>\n      <td>0</td>\n      <td>0</td>\n      <td>0</td>\n      <td>1.0</td>\n      <td>40.0</td>\n      <td>0.0</td>\n      <td>0.0</td>\n      <td>PartOfAHorizontalPortScan</td>\n      <td>0</td>\n      <td>1</td>\n      <td>0</td>\n      <td>0</td>\n      <td>0</td>\n      <td>0</td>\n      <td>0</td>\n      <td>0</td>\n      <td>0</td>\n      <td>1</td>\n      <td>0</td>\n      <td>0</td>\n      <td>0</td>\n      <td>0</td>\n      <td>0</td>\n      <td>0</td>\n    </tr>\n    <tr>\n      <th>999996</th>\n      <td>0</td>\n      <td>0</td>\n      <td>0</td>\n      <td>1.0</td>\n      <td>40.0</td>\n      <td>0.0</td>\n      <td>0.0</td>\n      <td>PartOfAHorizontalPortScan</td>\n      <td>0</td>\n      <td>1</td>\n      <td>0</td>\n      <td>0</td>\n      <td>0</td>\n      <td>0</td>\n      <td>0</td>\n      <td>0</td>\n      <td>0</td>\n      <td>1</td>\n      <td>0</td>\n      <td>0</td>\n      <td>0</td>\n      <td>0</td>\n      <td>0</td>\n      <td>0</td>\n    </tr>\n    <tr>\n      <th>999997</th>\n      <td>0</td>\n      <td>0</td>\n      <td>0</td>\n      <td>1.0</td>\n      <td>40.0</td>\n      <td>0.0</td>\n      <td>0.0</td>\n      <td>PartOfAHorizontalPortScan</td>\n      <td>0</td>\n      <td>1</td>\n      <td>0</td>\n      <td>0</td>\n      <td>0</td>\n      <td>0</td>\n      <td>0</td>\n      <td>0</td>\n      <td>0</td>\n      <td>1</td>\n      <td>0</td>\n      <td>0</td>\n      <td>0</td>\n      <td>0</td>\n      <td>0</td>\n      <td>0</td>\n    </tr>\n    <tr>\n      <th>999998</th>\n      <td>0</td>\n      <td>0</td>\n      <td>0</td>\n      <td>1.0</td>\n      <td>40.0</td>\n      <td>0.0</td>\n      <td>0.0</td>\n      <td>PartOfAHorizontalPortScan</td>\n      <td>0</td>\n      <td>1</td>\n      <td>0</td>\n      <td>0</td>\n      <td>0</td>\n      <td>0</td>\n      <td>0</td>\n      <td>0</td>\n      <td>0</td>\n      <td>1</td>\n      <td>0</td>\n      <td>0</td>\n      <td>0</td>\n      <td>0</td>\n      <td>0</td>\n      <td>0</td>\n    </tr>\n  </tbody>\n</table>\n<p>19144802 rows × 24 columns</p>\n</div>"
     },
     "execution_count": 43,
     "metadata": {},
     "output_type": "execute_result"
    }
   ],
   "source": [
    "df_c.drop(columns='missed_bytes')"
   ],
   "metadata": {
    "collapsed": false,
    "ExecuteTime": {
     "end_time": "2023-10-21T06:17:46.994640500Z",
     "start_time": "2023-10-21T06:17:44.490623100Z"
    }
   }
  },
  {
   "cell_type": "code",
   "execution_count": 44,
   "outputs": [],
   "source": [
    "df_c['duration'] = df_c['duration'].str.replace('-','0')\n",
    "df_c['orig_bytes'] = df_c['orig_bytes'].str.replace('-','0')\n",
    "df_c['resp_bytes'] = df_c['resp_bytes'].str.replace('-','0')"
   ],
   "metadata": {
    "collapsed": false,
    "ExecuteTime": {
     "end_time": "2023-10-21T06:18:35.316304100Z",
     "start_time": "2023-10-21T06:18:09.585084300Z"
    }
   }
  },
  {
   "cell_type": "code",
   "execution_count": 45,
   "outputs": [],
   "source": [
    "df_c.fillna(-1,inplace=True)"
   ],
   "metadata": {
    "collapsed": false,
    "ExecuteTime": {
     "end_time": "2023-10-21T06:18:47.806308800Z",
     "start_time": "2023-10-21T06:18:44.842180700Z"
    }
   }
  },
  {
   "cell_type": "code",
   "execution_count": 46,
   "outputs": [
    {
     "data": {
      "text/plain": "duration             0\norig_bytes           0\nresp_bytes           0\nmissed_bytes         0\norig_pkts            0\norig_ip_bytes        0\nresp_pkts            0\nresp_ip_bytes        0\nlabel                0\nproto_icmp           0\nproto_tcp            0\nproto_udp            0\nconn_state_OTH       0\nconn_state_REJ       0\nconn_state_RSTO      0\nconn_state_RSTOS0    0\nconn_state_RSTR      0\nconn_state_RSTRH     0\nconn_state_S0        0\nconn_state_S1        0\nconn_state_S2        0\nconn_state_S3        0\nconn_state_SF        0\nconn_state_SH        0\nconn_state_SHR       0\ndtype: int64"
     },
     "execution_count": 46,
     "metadata": {},
     "output_type": "execute_result"
    }
   ],
   "source": [
    "df_c.isna().sum()"
   ],
   "metadata": {
    "collapsed": false,
    "ExecuteTime": {
     "end_time": "2023-10-21T06:18:51.273224700Z",
     "start_time": "2023-10-21T06:18:48.832985600Z"
    }
   }
  },
  {
   "cell_type": "code",
   "execution_count": 48,
   "outputs": [
    {
     "name": "stdout",
     "output_type": "stream",
     "text": [
      "['duration', 'orig_bytes', 'resp_bytes', 'missed_bytes', 'orig_pkts', 'orig_ip_bytes', 'resp_pkts', 'resp_ip_bytes', 'label', 'proto_icmp', 'proto_tcp', 'proto_udp', 'conn_state_OTH', 'conn_state_REJ', 'conn_state_RSTO', 'conn_state_RSTOS0', 'conn_state_RSTR', 'conn_state_RSTRH', 'conn_state_S0', 'conn_state_S1', 'conn_state_S2', 'conn_state_S3', 'conn_state_SF', 'conn_state_SH', 'conn_state_SHR']\n"
     ]
    }
   ],
   "source": [
    "print(df_c.columns.tolist())"
   ],
   "metadata": {
    "collapsed": false,
    "ExecuteTime": {
     "end_time": "2023-10-21T06:18:58.513987200Z",
     "start_time": "2023-10-21T06:18:58.475363700Z"
    }
   }
  },
  {
   "cell_type": "code",
   "execution_count": 49,
   "outputs": [],
   "source": [
    "binary_feature_columns = [\n",
    "    'proto_icmp', 'proto_tcp', 'proto_udp', 'conn_state_OTH', 'conn_state_REJ',\n",
    "    'conn_state_RSTO', 'conn_state_RSTOS0', 'conn_state_RSTR', 'conn_state_RSTRH',\n",
    "    'conn_state_S0', 'conn_state_S1', 'conn_state_S2', 'conn_state_S3',\n",
    "    'conn_state_SF', 'conn_state_SH', 'conn_state_SHR'\n",
    "]\n",
    "\n",
    "df_c[binary_feature_columns] = df_c[binary_feature_columns].replace({True: 1, False: 0})\n"
   ],
   "metadata": {
    "collapsed": false,
    "ExecuteTime": {
     "end_time": "2023-10-21T06:19:19.970669100Z",
     "start_time": "2023-10-21T06:19:13.545139800Z"
    }
   }
  },
  {
   "cell_type": "code",
   "execution_count": 50,
   "outputs": [
    {
     "data": {
      "text/plain": "        duration orig_bytes resp_bytes  missed_bytes  orig_pkts   \n0       2.998796          0          0           0.0        3.0  \\\n1              0          0          0           0.0        1.0   \n2              0          0          0           0.0        1.0   \n3       2.998804          0          0           0.0        3.0   \n4              0          0          0           0.0        1.0   \n...          ...        ...        ...           ...        ...   \n999994         0          0          0           0.0        1.0   \n999995         0          0          0           0.0        1.0   \n999996         0          0          0           0.0        1.0   \n999997         0          0          0           0.0        1.0   \n999998         0          0          0           0.0        1.0   \n\n        orig_ip_bytes  resp_pkts  resp_ip_bytes                      label   \n0               180.0        0.0            0.0  PartOfAHorizontalPortScan  \\\n1                60.0        0.0            0.0  PartOfAHorizontalPortScan   \n2                60.0        0.0            0.0  PartOfAHorizontalPortScan   \n3               180.0        0.0            0.0                     Benign   \n4                60.0        0.0            0.0                     Benign   \n...               ...        ...            ...                        ...   \n999994           40.0        0.0            0.0  PartOfAHorizontalPortScan   \n999995           40.0        0.0            0.0  PartOfAHorizontalPortScan   \n999996           40.0        0.0            0.0  PartOfAHorizontalPortScan   \n999997           40.0        0.0            0.0  PartOfAHorizontalPortScan   \n999998           40.0        0.0            0.0  PartOfAHorizontalPortScan   \n\n        proto_icmp  proto_tcp  proto_udp  conn_state_OTH  conn_state_REJ   \n0                0          1          0               0               0  \\\n1                0          1          0               0               0   \n2                0          1          0               0               0   \n3                0          1          0               0               0   \n4                0          1          0               0               0   \n...            ...        ...        ...             ...             ...   \n999994           0          1          0               0               0   \n999995           0          1          0               0               0   \n999996           0          1          0               0               0   \n999997           0          1          0               0               0   \n999998           0          1          0               0               0   \n\n        conn_state_RSTO  conn_state_RSTOS0  conn_state_RSTR  conn_state_RSTRH   \n0                     0                  0                0                 0  \\\n1                     0                  0                0                 0   \n2                     0                  0                0                 0   \n3                     0                  0                0                 0   \n4                     0                  0                0                 0   \n...                 ...                ...              ...               ...   \n999994                0                  0                0                 0   \n999995                0                  0                0                 0   \n999996                0                  0                0                 0   \n999997                0                  0                0                 0   \n999998                0                  0                0                 0   \n\n        conn_state_S0  conn_state_S1  conn_state_S2  conn_state_S3   \n0                   1              0              0              0  \\\n1                   1              0              0              0   \n2                   1              0              0              0   \n3                   1              0              0              0   \n4                   1              0              0              0   \n...               ...            ...            ...            ...   \n999994              1              0              0              0   \n999995              1              0              0              0   \n999996              1              0              0              0   \n999997              1              0              0              0   \n999998              1              0              0              0   \n\n        conn_state_SF  conn_state_SH  conn_state_SHR  \n0                   0              0               0  \n1                   0              0               0  \n2                   0              0               0  \n3                   0              0               0  \n4                   0              0               0  \n...               ...            ...             ...  \n999994              0              0               0  \n999995              0              0               0  \n999996              0              0               0  \n999997              0              0               0  \n999998              0              0               0  \n\n[19144802 rows x 25 columns]",
      "text/html": "<div>\n<style scoped>\n    .dataframe tbody tr th:only-of-type {\n        vertical-align: middle;\n    }\n\n    .dataframe tbody tr th {\n        vertical-align: top;\n    }\n\n    .dataframe thead th {\n        text-align: right;\n    }\n</style>\n<table border=\"1\" class=\"dataframe\">\n  <thead>\n    <tr style=\"text-align: right;\">\n      <th></th>\n      <th>duration</th>\n      <th>orig_bytes</th>\n      <th>resp_bytes</th>\n      <th>missed_bytes</th>\n      <th>orig_pkts</th>\n      <th>orig_ip_bytes</th>\n      <th>resp_pkts</th>\n      <th>resp_ip_bytes</th>\n      <th>label</th>\n      <th>proto_icmp</th>\n      <th>proto_tcp</th>\n      <th>proto_udp</th>\n      <th>conn_state_OTH</th>\n      <th>conn_state_REJ</th>\n      <th>conn_state_RSTO</th>\n      <th>conn_state_RSTOS0</th>\n      <th>conn_state_RSTR</th>\n      <th>conn_state_RSTRH</th>\n      <th>conn_state_S0</th>\n      <th>conn_state_S1</th>\n      <th>conn_state_S2</th>\n      <th>conn_state_S3</th>\n      <th>conn_state_SF</th>\n      <th>conn_state_SH</th>\n      <th>conn_state_SHR</th>\n    </tr>\n  </thead>\n  <tbody>\n    <tr>\n      <th>0</th>\n      <td>2.998796</td>\n      <td>0</td>\n      <td>0</td>\n      <td>0.0</td>\n      <td>3.0</td>\n      <td>180.0</td>\n      <td>0.0</td>\n      <td>0.0</td>\n      <td>PartOfAHorizontalPortScan</td>\n      <td>0</td>\n      <td>1</td>\n      <td>0</td>\n      <td>0</td>\n      <td>0</td>\n      <td>0</td>\n      <td>0</td>\n      <td>0</td>\n      <td>0</td>\n      <td>1</td>\n      <td>0</td>\n      <td>0</td>\n      <td>0</td>\n      <td>0</td>\n      <td>0</td>\n      <td>0</td>\n    </tr>\n    <tr>\n      <th>1</th>\n      <td>0</td>\n      <td>0</td>\n      <td>0</td>\n      <td>0.0</td>\n      <td>1.0</td>\n      <td>60.0</td>\n      <td>0.0</td>\n      <td>0.0</td>\n      <td>PartOfAHorizontalPortScan</td>\n      <td>0</td>\n      <td>1</td>\n      <td>0</td>\n      <td>0</td>\n      <td>0</td>\n      <td>0</td>\n      <td>0</td>\n      <td>0</td>\n      <td>0</td>\n      <td>1</td>\n      <td>0</td>\n      <td>0</td>\n      <td>0</td>\n      <td>0</td>\n      <td>0</td>\n      <td>0</td>\n    </tr>\n    <tr>\n      <th>2</th>\n      <td>0</td>\n      <td>0</td>\n      <td>0</td>\n      <td>0.0</td>\n      <td>1.0</td>\n      <td>60.0</td>\n      <td>0.0</td>\n      <td>0.0</td>\n      <td>PartOfAHorizontalPortScan</td>\n      <td>0</td>\n      <td>1</td>\n      <td>0</td>\n      <td>0</td>\n      <td>0</td>\n      <td>0</td>\n      <td>0</td>\n      <td>0</td>\n      <td>0</td>\n      <td>1</td>\n      <td>0</td>\n      <td>0</td>\n      <td>0</td>\n      <td>0</td>\n      <td>0</td>\n      <td>0</td>\n    </tr>\n    <tr>\n      <th>3</th>\n      <td>2.998804</td>\n      <td>0</td>\n      <td>0</td>\n      <td>0.0</td>\n      <td>3.0</td>\n      <td>180.0</td>\n      <td>0.0</td>\n      <td>0.0</td>\n      <td>Benign</td>\n      <td>0</td>\n      <td>1</td>\n      <td>0</td>\n      <td>0</td>\n      <td>0</td>\n      <td>0</td>\n      <td>0</td>\n      <td>0</td>\n      <td>0</td>\n      <td>1</td>\n      <td>0</td>\n      <td>0</td>\n      <td>0</td>\n      <td>0</td>\n      <td>0</td>\n      <td>0</td>\n    </tr>\n    <tr>\n      <th>4</th>\n      <td>0</td>\n      <td>0</td>\n      <td>0</td>\n      <td>0.0</td>\n      <td>1.0</td>\n      <td>60.0</td>\n      <td>0.0</td>\n      <td>0.0</td>\n      <td>Benign</td>\n      <td>0</td>\n      <td>1</td>\n      <td>0</td>\n      <td>0</td>\n      <td>0</td>\n      <td>0</td>\n      <td>0</td>\n      <td>0</td>\n      <td>0</td>\n      <td>1</td>\n      <td>0</td>\n      <td>0</td>\n      <td>0</td>\n      <td>0</td>\n      <td>0</td>\n      <td>0</td>\n    </tr>\n    <tr>\n      <th>...</th>\n      <td>...</td>\n      <td>...</td>\n      <td>...</td>\n      <td>...</td>\n      <td>...</td>\n      <td>...</td>\n      <td>...</td>\n      <td>...</td>\n      <td>...</td>\n      <td>...</td>\n      <td>...</td>\n      <td>...</td>\n      <td>...</td>\n      <td>...</td>\n      <td>...</td>\n      <td>...</td>\n      <td>...</td>\n      <td>...</td>\n      <td>...</td>\n      <td>...</td>\n      <td>...</td>\n      <td>...</td>\n      <td>...</td>\n      <td>...</td>\n      <td>...</td>\n    </tr>\n    <tr>\n      <th>999994</th>\n      <td>0</td>\n      <td>0</td>\n      <td>0</td>\n      <td>0.0</td>\n      <td>1.0</td>\n      <td>40.0</td>\n      <td>0.0</td>\n      <td>0.0</td>\n      <td>PartOfAHorizontalPortScan</td>\n      <td>0</td>\n      <td>1</td>\n      <td>0</td>\n      <td>0</td>\n      <td>0</td>\n      <td>0</td>\n      <td>0</td>\n      <td>0</td>\n      <td>0</td>\n      <td>1</td>\n      <td>0</td>\n      <td>0</td>\n      <td>0</td>\n      <td>0</td>\n      <td>0</td>\n      <td>0</td>\n    </tr>\n    <tr>\n      <th>999995</th>\n      <td>0</td>\n      <td>0</td>\n      <td>0</td>\n      <td>0.0</td>\n      <td>1.0</td>\n      <td>40.0</td>\n      <td>0.0</td>\n      <td>0.0</td>\n      <td>PartOfAHorizontalPortScan</td>\n      <td>0</td>\n      <td>1</td>\n      <td>0</td>\n      <td>0</td>\n      <td>0</td>\n      <td>0</td>\n      <td>0</td>\n      <td>0</td>\n      <td>0</td>\n      <td>1</td>\n      <td>0</td>\n      <td>0</td>\n      <td>0</td>\n      <td>0</td>\n      <td>0</td>\n      <td>0</td>\n    </tr>\n    <tr>\n      <th>999996</th>\n      <td>0</td>\n      <td>0</td>\n      <td>0</td>\n      <td>0.0</td>\n      <td>1.0</td>\n      <td>40.0</td>\n      <td>0.0</td>\n      <td>0.0</td>\n      <td>PartOfAHorizontalPortScan</td>\n      <td>0</td>\n      <td>1</td>\n      <td>0</td>\n      <td>0</td>\n      <td>0</td>\n      <td>0</td>\n      <td>0</td>\n      <td>0</td>\n      <td>0</td>\n      <td>1</td>\n      <td>0</td>\n      <td>0</td>\n      <td>0</td>\n      <td>0</td>\n      <td>0</td>\n      <td>0</td>\n    </tr>\n    <tr>\n      <th>999997</th>\n      <td>0</td>\n      <td>0</td>\n      <td>0</td>\n      <td>0.0</td>\n      <td>1.0</td>\n      <td>40.0</td>\n      <td>0.0</td>\n      <td>0.0</td>\n      <td>PartOfAHorizontalPortScan</td>\n      <td>0</td>\n      <td>1</td>\n      <td>0</td>\n      <td>0</td>\n      <td>0</td>\n      <td>0</td>\n      <td>0</td>\n      <td>0</td>\n      <td>0</td>\n      <td>1</td>\n      <td>0</td>\n      <td>0</td>\n      <td>0</td>\n      <td>0</td>\n      <td>0</td>\n      <td>0</td>\n    </tr>\n    <tr>\n      <th>999998</th>\n      <td>0</td>\n      <td>0</td>\n      <td>0</td>\n      <td>0.0</td>\n      <td>1.0</td>\n      <td>40.0</td>\n      <td>0.0</td>\n      <td>0.0</td>\n      <td>PartOfAHorizontalPortScan</td>\n      <td>0</td>\n      <td>1</td>\n      <td>0</td>\n      <td>0</td>\n      <td>0</td>\n      <td>0</td>\n      <td>0</td>\n      <td>0</td>\n      <td>0</td>\n      <td>1</td>\n      <td>0</td>\n      <td>0</td>\n      <td>0</td>\n      <td>0</td>\n      <td>0</td>\n      <td>0</td>\n    </tr>\n  </tbody>\n</table>\n<p>19144802 rows × 25 columns</p>\n</div>"
     },
     "execution_count": 50,
     "metadata": {},
     "output_type": "execute_result"
    }
   ],
   "source": [
    "df_c"
   ],
   "metadata": {
    "collapsed": false,
    "ExecuteTime": {
     "end_time": "2023-10-21T06:19:29.462996800Z",
     "start_time": "2023-10-21T06:19:29.426966300Z"
    }
   }
  },
  {
   "cell_type": "code",
   "execution_count": 52,
   "outputs": [],
   "source": [
    "df_c = df_c.drop('missed_bytes',axis=1)"
   ],
   "metadata": {
    "collapsed": false,
    "ExecuteTime": {
     "end_time": "2023-10-21T06:25:34.265720400Z",
     "start_time": "2023-10-21T06:25:31.614255600Z"
    }
   }
  },
  {
   "cell_type": "code",
   "execution_count": 53,
   "outputs": [
    {
     "data": {
      "text/plain": "        duration orig_bytes resp_bytes  orig_pkts  orig_ip_bytes  resp_pkts   \n0       2.998796          0          0        3.0          180.0        0.0  \\\n1              0          0          0        1.0           60.0        0.0   \n2              0          0          0        1.0           60.0        0.0   \n3       2.998804          0          0        3.0          180.0        0.0   \n4              0          0          0        1.0           60.0        0.0   \n...          ...        ...        ...        ...            ...        ...   \n999994         0          0          0        1.0           40.0        0.0   \n999995         0          0          0        1.0           40.0        0.0   \n999996         0          0          0        1.0           40.0        0.0   \n999997         0          0          0        1.0           40.0        0.0   \n999998         0          0          0        1.0           40.0        0.0   \n\n        resp_ip_bytes                      label  proto_icmp  proto_tcp   \n0                 0.0  PartOfAHorizontalPortScan           0          1  \\\n1                 0.0  PartOfAHorizontalPortScan           0          1   \n2                 0.0  PartOfAHorizontalPortScan           0          1   \n3                 0.0                     Benign           0          1   \n4                 0.0                     Benign           0          1   \n...               ...                        ...         ...        ...   \n999994            0.0  PartOfAHorizontalPortScan           0          1   \n999995            0.0  PartOfAHorizontalPortScan           0          1   \n999996            0.0  PartOfAHorizontalPortScan           0          1   \n999997            0.0  PartOfAHorizontalPortScan           0          1   \n999998            0.0  PartOfAHorizontalPortScan           0          1   \n\n        proto_udp  conn_state_OTH  conn_state_REJ  conn_state_RSTO   \n0               0               0               0                0  \\\n1               0               0               0                0   \n2               0               0               0                0   \n3               0               0               0                0   \n4               0               0               0                0   \n...           ...             ...             ...              ...   \n999994          0               0               0                0   \n999995          0               0               0                0   \n999996          0               0               0                0   \n999997          0               0               0                0   \n999998          0               0               0                0   \n\n        conn_state_RSTOS0  conn_state_RSTR  conn_state_RSTRH  conn_state_S0   \n0                       0                0                 0              1  \\\n1                       0                0                 0              1   \n2                       0                0                 0              1   \n3                       0                0                 0              1   \n4                       0                0                 0              1   \n...                   ...              ...               ...            ...   \n999994                  0                0                 0              1   \n999995                  0                0                 0              1   \n999996                  0                0                 0              1   \n999997                  0                0                 0              1   \n999998                  0                0                 0              1   \n\n        conn_state_S1  conn_state_S2  conn_state_S3  conn_state_SF   \n0                   0              0              0              0  \\\n1                   0              0              0              0   \n2                   0              0              0              0   \n3                   0              0              0              0   \n4                   0              0              0              0   \n...               ...            ...            ...            ...   \n999994              0              0              0              0   \n999995              0              0              0              0   \n999996              0              0              0              0   \n999997              0              0              0              0   \n999998              0              0              0              0   \n\n        conn_state_SH  conn_state_SHR  \n0                   0               0  \n1                   0               0  \n2                   0               0  \n3                   0               0  \n4                   0               0  \n...               ...             ...  \n999994              0               0  \n999995              0               0  \n999996              0               0  \n999997              0               0  \n999998              0               0  \n\n[19144802 rows x 24 columns]",
      "text/html": "<div>\n<style scoped>\n    .dataframe tbody tr th:only-of-type {\n        vertical-align: middle;\n    }\n\n    .dataframe tbody tr th {\n        vertical-align: top;\n    }\n\n    .dataframe thead th {\n        text-align: right;\n    }\n</style>\n<table border=\"1\" class=\"dataframe\">\n  <thead>\n    <tr style=\"text-align: right;\">\n      <th></th>\n      <th>duration</th>\n      <th>orig_bytes</th>\n      <th>resp_bytes</th>\n      <th>orig_pkts</th>\n      <th>orig_ip_bytes</th>\n      <th>resp_pkts</th>\n      <th>resp_ip_bytes</th>\n      <th>label</th>\n      <th>proto_icmp</th>\n      <th>proto_tcp</th>\n      <th>proto_udp</th>\n      <th>conn_state_OTH</th>\n      <th>conn_state_REJ</th>\n      <th>conn_state_RSTO</th>\n      <th>conn_state_RSTOS0</th>\n      <th>conn_state_RSTR</th>\n      <th>conn_state_RSTRH</th>\n      <th>conn_state_S0</th>\n      <th>conn_state_S1</th>\n      <th>conn_state_S2</th>\n      <th>conn_state_S3</th>\n      <th>conn_state_SF</th>\n      <th>conn_state_SH</th>\n      <th>conn_state_SHR</th>\n    </tr>\n  </thead>\n  <tbody>\n    <tr>\n      <th>0</th>\n      <td>2.998796</td>\n      <td>0</td>\n      <td>0</td>\n      <td>3.0</td>\n      <td>180.0</td>\n      <td>0.0</td>\n      <td>0.0</td>\n      <td>PartOfAHorizontalPortScan</td>\n      <td>0</td>\n      <td>1</td>\n      <td>0</td>\n      <td>0</td>\n      <td>0</td>\n      <td>0</td>\n      <td>0</td>\n      <td>0</td>\n      <td>0</td>\n      <td>1</td>\n      <td>0</td>\n      <td>0</td>\n      <td>0</td>\n      <td>0</td>\n      <td>0</td>\n      <td>0</td>\n    </tr>\n    <tr>\n      <th>1</th>\n      <td>0</td>\n      <td>0</td>\n      <td>0</td>\n      <td>1.0</td>\n      <td>60.0</td>\n      <td>0.0</td>\n      <td>0.0</td>\n      <td>PartOfAHorizontalPortScan</td>\n      <td>0</td>\n      <td>1</td>\n      <td>0</td>\n      <td>0</td>\n      <td>0</td>\n      <td>0</td>\n      <td>0</td>\n      <td>0</td>\n      <td>0</td>\n      <td>1</td>\n      <td>0</td>\n      <td>0</td>\n      <td>0</td>\n      <td>0</td>\n      <td>0</td>\n      <td>0</td>\n    </tr>\n    <tr>\n      <th>2</th>\n      <td>0</td>\n      <td>0</td>\n      <td>0</td>\n      <td>1.0</td>\n      <td>60.0</td>\n      <td>0.0</td>\n      <td>0.0</td>\n      <td>PartOfAHorizontalPortScan</td>\n      <td>0</td>\n      <td>1</td>\n      <td>0</td>\n      <td>0</td>\n      <td>0</td>\n      <td>0</td>\n      <td>0</td>\n      <td>0</td>\n      <td>0</td>\n      <td>1</td>\n      <td>0</td>\n      <td>0</td>\n      <td>0</td>\n      <td>0</td>\n      <td>0</td>\n      <td>0</td>\n    </tr>\n    <tr>\n      <th>3</th>\n      <td>2.998804</td>\n      <td>0</td>\n      <td>0</td>\n      <td>3.0</td>\n      <td>180.0</td>\n      <td>0.0</td>\n      <td>0.0</td>\n      <td>Benign</td>\n      <td>0</td>\n      <td>1</td>\n      <td>0</td>\n      <td>0</td>\n      <td>0</td>\n      <td>0</td>\n      <td>0</td>\n      <td>0</td>\n      <td>0</td>\n      <td>1</td>\n      <td>0</td>\n      <td>0</td>\n      <td>0</td>\n      <td>0</td>\n      <td>0</td>\n      <td>0</td>\n    </tr>\n    <tr>\n      <th>4</th>\n      <td>0</td>\n      <td>0</td>\n      <td>0</td>\n      <td>1.0</td>\n      <td>60.0</td>\n      <td>0.0</td>\n      <td>0.0</td>\n      <td>Benign</td>\n      <td>0</td>\n      <td>1</td>\n      <td>0</td>\n      <td>0</td>\n      <td>0</td>\n      <td>0</td>\n      <td>0</td>\n      <td>0</td>\n      <td>0</td>\n      <td>1</td>\n      <td>0</td>\n      <td>0</td>\n      <td>0</td>\n      <td>0</td>\n      <td>0</td>\n      <td>0</td>\n    </tr>\n    <tr>\n      <th>...</th>\n      <td>...</td>\n      <td>...</td>\n      <td>...</td>\n      <td>...</td>\n      <td>...</td>\n      <td>...</td>\n      <td>...</td>\n      <td>...</td>\n      <td>...</td>\n      <td>...</td>\n      <td>...</td>\n      <td>...</td>\n      <td>...</td>\n      <td>...</td>\n      <td>...</td>\n      <td>...</td>\n      <td>...</td>\n      <td>...</td>\n      <td>...</td>\n      <td>...</td>\n      <td>...</td>\n      <td>...</td>\n      <td>...</td>\n      <td>...</td>\n    </tr>\n    <tr>\n      <th>999994</th>\n      <td>0</td>\n      <td>0</td>\n      <td>0</td>\n      <td>1.0</td>\n      <td>40.0</td>\n      <td>0.0</td>\n      <td>0.0</td>\n      <td>PartOfAHorizontalPortScan</td>\n      <td>0</td>\n      <td>1</td>\n      <td>0</td>\n      <td>0</td>\n      <td>0</td>\n      <td>0</td>\n      <td>0</td>\n      <td>0</td>\n      <td>0</td>\n      <td>1</td>\n      <td>0</td>\n      <td>0</td>\n      <td>0</td>\n      <td>0</td>\n      <td>0</td>\n      <td>0</td>\n    </tr>\n    <tr>\n      <th>999995</th>\n      <td>0</td>\n      <td>0</td>\n      <td>0</td>\n      <td>1.0</td>\n      <td>40.0</td>\n      <td>0.0</td>\n      <td>0.0</td>\n      <td>PartOfAHorizontalPortScan</td>\n      <td>0</td>\n      <td>1</td>\n      <td>0</td>\n      <td>0</td>\n      <td>0</td>\n      <td>0</td>\n      <td>0</td>\n      <td>0</td>\n      <td>0</td>\n      <td>1</td>\n      <td>0</td>\n      <td>0</td>\n      <td>0</td>\n      <td>0</td>\n      <td>0</td>\n      <td>0</td>\n    </tr>\n    <tr>\n      <th>999996</th>\n      <td>0</td>\n      <td>0</td>\n      <td>0</td>\n      <td>1.0</td>\n      <td>40.0</td>\n      <td>0.0</td>\n      <td>0.0</td>\n      <td>PartOfAHorizontalPortScan</td>\n      <td>0</td>\n      <td>1</td>\n      <td>0</td>\n      <td>0</td>\n      <td>0</td>\n      <td>0</td>\n      <td>0</td>\n      <td>0</td>\n      <td>0</td>\n      <td>1</td>\n      <td>0</td>\n      <td>0</td>\n      <td>0</td>\n      <td>0</td>\n      <td>0</td>\n      <td>0</td>\n    </tr>\n    <tr>\n      <th>999997</th>\n      <td>0</td>\n      <td>0</td>\n      <td>0</td>\n      <td>1.0</td>\n      <td>40.0</td>\n      <td>0.0</td>\n      <td>0.0</td>\n      <td>PartOfAHorizontalPortScan</td>\n      <td>0</td>\n      <td>1</td>\n      <td>0</td>\n      <td>0</td>\n      <td>0</td>\n      <td>0</td>\n      <td>0</td>\n      <td>0</td>\n      <td>0</td>\n      <td>1</td>\n      <td>0</td>\n      <td>0</td>\n      <td>0</td>\n      <td>0</td>\n      <td>0</td>\n      <td>0</td>\n    </tr>\n    <tr>\n      <th>999998</th>\n      <td>0</td>\n      <td>0</td>\n      <td>0</td>\n      <td>1.0</td>\n      <td>40.0</td>\n      <td>0.0</td>\n      <td>0.0</td>\n      <td>PartOfAHorizontalPortScan</td>\n      <td>0</td>\n      <td>1</td>\n      <td>0</td>\n      <td>0</td>\n      <td>0</td>\n      <td>0</td>\n      <td>0</td>\n      <td>0</td>\n      <td>0</td>\n      <td>1</td>\n      <td>0</td>\n      <td>0</td>\n      <td>0</td>\n      <td>0</td>\n      <td>0</td>\n      <td>0</td>\n    </tr>\n  </tbody>\n</table>\n<p>19144802 rows × 24 columns</p>\n</div>"
     },
     "execution_count": 53,
     "metadata": {},
     "output_type": "execute_result"
    }
   ],
   "source": [
    "df_c"
   ],
   "metadata": {
    "collapsed": false,
    "ExecuteTime": {
     "end_time": "2023-10-21T06:25:40.678607100Z",
     "start_time": "2023-10-21T06:25:40.610068100Z"
    }
   }
  },
  {
   "cell_type": "code",
   "execution_count": 54,
   "outputs": [],
   "source": [
    "df_c.to_csv('iot_combined.csv')"
   ],
   "metadata": {
    "collapsed": false,
    "ExecuteTime": {
     "end_time": "2023-10-21T06:38:20.494401400Z",
     "start_time": "2023-10-21T06:36:47.377573300Z"
    }
   }
  },
  {
   "cell_type": "code",
   "execution_count": null,
   "outputs": [],
   "source": [],
   "metadata": {
    "collapsed": false
   }
  },
  {
   "cell_type": "code",
   "execution_count": null,
   "outputs": [],
   "source": [],
   "metadata": {
    "collapsed": false
   }
  },
  {
   "cell_type": "code",
   "execution_count": null,
   "outputs": [],
   "source": [],
   "metadata": {
    "collapsed": false
   }
  },
  {
   "cell_type": "markdown",
   "source": [
    "Testing by using pyspark"
   ],
   "metadata": {
    "collapsed": false
   }
  },
  {
   "cell_type": "code",
   "execution_count": 2,
   "outputs": [
    {
     "ename": "TypeError",
     "evalue": "load_filtered_dataset() got an unexpected keyword argument 'nrows'",
     "output_type": "error",
     "traceback": [
      "\u001B[1;31m---------------------------------------------------------------------------\u001B[0m",
      "\u001B[1;31mTypeError\u001B[0m                                 Traceback (most recent call last)",
      "Cell \u001B[1;32mIn[2], line 43\u001B[0m\n\u001B[0;32m     39\u001B[0m     df \u001B[38;5;241m=\u001B[39m spark\u001B[38;5;241m.\u001B[39mcreateDataFrame(pdf)\n\u001B[0;32m     41\u001B[0m     \u001B[38;5;28;01mreturn\u001B[39;00m df\n\u001B[1;32m---> 43\u001B[0m df \u001B[38;5;241m=\u001B[39m \u001B[43mload_filtered_dataset\u001B[49m\u001B[43m(\u001B[49m\u001B[38;5;124;43m\"\u001B[39;49m\u001B[38;5;124;43mE:\u001B[39;49m\u001B[38;5;124;43m\\\u001B[39;49m\u001B[38;5;124;43mFinal year project\u001B[39;49m\u001B[38;5;124;43m\\\u001B[39;49m\u001B[38;5;124;43mproject\u001B[39;49m\u001B[38;5;124;43m\\\u001B[39;49m\u001B[38;5;124;43mdatapreprocessing\u001B[39;49m\u001B[38;5;124;43m\\\u001B[39;49m\u001B[38;5;124;43miot_combined.csv\u001B[39;49m\u001B[38;5;124;43m\"\u001B[39;49m\u001B[43m,\u001B[49m\u001B[43mnrows\u001B[49m\u001B[38;5;241;43m=\u001B[39;49m\u001B[38;5;241;43m1000000\u001B[39;49m\u001B[43m)\u001B[49m\n",
      "\u001B[1;31mTypeError\u001B[0m: load_filtered_dataset() got an unexpected keyword argument 'nrows'"
     ]
    }
   ],
   "source": [
    "from pyspark.sql import SparkSession\n",
    "\n",
    "def load_filtered_dataset(filepath: str) -> \"Spark DataFrame\":\n",
    "\n",
    "    # Initialize Spark session if not already initialized\n",
    "    spark = SparkSession.builder.appName(\"IoT-Attack-Detection\").getOrCreate()\n",
    "\n",
    "    # Load data into Spark DataFrame\n",
    "    df = spark.read.csv(filepath, header=True, inferSchema=True)\n",
    "\n",
    "    # Convert 'label' column to numeric index using provided label mapping\n",
    "    label_mapping = {\n",
    "        'Benign': 0,\n",
    "        'PartOfAHorizontalPortScan': 1,\n",
    "        'Okiru': 2,\n",
    "        'DDoS': 3,\n",
    "        'C&C': 4,\n",
    "        'Attack': 5,\n",
    "        'C&C-HeartBeat': 6,\n",
    "        'C&C-FileDownload': 7,\n",
    "        'C&C-Torii': 8,\n",
    "        'FileDownload': 9,\n",
    "        'C&C-HeartBeat-FileDownload': 10,\n",
    "        'Okiru-Attack': 11,\n",
    "        'C&C-Mirai': 12,\n",
    "    }\n",
    "\n",
    "    # Convert Spark DataFrame to Pandas DataFrame\n",
    "    pdf = df.toPandas()\n",
    "\n",
    "    # Apply the label mapping\n",
    "    pdf['labelIndex'] = pdf['label'].map(label_mapping)\n",
    "\n",
    "    # Filter the dataframe to consider only the top 4 labels\n",
    "    labels_to_consider = ['PartOfAHorizontalPortScan', 'Benign', 'Okiru', 'DDoS','C&C']\n",
    "    pdf = pdf[pdf['label'].isin(labels_to_consider)]\n",
    "\n",
    "    # Convert Pandas DataFrame back to Spark DataFrame\n",
    "    df = spark.createDataFrame(pdf)\n",
    "\n",
    "    return df\n",
    "\n",
    "df = load_filtered_dataset(\"E:\\Final year project\\project\\datapreprocessing\\iot_combined.csv\",rows=1000000)"
   ],
   "metadata": {
    "collapsed": false,
    "ExecuteTime": {
     "end_time": "2023-10-22T18:44:45.726784200Z",
     "start_time": "2023-10-22T18:44:45.692311400Z"
    }
   }
  },
  {
   "cell_type": "code",
   "execution_count": null,
   "outputs": [],
   "source": [],
   "metadata": {
    "collapsed": false
   }
  }
 ],
 "metadata": {
  "kernelspec": {
   "display_name": "Python 3",
   "language": "python",
   "name": "python3"
  },
  "language_info": {
   "codemirror_mode": {
    "name": "ipython",
    "version": 2
   },
   "file_extension": ".py",
   "mimetype": "text/x-python",
   "name": "python",
   "nbconvert_exporter": "python",
   "pygments_lexer": "ipython2",
   "version": "2.7.6"
  }
 },
 "nbformat": 4,
 "nbformat_minor": 0
}
