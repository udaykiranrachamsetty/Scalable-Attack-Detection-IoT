{
 "cells": [
  {
   "cell_type": "code",
   "execution_count": 2,
   "metadata": {
    "collapsed": true,
    "ExecuteTime": {
     "end_time": "2023-09-04T07:37:03.064267900Z",
     "start_time": "2023-09-04T07:37:00.206100900Z"
    }
   },
   "outputs": [],
   "source": [
    "import pandas as pd"
   ]
  },
  {
   "cell_type": "code",
   "execution_count": 3,
   "outputs": [],
   "source": [
    "capture_34 = \"E:/Final year project/project/dataset/opt/Malware-Project/BigDataset/IoTScenarios/CTU-IoT-Malware-Capture-34-1/bro/conn.log.labeled\"\n",
    "capture_43 = \"E:/Final year project/project/dataset/opt/Malware-Project/BigDataset/IoTScenarios/CTU-IoT-Malware-Capture-43-1/bro/conn.log.labeled\"\n",
    "capture_44 = \"E:/Final year project/project/dataset/opt/Malware-Project/BigDataset/IoTScenarios/CTU-IoT-Malware-Capture-44-1/bro/conn.log.labeled\"\n",
    "capture_49 = \"E:/Final year project/project/dataset/opt/Malware-Project/BigDataset/IoTScenarios/CTU-IoT-Malware-Capture-49-1/bro/conn.log.labeled\"\n",
    "capture_52 = \"E:/Final year project/project/dataset/opt/Malware-Project/BigDataset/IoTScenarios/CTU-IoT-Malware-Capture-52-1/bro/conn.log.labeled\"\n",
    "capture_20 = \"E:/Final year project/project/dataset/opt/Malware-Project/BigDataset/IoTScenarios/CTU-IoT-Malware-Capture-20-1/bro/conn.log.labeled\"\n",
    "capture_21 = \"E:/Final year project/project/dataset/opt/Malware-Project/BigDataset/IoTScenarios/CTU-IoT-Malware-Capture-21-1/bro/conn.log.labeled\"\n",
    "capture_42 = \"E:/Final year project/project/dataset/opt/Malware-Project/BigDataset/IoTScenarios/CTU-IoT-Malware-Capture-42-1/bro/conn.log.labeled\"\n",
    "capture_60 = \"E:/Final year project/project/dataset/opt/Malware-Project/BigDataset/IoTScenarios/CTU-IoT-Malware-Capture-60-1/bro/conn.log.labeled\"\n",
    "capture_17 = \"E:/Final year project/project/dataset/opt/Malware-Project/BigDataset/IoTScenarios/CTU-IoT-Malware-Capture-17-1/bro/conn.log.labeled\"\n",
    "capture_36 = \"E:/Final year project/project/dataset/opt/Malware-Project/BigDataset/IoTScenarios/CTU-IoT-Malware-Capture-36-1/bro/conn.log.labeled\"\n",
    "capture_33 = \"E:/Final year project/project/dataset/opt/Malware-Project/BigDataset/IoTScenarios/CTU-IoT-Malware-Capture-33-1/bro/conn.log.labeled\"\n",
    "capture_8 = \"E:/Final year project/project/dataset/opt/Malware-Project/BigDataset/IoTScenarios/CTU-IoT-Malware-Capture-8-1/bro/conn.log.labeled\"\n",
    "capture_35 = \"E:/Final year project/project/dataset/opt/Malware-Project/BigDataset/IoTScenarios/CTU-IoT-Malware-Capture-35-1/bro/conn.log.labeled\"\n",
    "capture_48 = \"E:/Final year project/project/dataset/opt/Malware-Project/BigDataset/IoTScenarios/CTU-IoT-Malware-Capture-48-1/bro/conn.log.labeled\"\n",
    "capture_39 = \"E:/Final year project/project/dataset/opt/Malware-Project/BigDataset/IoTScenarios/CTU-IoT-Malware-Capture-39-1/bro/conn.log.labeled\"\n",
    "capture_7 = \"E:/Final year project/project/dataset/opt/Malware-Project/BigDataset/IoTScenarios/CTU-Honeypot-Capture-7-1/Somfy-01/bro/conn.log.labeled\"\n",
    "capture_9 = \"E:/Final year project/project/dataset/opt/Malware-Project/BigDataset/IoTScenarios/CTU-IoT-Malware-Capture-9-1/bro/conn.log.labeled\"\n",
    "capture_3 = \"E:/Final year project/project/dataset/opt/Malware-Project/BigDataset/IoTScenarios/CTU-IoT-Malware-Capture-3-1/bro/conn.log.labeled\"\n",
    "capture_1 = \"E:/Final year project/project/dataset/opt/Malware-Project/BigDataset/IoTScenarios/CTU-IoT-Malware-Capture-1-1/bro/conn.log.labeled\""
   ],
   "metadata": {
    "collapsed": false,
    "ExecuteTime": {
     "end_time": "2023-09-04T07:37:06.179451700Z",
     "start_time": "2023-09-04T07:37:06.170240400Z"
    }
   }
  },
  {
   "cell_type": "code",
   "execution_count": 6,
   "outputs": [],
   "source": [
    "df34 = pd.read_table(filepath_or_buffer=capture_34, skiprows=10)\n",
    "df34.columns=['ts',\n",
    "              'uid',\n",
    "              'id.orig_h',\n",
    "              'id.orig_p',\n",
    "              'id.resp_h',\n",
    "              'id.resp_p',\n",
    "              'proto',\n",
    "              'service',\n",
    "              'duration',\n",
    "              'orig_bytes',\n",
    "              'resp_bytes',\n",
    "              'conn_state',\n",
    "              'local_orig',\n",
    "              'local_resp',\n",
    "              'missed_bytes',\n",
    "              'history',\n",
    "              'orig_pkts',\n",
    "              'orig_ip_bytes',\n",
    "              'resp_pkts',\n",
    "              'resp_ip_bytes',\n",
    "              'label']\n",
    "df34.drop(df34.tail(1).index,inplace=True)"
   ],
   "metadata": {
    "collapsed": false,
    "ExecuteTime": {
     "end_time": "2023-09-04T07:38:01.502848Z",
     "start_time": "2023-09-04T07:38:01.386701600Z"
    }
   }
  },
  {
   "cell_type": "code",
   "execution_count": 8,
   "outputs": [],
   "source": [
    "df43 = pd.read_table(filepath_or_buffer=capture_43, skiprows=10,nrows=1000000)\n",
    "df43.columns=['ts',\n",
    "              'uid',\n",
    "              'id.orig_h',\n",
    "              'id.orig_p',\n",
    "              'id.resp_h',\n",
    "              'id.resp_p',\n",
    "              'proto',\n",
    "              'service',\n",
    "              'duration',\n",
    "              'orig_bytes',\n",
    "              'resp_bytes',\n",
    "              'conn_state',\n",
    "              'local_orig',\n",
    "              'local_resp',\n",
    "              'missed_bytes',\n",
    "              'history',\n",
    "              'orig_pkts',\n",
    "              'orig_ip_bytes',\n",
    "              'resp_pkts',\n",
    "              'resp_ip_bytes',\n",
    "              'label']\n",
    "df43.drop(df43.tail(1).index,inplace=True)"
   ],
   "metadata": {
    "collapsed": false,
    "ExecuteTime": {
     "end_time": "2023-09-04T07:40:57.846565800Z",
     "start_time": "2023-09-04T07:40:46.624852100Z"
    }
   }
  },
  {
   "cell_type": "code",
   "execution_count": 9,
   "outputs": [],
   "source": [
    "df44 = pd.read_table(filepath_or_buffer=capture_44, skiprows=10, nrows=1000000)\n",
    "df44.columns=['ts',\n",
    "              'uid',\n",
    "              'id.orig_h',\n",
    "              'id.orig_p',\n",
    "              'id.resp_h',\n",
    "              'id.resp_p',\n",
    "              'proto',\n",
    "              'service',\n",
    "              'duration',\n",
    "              'orig_bytes',\n",
    "              'resp_bytes',\n",
    "              'conn_state',\n",
    "              'local_orig',\n",
    "              'local_resp',\n",
    "              'missed_bytes',\n",
    "              'history',\n",
    "              'orig_pkts',\n",
    "              'orig_ip_bytes',\n",
    "              'resp_pkts',\n",
    "              'resp_ip_bytes',\n",
    "              'label']\n",
    "df44.drop(df44.tail(1).index,inplace=True)"
   ],
   "metadata": {
    "collapsed": false,
    "ExecuteTime": {
     "end_time": "2023-09-04T07:42:01.833054900Z",
     "start_time": "2023-09-04T07:42:01.814587Z"
    }
   }
  },
  {
   "cell_type": "code",
   "execution_count": 10,
   "outputs": [],
   "source": [
    "df49 = pd.read_table(filepath_or_buffer=capture_49, skiprows=10, nrows=1000000)\n",
    "df49.columns=['ts',\n",
    "              'uid',\n",
    "              'id.orig_h',\n",
    "              'id.orig_p',\n",
    "              'id.resp_h',\n",
    "              'id.resp_p',\n",
    "              'proto',\n",
    "              'service',\n",
    "              'duration',\n",
    "              'orig_bytes',\n",
    "              'resp_bytes',\n",
    "              'conn_state',\n",
    "              'local_orig',\n",
    "              'local_resp',\n",
    "              'missed_bytes',\n",
    "              'history',\n",
    "              'orig_pkts',\n",
    "              'orig_ip_bytes',\n",
    "              'resp_pkts',\n",
    "              'resp_ip_bytes',\n",
    "              'label']\n",
    "df49.drop(df49.tail(1).index,inplace=True)"
   ],
   "metadata": {
    "collapsed": false,
    "ExecuteTime": {
     "end_time": "2023-09-04T07:42:36.563084300Z",
     "start_time": "2023-09-04T07:42:32.100695500Z"
    }
   }
  },
  {
   "cell_type": "code",
   "execution_count": 11,
   "outputs": [],
   "source": [
    "df52 = pd.read_table(filepath_or_buffer=capture_52, skiprows=10, nrows=1000000)\n",
    "df52.columns=['ts',\n",
    "              'uid',\n",
    "              'id.orig_h',\n",
    "              'id.orig_p',\n",
    "              'id.resp_h',\n",
    "              'id.resp_p',\n",
    "              'proto',\n",
    "              'service',\n",
    "              'duration',\n",
    "              'orig_bytes',\n",
    "              'resp_bytes',\n",
    "              'conn_state',\n",
    "              'local_orig',\n",
    "              'local_resp',\n",
    "              'missed_bytes',\n",
    "              'history',\n",
    "              'orig_pkts',\n",
    "              'orig_ip_bytes',\n",
    "              'resp_pkts',\n",
    "              'resp_ip_bytes',\n",
    "              'label']\n",
    "df52.drop(df52.tail(1).index,inplace=True)"
   ],
   "metadata": {
    "collapsed": false,
    "ExecuteTime": {
     "end_time": "2023-09-04T07:42:58.404318800Z",
     "start_time": "2023-09-04T07:42:53.981250600Z"
    }
   }
  },
  {
   "cell_type": "code",
   "execution_count": 12,
   "outputs": [],
   "source": [
    "df20 = pd.read_table(filepath_or_buffer=capture_20, skiprows=10, nrows=1000000)\n",
    "df20.columns=['ts',\n",
    "              'uid',\n",
    "              'id.orig_h',\n",
    "              'id.orig_p',\n",
    "              'id.resp_h',\n",
    "              'id.resp_p',\n",
    "              'proto',\n",
    "              'service',\n",
    "              'duration',\n",
    "              'orig_bytes',\n",
    "              'resp_bytes',\n",
    "              'conn_state',\n",
    "              'local_orig',\n",
    "              'local_resp',\n",
    "              'missed_bytes',\n",
    "              'history',\n",
    "              'orig_pkts',\n",
    "              'orig_ip_bytes',\n",
    "              'resp_pkts',\n",
    "              'resp_ip_bytes',\n",
    "              'label']\n",
    "df20.drop(df20.tail(1).index,inplace=True)"
   ],
   "metadata": {
    "collapsed": false,
    "ExecuteTime": {
     "end_time": "2023-09-04T07:43:08.765439200Z",
     "start_time": "2023-09-04T07:43:08.636355600Z"
    }
   }
  },
  {
   "cell_type": "code",
   "execution_count": 13,
   "outputs": [],
   "source": [
    "df21 = pd.read_table(filepath_or_buffer=capture_21, skiprows=10, nrows=1000000)\n",
    "df21.columns=['ts',\n",
    "              'uid',\n",
    "              'id.orig_h',\n",
    "              'id.orig_p',\n",
    "              'id.resp_h',\n",
    "              'id.resp_p',\n",
    "              'proto',\n",
    "              'service',\n",
    "              'duration',\n",
    "              'orig_bytes',\n",
    "              'resp_bytes',\n",
    "              'conn_state',\n",
    "              'local_orig',\n",
    "              'local_resp',\n",
    "              'missed_bytes',\n",
    "              'history',\n",
    "              'orig_pkts',\n",
    "              'orig_ip_bytes',\n",
    "              'resp_pkts',\n",
    "              'resp_ip_bytes',\n",
    "              'label']\n",
    "df21.drop(df21.tail(1).index,inplace=True)"
   ],
   "metadata": {
    "collapsed": false,
    "ExecuteTime": {
     "end_time": "2023-09-04T07:43:22.506483100Z",
     "start_time": "2023-09-04T07:43:22.471273Z"
    }
   }
  },
  {
   "cell_type": "code",
   "execution_count": 14,
   "outputs": [],
   "source": [
    "df42 = pd.read_table(filepath_or_buffer=capture_42, skiprows=10, nrows=1000000)\n",
    "df42.columns=['ts',\n",
    "              'uid',\n",
    "              'id.orig_h',\n",
    "              'id.orig_p',\n",
    "              'id.resp_h',\n",
    "              'id.resp_p',\n",
    "              'proto',\n",
    "              'service',\n",
    "              'duration',\n",
    "              'orig_bytes',\n",
    "              'resp_bytes',\n",
    "              'conn_state',\n",
    "              'local_orig',\n",
    "              'local_resp',\n",
    "              'missed_bytes',\n",
    "              'history',\n",
    "              'orig_pkts',\n",
    "              'orig_ip_bytes',\n",
    "              'resp_pkts',\n",
    "              'resp_ip_bytes',\n",
    "              'label']\n",
    "df42.drop(df42.tail(1).index,inplace=True)"
   ],
   "metadata": {
    "collapsed": false,
    "ExecuteTime": {
     "end_time": "2023-09-04T07:43:31.635398400Z",
     "start_time": "2023-09-04T07:43:31.507925900Z"
    }
   }
  },
  {
   "cell_type": "code",
   "execution_count": 15,
   "outputs": [],
   "source": [
    "df60 = pd.read_table(filepath_or_buffer=capture_60, skiprows=10, nrows=1000000)\n",
    "df60.columns=['ts',\n",
    "              'uid',\n",
    "              'id.orig_h',\n",
    "              'id.orig_p',\n",
    "              'id.resp_h',\n",
    "              'id.resp_p',\n",
    "              'proto',\n",
    "              'service',\n",
    "              'duration',\n",
    "              'orig_bytes',\n",
    "              'resp_bytes',\n",
    "              'conn_state',\n",
    "              'local_orig',\n",
    "              'local_resp',\n",
    "              'missed_bytes',\n",
    "              'history',\n",
    "              'orig_pkts',\n",
    "              'orig_ip_bytes',\n",
    "              'resp_pkts',\n",
    "              'resp_ip_bytes',\n",
    "              'label']\n",
    "df60.drop(df60.tail(1).index,inplace=True)"
   ],
   "metadata": {
    "collapsed": false,
    "ExecuteTime": {
     "end_time": "2023-09-04T07:43:41.193843800Z",
     "start_time": "2023-09-04T07:43:37.276801900Z"
    }
   }
  },
  {
   "cell_type": "code",
   "execution_count": 16,
   "outputs": [],
   "source": [
    "df17 = pd.read_table(filepath_or_buffer=capture_17, skiprows=10, nrows=1000000)\n",
    "df17.columns=['ts',\n",
    "              'uid',\n",
    "              'id.orig_h',\n",
    "              'id.orig_p',\n",
    "              'id.resp_h',\n",
    "              'id.resp_p',\n",
    "              'proto',\n",
    "              'service',\n",
    "              'duration',\n",
    "              'orig_bytes',\n",
    "              'resp_bytes',\n",
    "              'conn_state',\n",
    "              'local_orig',\n",
    "              'local_resp',\n",
    "              'missed_bytes',\n",
    "              'history',\n",
    "              'orig_pkts',\n",
    "              'orig_ip_bytes',\n",
    "              'resp_pkts',\n",
    "              'resp_ip_bytes',\n",
    "              'label']\n",
    "df17.drop(df17.tail(1).index,inplace=True)"
   ],
   "metadata": {
    "collapsed": false,
    "ExecuteTime": {
     "end_time": "2023-09-04T07:43:49.600370500Z",
     "start_time": "2023-09-04T07:43:44.916355600Z"
    }
   }
  },
  {
   "cell_type": "code",
   "execution_count": 17,
   "outputs": [],
   "source": [
    "df36 = pd.read_table(filepath_or_buffer=capture_36, skiprows=10, nrows=1000000)\n",
    "df36.columns=['ts',\n",
    "              'uid',\n",
    "              'id.orig_h',\n",
    "              'id.orig_p',\n",
    "              'id.resp_h',\n",
    "              'id.resp_p',\n",
    "              'proto',\n",
    "              'service',\n",
    "              'duration',\n",
    "              'orig_bytes',\n",
    "              'resp_bytes',\n",
    "              'conn_state',\n",
    "              'local_orig',\n",
    "              'local_resp',\n",
    "              'missed_bytes',\n",
    "              'history',\n",
    "              'orig_pkts',\n",
    "              'orig_ip_bytes',\n",
    "              'resp_pkts',\n",
    "              'resp_ip_bytes',\n",
    "              'label']\n",
    "df36.drop(df36.tail(1).index,inplace=True)"
   ],
   "metadata": {
    "collapsed": false,
    "ExecuteTime": {
     "end_time": "2023-09-04T07:44:02.983980200Z",
     "start_time": "2023-09-04T07:43:58.698597500Z"
    }
   }
  },
  {
   "cell_type": "code",
   "execution_count": 18,
   "outputs": [],
   "source": [
    "df33 = pd.read_table(filepath_or_buffer=capture_33, skiprows=10, nrows=100000)\n",
    "df33.columns=['ts',\n",
    "              'uid',\n",
    "              'id.orig_h',\n",
    "              'id.orig_p',\n",
    "              'id.resp_h',\n",
    "              'id.resp_p',\n",
    "              'proto',\n",
    "              'service',\n",
    "              'duration',\n",
    "              'orig_bytes',\n",
    "              'resp_bytes',\n",
    "              'conn_state',\n",
    "              'local_orig',\n",
    "              'local_resp',\n",
    "              'missed_bytes',\n",
    "              'history',\n",
    "              'orig_pkts',\n",
    "              'orig_ip_bytes',\n",
    "              'resp_pkts',\n",
    "              'resp_ip_bytes',\n",
    "              'label']\n",
    "df33.drop(df33.tail(1).index,inplace=True)"
   ],
   "metadata": {
    "collapsed": false,
    "ExecuteTime": {
     "end_time": "2023-09-04T07:44:06.328925300Z",
     "start_time": "2023-09-04T07:44:05.669348500Z"
    }
   }
  },
  {
   "cell_type": "code",
   "execution_count": 19,
   "outputs": [],
   "source": [
    "df8 = pd.read_table(filepath_or_buffer=capture_8, skiprows=10, nrows=1000000)\n",
    "df8.columns=['ts',\n",
    "             'uid',\n",
    "             'id.orig_h',\n",
    "             'id.orig_p',\n",
    "             'id.resp_h',\n",
    "             'id.resp_p',\n",
    "             'proto',\n",
    "             'service',\n",
    "             'duration',\n",
    "             'orig_bytes',\n",
    "             'resp_bytes',\n",
    "             'conn_state',\n",
    "             'local_orig',\n",
    "             'local_resp',\n",
    "             'missed_bytes',\n",
    "             'history',\n",
    "             'orig_pkts',\n",
    "             'orig_ip_bytes',\n",
    "             'resp_pkts',\n",
    "             'resp_ip_bytes',\n",
    "             'label']\n",
    "df8.drop(df8.tail(1).index,inplace=True)"
   ],
   "metadata": {
    "collapsed": false,
    "ExecuteTime": {
     "end_time": "2023-09-04T07:44:20.914873800Z",
     "start_time": "2023-09-04T07:44:20.825225600Z"
    }
   }
  },
  {
   "cell_type": "code",
   "execution_count": 20,
   "outputs": [],
   "source": [
    "df35 = pd.read_table(filepath_or_buffer=capture_35, skiprows=10, nrows=1000000)\n",
    "df35.columns=['ts',\n",
    "              'uid',\n",
    "              'id.orig_h',\n",
    "              'id.orig_p',\n",
    "              'id.resp_h',\n",
    "              'id.resp_p',\n",
    "              'proto',\n",
    "              'service',\n",
    "              'duration',\n",
    "              'orig_bytes',\n",
    "              'resp_bytes',\n",
    "              'conn_state',\n",
    "              'local_orig',\n",
    "              'local_resp',\n",
    "              'missed_bytes',\n",
    "              'history',\n",
    "              'orig_pkts',\n",
    "              'orig_ip_bytes',\n",
    "              'resp_pkts',\n",
    "              'resp_ip_bytes',\n",
    "              'label']\n",
    "df35.drop(df35.tail(1).index,inplace=True)"
   ],
   "metadata": {
    "collapsed": false,
    "ExecuteTime": {
     "end_time": "2023-09-04T07:44:36.341969900Z",
     "start_time": "2023-09-04T07:44:32.449963Z"
    }
   }
  },
  {
   "cell_type": "code",
   "execution_count": 21,
   "outputs": [],
   "source": [
    "df48 = pd.read_table(filepath_or_buffer=capture_48, skiprows=10, nrows=1000000)\n",
    "df48.columns=['ts',\n",
    "              'uid',\n",
    "              'id.orig_h',\n",
    "              'id.orig_p',\n",
    "              'id.resp_h',\n",
    "              'id.resp_p',\n",
    "              'proto',\n",
    "              'service',\n",
    "              'duration',\n",
    "              'orig_bytes',\n",
    "              'resp_bytes',\n",
    "              'conn_state',\n",
    "              'local_orig',\n",
    "              'local_resp',\n",
    "              'missed_bytes',\n",
    "              'history',\n",
    "              'orig_pkts',\n",
    "              'orig_ip_bytes',\n",
    "              'resp_pkts',\n",
    "              'resp_ip_bytes',\n",
    "              'label']\n",
    "df48.drop(df48.tail(1).index,inplace=True)"
   ],
   "metadata": {
    "collapsed": false,
    "ExecuteTime": {
     "end_time": "2023-09-04T07:44:47.079419300Z",
     "start_time": "2023-09-04T07:44:43.399167600Z"
    }
   }
  },
  {
   "cell_type": "code",
   "execution_count": 22,
   "outputs": [],
   "source": [
    "df39 = pd.read_table(filepath_or_buffer=capture_39, skiprows=10, nrows=1000000)\n",
    "df39.columns=['ts',\n",
    "              'uid',\n",
    "              'id.orig_h',\n",
    "              'id.orig_p',\n",
    "              'id.resp_h',\n",
    "              'id.resp_p',\n",
    "              'proto',\n",
    "              'service',\n",
    "              'duration',\n",
    "              'orig_bytes',\n",
    "              'resp_bytes',\n",
    "              'conn_state',\n",
    "              'local_orig',\n",
    "              'local_resp',\n",
    "              'missed_bytes',\n",
    "              'history',\n",
    "              'orig_pkts',\n",
    "              'orig_ip_bytes',\n",
    "              'resp_pkts',\n",
    "              'resp_ip_bytes',\n",
    "              'label']\n",
    "df39.drop(df39.tail(1).index,inplace=True)"
   ],
   "metadata": {
    "collapsed": false,
    "ExecuteTime": {
     "end_time": "2023-09-04T07:44:56.490873600Z",
     "start_time": "2023-09-04T07:44:52.337836700Z"
    }
   }
  },
  {
   "cell_type": "code",
   "execution_count": 23,
   "outputs": [],
   "source": [
    "df7 = pd.read_table(filepath_or_buffer=capture_7, skiprows=10, nrows=1000000)\n",
    "df7.columns=['ts',\n",
    "             'uid',\n",
    "             'id.orig_h',\n",
    "             'id.orig_p',\n",
    "             'id.resp_h',\n",
    "             'id.resp_p',\n",
    "             'proto',\n",
    "             'service',\n",
    "             'duration',\n",
    "             'orig_bytes',\n",
    "             'resp_bytes',\n",
    "             'conn_state',\n",
    "             'local_orig',\n",
    "             'local_resp',\n",
    "             'missed_bytes',\n",
    "             'history',\n",
    "             'orig_pkts',\n",
    "             'orig_ip_bytes',\n",
    "             'resp_pkts',\n",
    "             'resp_ip_bytes',\n",
    "             'label']\n",
    "df7.drop(df7.tail(1).index,inplace=True)"
   ],
   "metadata": {
    "collapsed": false,
    "ExecuteTime": {
     "end_time": "2023-09-04T07:45:01.372142200Z",
     "start_time": "2023-09-04T07:45:01.326982200Z"
    }
   }
  },
  {
   "cell_type": "code",
   "execution_count": 24,
   "outputs": [],
   "source": [
    "df9 = pd.read_table(filepath_or_buffer=capture_9, skiprows=10, nrows=1000000)\n",
    "df9.columns=['ts',\n",
    "             'uid',\n",
    "             'id.orig_h',\n",
    "             'id.orig_p',\n",
    "             'id.resp_h',\n",
    "             'id.resp_p',\n",
    "             'proto',\n",
    "             'service',\n",
    "             'duration',\n",
    "             'orig_bytes',\n",
    "             'resp_bytes',\n",
    "             'conn_state',\n",
    "             'local_orig',\n",
    "             'local_resp',\n",
    "             'missed_bytes',\n",
    "             'history',\n",
    "             'orig_pkts',\n",
    "             'orig_ip_bytes',\n",
    "             'resp_pkts',\n",
    "             'resp_ip_bytes',\n",
    "             'label']\n",
    "df9.drop(df9.tail(1).index,inplace=True)"
   ],
   "metadata": {
    "collapsed": false,
    "ExecuteTime": {
     "end_time": "2023-09-04T07:45:17.930653500Z",
     "start_time": "2023-09-04T07:45:13.851701200Z"
    }
   }
  },
  {
   "cell_type": "code",
   "execution_count": 26,
   "outputs": [],
   "source": [
    "df3 = pd.read_table(filepath_or_buffer=capture_3, skiprows=10, nrows=100000)\n",
    "df3.columns=['ts',\n",
    "             'uid',\n",
    "             'id.orig_h',\n",
    "             'id.orig_p',\n",
    "             'id.resp_h',\n",
    "             'id.resp_p',\n",
    "             'proto',\n",
    "             'service',\n",
    "             'duration',\n",
    "             'orig_bytes',\n",
    "             'resp_bytes',\n",
    "             'conn_state',\n",
    "             'local_orig',\n",
    "             'local_resp',\n",
    "             'missed_bytes',\n",
    "             'history',\n",
    "             'orig_pkts',\n",
    "             'orig_ip_bytes',\n",
    "             'resp_pkts',\n",
    "             'resp_ip_bytes',\n",
    "             'label']\n",
    "df3.drop(df3.tail(1).index,inplace=True)"
   ],
   "metadata": {
    "collapsed": false,
    "ExecuteTime": {
     "end_time": "2023-09-04T07:45:39.777715400Z",
     "start_time": "2023-09-04T07:45:38.831911200Z"
    }
   }
  },
  {
   "cell_type": "code",
   "execution_count": 27,
   "outputs": [],
   "source": [
    "df1 = pd.read_table(filepath_or_buffer=capture_1, skiprows=10, nrows=1000000)\n",
    "df1.columns=['ts',\n",
    "             'uid',\n",
    "             'id.orig_h',\n",
    "             'id.orig_p',\n",
    "             'id.resp_h',\n",
    "             'id.resp_p',\n",
    "             'proto',\n",
    "             'service',\n",
    "             'duration',\n",
    "             'orig_bytes',\n",
    "             'resp_bytes',\n",
    "             'conn_state',\n",
    "             'local_orig',\n",
    "             'local_resp',\n",
    "             'missed_bytes',\n",
    "             'history',\n",
    "             'orig_pkts',\n",
    "             'orig_ip_bytes',\n",
    "             'resp_pkts',\n",
    "             'resp_ip_bytes',\n",
    "             'label']\n",
    "df1.drop(df1.tail(1).index,inplace=True)"
   ],
   "metadata": {
    "collapsed": false,
    "ExecuteTime": {
     "end_time": "2023-09-04T07:45:48.834895200Z",
     "start_time": "2023-09-04T07:45:45.029126400Z"
    }
   }
  },
  {
   "cell_type": "code",
   "execution_count": 28,
   "outputs": [],
   "source": [
    "frames=[df1, df17, df20, df21, df3, df33, df34, df35, df36, df39, df42, df43, df44, df48, df49, df52, df60, df7, df8, df9]"
   ],
   "metadata": {
    "collapsed": false,
    "ExecuteTime": {
     "end_time": "2023-09-04T07:45:52.755857200Z",
     "start_time": "2023-09-04T07:45:52.749833900Z"
    }
   }
  },
  {
   "cell_type": "code",
   "execution_count": 29,
   "outputs": [],
   "source": [
    "df_c=pd.concat(frames)"
   ],
   "metadata": {
    "collapsed": false,
    "ExecuteTime": {
     "end_time": "2023-09-04T07:46:00.247283300Z",
     "start_time": "2023-09-04T07:45:56.781229700Z"
    }
   }
  },
  {
   "cell_type": "code",
   "execution_count": 30,
   "outputs": [
    {
     "data": {
      "text/plain": "                       ts                 uid        id.orig_h  id.orig_p   \n0        1525879832.01624   CDe43c1PtgynajGI6  192.168.100.103    60905.0  \\\n1       1525879832.024985  CJaDcG3MZzvf1YVYI4  192.168.100.103    44301.0   \n2       1525879832.044975  CMBrup3BLXivSp4Avc  192.168.100.103    50244.0   \n3       1525879833.016171  CfHl9r3XMYtDQRrHnh  192.168.100.103    34243.0   \n4       1525879833.044906  C7USrA15nFVkniMqC5  192.168.100.103    34840.0   \n...                   ...                 ...              ...        ...   \n999994  1532534874.003333  Czfm4a3R4MD1VocO76  192.168.100.111    40056.0   \n999995  1532534874.003335  CoZcO81e19bEGcoLCd  192.168.100.111    11769.0   \n999996  1532534874.003336  CW9x4g10zM3eXYOT25  192.168.100.111    44225.0   \n999997  1532534874.003577   CMpWnC2fZlAXgTvFR  192.168.100.111    53947.0   \n999998  1532534874.003581  CDirws3wG2DEwBamM5  192.168.100.111    53701.0   \n\n              id.resp_h  id.resp_p proto service  duration orig_bytes  ...   \n0       131.174.215.147       23.0   tcp       -  2.998796          0  ...  \\\n1           91.42.47.63       23.0   tcp       -         -          -  ...   \n2       120.210.108.200       23.0   tcp       -         -          -  ...   \n3          147.7.65.203    49560.0   tcp       -  2.998804          0  ...   \n4          145.164.35.6    21288.0   tcp       -         -          -  ...   \n...                 ...        ...   ...     ...       ...        ...  ...   \n999994   144.147.23.251       81.0   tcp       -         -          -  ...   \n999995    80.116.116.70       81.0   tcp       -         -          -  ...   \n999996   95.230.130.195       81.0   tcp       -         -          -  ...   \n999997    35.93.207.128       81.0   tcp       -         -          -  ...   \n999998    86.142.47.152       81.0   tcp       -         -          -  ...   \n\n       conn_state local_orig local_resp missed_bytes  history orig_pkts   \n0              S0          -          -          0.0        S       3.0  \\\n1              S0          -          -          0.0        S       1.0   \n2              S0          -          -          0.0        S       1.0   \n3              S0          -          -          0.0        S       3.0   \n4              S0          -          -          0.0        S       1.0   \n...           ...        ...        ...          ...      ...       ...   \n999994         S0          -          -          0.0        S       1.0   \n999995         S0          -          -          0.0        S       1.0   \n999996         S0          -          -          0.0        S       1.0   \n999997         S0          -          -          0.0        S       1.0   \n999998         S0          -          -          0.0        S       1.0   \n\n        orig_ip_bytes  resp_pkts  resp_ip_bytes   \n0               180.0        0.0            0.0  \\\n1                60.0        0.0            0.0   \n2                60.0        0.0            0.0   \n3               180.0        0.0            0.0   \n4                60.0        0.0            0.0   \n...               ...        ...            ...   \n999994           40.0        0.0            0.0   \n999995           40.0        0.0            0.0   \n999996           40.0        0.0            0.0   \n999997           40.0        0.0            0.0   \n999998           40.0        0.0            0.0   \n\n                                                  label  \n0       (empty)   Malicious   PartOfAHorizontalPortScan  \n1       (empty)   Malicious   PartOfAHorizontalPortScan  \n2       (empty)   Malicious   PartOfAHorizontalPortScan  \n3                                  (empty)   Benign   -  \n4                                  (empty)   Benign   -  \n...                                                 ...  \n999994  (empty)   Malicious   PartOfAHorizontalPortScan  \n999995  (empty)   Malicious   PartOfAHorizontalPortScan  \n999996  (empty)   Malicious   PartOfAHorizontalPortScan  \n999997  (empty)   Malicious   PartOfAHorizontalPortScan  \n999998  (empty)   Malicious   PartOfAHorizontalPortScan  \n\n[11244802 rows x 21 columns]",
      "text/html": "<div>\n<style scoped>\n    .dataframe tbody tr th:only-of-type {\n        vertical-align: middle;\n    }\n\n    .dataframe tbody tr th {\n        vertical-align: top;\n    }\n\n    .dataframe thead th {\n        text-align: right;\n    }\n</style>\n<table border=\"1\" class=\"dataframe\">\n  <thead>\n    <tr style=\"text-align: right;\">\n      <th></th>\n      <th>ts</th>\n      <th>uid</th>\n      <th>id.orig_h</th>\n      <th>id.orig_p</th>\n      <th>id.resp_h</th>\n      <th>id.resp_p</th>\n      <th>proto</th>\n      <th>service</th>\n      <th>duration</th>\n      <th>orig_bytes</th>\n      <th>...</th>\n      <th>conn_state</th>\n      <th>local_orig</th>\n      <th>local_resp</th>\n      <th>missed_bytes</th>\n      <th>history</th>\n      <th>orig_pkts</th>\n      <th>orig_ip_bytes</th>\n      <th>resp_pkts</th>\n      <th>resp_ip_bytes</th>\n      <th>label</th>\n    </tr>\n  </thead>\n  <tbody>\n    <tr>\n      <th>0</th>\n      <td>1525879832.01624</td>\n      <td>CDe43c1PtgynajGI6</td>\n      <td>192.168.100.103</td>\n      <td>60905.0</td>\n      <td>131.174.215.147</td>\n      <td>23.0</td>\n      <td>tcp</td>\n      <td>-</td>\n      <td>2.998796</td>\n      <td>0</td>\n      <td>...</td>\n      <td>S0</td>\n      <td>-</td>\n      <td>-</td>\n      <td>0.0</td>\n      <td>S</td>\n      <td>3.0</td>\n      <td>180.0</td>\n      <td>0.0</td>\n      <td>0.0</td>\n      <td>(empty)   Malicious   PartOfAHorizontalPortScan</td>\n    </tr>\n    <tr>\n      <th>1</th>\n      <td>1525879832.024985</td>\n      <td>CJaDcG3MZzvf1YVYI4</td>\n      <td>192.168.100.103</td>\n      <td>44301.0</td>\n      <td>91.42.47.63</td>\n      <td>23.0</td>\n      <td>tcp</td>\n      <td>-</td>\n      <td>-</td>\n      <td>-</td>\n      <td>...</td>\n      <td>S0</td>\n      <td>-</td>\n      <td>-</td>\n      <td>0.0</td>\n      <td>S</td>\n      <td>1.0</td>\n      <td>60.0</td>\n      <td>0.0</td>\n      <td>0.0</td>\n      <td>(empty)   Malicious   PartOfAHorizontalPortScan</td>\n    </tr>\n    <tr>\n      <th>2</th>\n      <td>1525879832.044975</td>\n      <td>CMBrup3BLXivSp4Avc</td>\n      <td>192.168.100.103</td>\n      <td>50244.0</td>\n      <td>120.210.108.200</td>\n      <td>23.0</td>\n      <td>tcp</td>\n      <td>-</td>\n      <td>-</td>\n      <td>-</td>\n      <td>...</td>\n      <td>S0</td>\n      <td>-</td>\n      <td>-</td>\n      <td>0.0</td>\n      <td>S</td>\n      <td>1.0</td>\n      <td>60.0</td>\n      <td>0.0</td>\n      <td>0.0</td>\n      <td>(empty)   Malicious   PartOfAHorizontalPortScan</td>\n    </tr>\n    <tr>\n      <th>3</th>\n      <td>1525879833.016171</td>\n      <td>CfHl9r3XMYtDQRrHnh</td>\n      <td>192.168.100.103</td>\n      <td>34243.0</td>\n      <td>147.7.65.203</td>\n      <td>49560.0</td>\n      <td>tcp</td>\n      <td>-</td>\n      <td>2.998804</td>\n      <td>0</td>\n      <td>...</td>\n      <td>S0</td>\n      <td>-</td>\n      <td>-</td>\n      <td>0.0</td>\n      <td>S</td>\n      <td>3.0</td>\n      <td>180.0</td>\n      <td>0.0</td>\n      <td>0.0</td>\n      <td>(empty)   Benign   -</td>\n    </tr>\n    <tr>\n      <th>4</th>\n      <td>1525879833.044906</td>\n      <td>C7USrA15nFVkniMqC5</td>\n      <td>192.168.100.103</td>\n      <td>34840.0</td>\n      <td>145.164.35.6</td>\n      <td>21288.0</td>\n      <td>tcp</td>\n      <td>-</td>\n      <td>-</td>\n      <td>-</td>\n      <td>...</td>\n      <td>S0</td>\n      <td>-</td>\n      <td>-</td>\n      <td>0.0</td>\n      <td>S</td>\n      <td>1.0</td>\n      <td>60.0</td>\n      <td>0.0</td>\n      <td>0.0</td>\n      <td>(empty)   Benign   -</td>\n    </tr>\n    <tr>\n      <th>...</th>\n      <td>...</td>\n      <td>...</td>\n      <td>...</td>\n      <td>...</td>\n      <td>...</td>\n      <td>...</td>\n      <td>...</td>\n      <td>...</td>\n      <td>...</td>\n      <td>...</td>\n      <td>...</td>\n      <td>...</td>\n      <td>...</td>\n      <td>...</td>\n      <td>...</td>\n      <td>...</td>\n      <td>...</td>\n      <td>...</td>\n      <td>...</td>\n      <td>...</td>\n      <td>...</td>\n    </tr>\n    <tr>\n      <th>999994</th>\n      <td>1532534874.003333</td>\n      <td>Czfm4a3R4MD1VocO76</td>\n      <td>192.168.100.111</td>\n      <td>40056.0</td>\n      <td>144.147.23.251</td>\n      <td>81.0</td>\n      <td>tcp</td>\n      <td>-</td>\n      <td>-</td>\n      <td>-</td>\n      <td>...</td>\n      <td>S0</td>\n      <td>-</td>\n      <td>-</td>\n      <td>0.0</td>\n      <td>S</td>\n      <td>1.0</td>\n      <td>40.0</td>\n      <td>0.0</td>\n      <td>0.0</td>\n      <td>(empty)   Malicious   PartOfAHorizontalPortScan</td>\n    </tr>\n    <tr>\n      <th>999995</th>\n      <td>1532534874.003335</td>\n      <td>CoZcO81e19bEGcoLCd</td>\n      <td>192.168.100.111</td>\n      <td>11769.0</td>\n      <td>80.116.116.70</td>\n      <td>81.0</td>\n      <td>tcp</td>\n      <td>-</td>\n      <td>-</td>\n      <td>-</td>\n      <td>...</td>\n      <td>S0</td>\n      <td>-</td>\n      <td>-</td>\n      <td>0.0</td>\n      <td>S</td>\n      <td>1.0</td>\n      <td>40.0</td>\n      <td>0.0</td>\n      <td>0.0</td>\n      <td>(empty)   Malicious   PartOfAHorizontalPortScan</td>\n    </tr>\n    <tr>\n      <th>999996</th>\n      <td>1532534874.003336</td>\n      <td>CW9x4g10zM3eXYOT25</td>\n      <td>192.168.100.111</td>\n      <td>44225.0</td>\n      <td>95.230.130.195</td>\n      <td>81.0</td>\n      <td>tcp</td>\n      <td>-</td>\n      <td>-</td>\n      <td>-</td>\n      <td>...</td>\n      <td>S0</td>\n      <td>-</td>\n      <td>-</td>\n      <td>0.0</td>\n      <td>S</td>\n      <td>1.0</td>\n      <td>40.0</td>\n      <td>0.0</td>\n      <td>0.0</td>\n      <td>(empty)   Malicious   PartOfAHorizontalPortScan</td>\n    </tr>\n    <tr>\n      <th>999997</th>\n      <td>1532534874.003577</td>\n      <td>CMpWnC2fZlAXgTvFR</td>\n      <td>192.168.100.111</td>\n      <td>53947.0</td>\n      <td>35.93.207.128</td>\n      <td>81.0</td>\n      <td>tcp</td>\n      <td>-</td>\n      <td>-</td>\n      <td>-</td>\n      <td>...</td>\n      <td>S0</td>\n      <td>-</td>\n      <td>-</td>\n      <td>0.0</td>\n      <td>S</td>\n      <td>1.0</td>\n      <td>40.0</td>\n      <td>0.0</td>\n      <td>0.0</td>\n      <td>(empty)   Malicious   PartOfAHorizontalPortScan</td>\n    </tr>\n    <tr>\n      <th>999998</th>\n      <td>1532534874.003581</td>\n      <td>CDirws3wG2DEwBamM5</td>\n      <td>192.168.100.111</td>\n      <td>53701.0</td>\n      <td>86.142.47.152</td>\n      <td>81.0</td>\n      <td>tcp</td>\n      <td>-</td>\n      <td>-</td>\n      <td>-</td>\n      <td>...</td>\n      <td>S0</td>\n      <td>-</td>\n      <td>-</td>\n      <td>0.0</td>\n      <td>S</td>\n      <td>1.0</td>\n      <td>40.0</td>\n      <td>0.0</td>\n      <td>0.0</td>\n      <td>(empty)   Malicious   PartOfAHorizontalPortScan</td>\n    </tr>\n  </tbody>\n</table>\n<p>11244802 rows × 21 columns</p>\n</div>"
     },
     "execution_count": 30,
     "metadata": {},
     "output_type": "execute_result"
    }
   ],
   "source": [
    "df_c"
   ],
   "metadata": {
    "collapsed": false,
    "ExecuteTime": {
     "end_time": "2023-09-04T07:46:22.163959100Z",
     "start_time": "2023-09-04T07:46:11.868430600Z"
    }
   }
  },
  {
   "cell_type": "code",
   "execution_count": 31,
   "outputs": [
    {
     "data": {
      "text/plain": "(11244802, 21)"
     },
     "execution_count": 31,
     "metadata": {},
     "output_type": "execute_result"
    }
   ],
   "source": [
    "df_c.shape"
   ],
   "metadata": {
    "collapsed": false,
    "ExecuteTime": {
     "end_time": "2023-09-04T07:46:43.595462900Z",
     "start_time": "2023-09-04T07:46:43.561182600Z"
    }
   }
  },
  {
   "cell_type": "code",
   "execution_count": 32,
   "outputs": [
    {
     "data": {
      "text/plain": "label\n-   Malicious   PartOfAHorizontalPortScan          5131216\n(empty)   Malicious   PartOfAHorizontalPortScan    1623576\n-   Malicious   Okiru                              1403588\n-   Benign   -                                     1326720\n-   Malicious   DDoS                               1263025\n(empty)   Benign   -                                474770\n(empty)   Malicious   C&C                             8237\n-   Malicious   C&C                                   7282\n(empty)   Malicious   Attack                          3814\n-   Malicious   C&C-HeartBeat                         1364\n-   Malicious   Attack                                 981\n-   benign   -                                         127\n-   Malicious   C&C-FileDownload                        46\n-   Malicious   C&C-Torii                               30\n-   Malicious   FileDownload                            14\n-   Malicious   C&C-HeartBeat-FileDownload               8\n-   Malicious   Okiru-Attack                             3\n-   Malicious   C&C-Mirai                                1\nName: count, dtype: int64"
     },
     "execution_count": 32,
     "metadata": {},
     "output_type": "execute_result"
    }
   ],
   "source": [
    "df_c['label'].value_counts()"
   ],
   "metadata": {
    "collapsed": false,
    "ExecuteTime": {
     "end_time": "2023-09-04T07:46:54.295647800Z",
     "start_time": "2023-09-04T07:46:53.104278900Z"
    }
   }
  },
  {
   "cell_type": "code",
   "execution_count": 33,
   "outputs": [],
   "source": [
    "df_c.loc[(df_c.label == '-   Malicious   PartOfAHorizontalPortScan'), 'label'] = 'PartOfAHorizontalPortScan'\n",
    "df_c.loc[(df_c.label == '(empty)   Malicious   PartOfAHorizontalPortScan'), 'label'] = 'PartOfAHorizontalPortScan'\n",
    "df_c.loc[(df_c.label == '-   Malicious   Okiru'), 'label'] = 'Okiru'\n",
    "df_c.loc[(df_c.label == '(empty)   Malicious   Okiru'), 'label'] = 'Okiru'\n",
    "df_c.loc[(df_c.label == '-   Benign   -'), 'label'] = 'Benign'\n",
    "df_c.loc[(df_c.label == '(empty)   Benign   -'), 'label'] = 'Benign'\n",
    "df_c.loc[(df_c.label == '-   Malicious   DDoS'), 'label'] = 'DDoS'\n",
    "df_c.loc[(df_c.label == '-   Malicious   C&C'), 'label'] = 'C&C'\n",
    "df_c.loc[(df_c.label == '(empty)   Malicious   C&C'), 'label'] = 'C&C'\n",
    "df_c.loc[(df_c.label == '-   Malicious   Attack'), 'label'] = 'Attack'\n",
    "df_c.loc[(df_c.label == '(empty)   Malicious   Attack'), 'label'] = 'Attack'\n",
    "df_c.loc[(df_c.label == '-   Malicious   C&C-HeartBeat'), 'label'] = 'C&C-HeartBeat'\n",
    "df_c.loc[(df_c.label == '(empty)   Malicious   C&C-HeartBeat'), 'label'] = 'C&C-HeartBeat'\n",
    "df_c.loc[(df_c.label == '-   Malicious   C&C-FileDownload'), 'label'] = 'C&C-FileDownload'\n",
    "df_c.loc[(df_c.label == '-   Malicious   C&C-Torii'), 'label'] = 'C&C-Torii'\n",
    "df_c.loc[(df_c.label == '-   Malicious   C&C-HeartBeat-FileDownload'), 'label'] = 'C&C-HeartBeat-FileDownload'\n",
    "df_c.loc[(df_c.label == '-   Malicious   FileDownload'), 'label'] = 'FileDownload'\n",
    "df_c.loc[(df_c.label == '-   Malicious   C&C-Mirai'), 'label'] = 'C&C-Mirai'\n",
    "df_c.loc[(df_c.label == '-   Malicious   Okiru-Attack'), 'label'] = 'Okiru-Attack'"
   ],
   "metadata": {
    "collapsed": false,
    "ExecuteTime": {
     "end_time": "2023-09-04T07:47:16.523851200Z",
     "start_time": "2023-09-04T07:47:03.044970100Z"
    }
   }
  },
  {
   "cell_type": "code",
   "execution_count": 35,
   "outputs": [
    {
     "data": {
      "text/plain": "label\nPartOfAHorizontalPortScan     6754792\nBenign                        1801490\nOkiru                         1403588\nDDoS                          1263025\nC&C                             15519\nAttack                           4795\nC&C-HeartBeat                    1364\n-   benign   -                    127\nC&C-FileDownload                   46\nC&C-Torii                          30\nFileDownload                       14\nC&C-HeartBeat-FileDownload          8\nOkiru-Attack                        3\nC&C-Mirai                           1\nName: count, dtype: int64"
     },
     "execution_count": 35,
     "metadata": {},
     "output_type": "execute_result"
    }
   ],
   "source": [
    "df_c['label'].value_counts()"
   ],
   "metadata": {
    "collapsed": false,
    "ExecuteTime": {
     "end_time": "2023-09-04T07:47:43.901318900Z",
     "start_time": "2023-09-04T07:47:43.892257900Z"
    }
   }
  },
  {
   "cell_type": "code",
   "execution_count": 36,
   "outputs": [],
   "source": [
    "pd.options.display.max_rows = 300\n",
    "pd.options.display.max_columns = 300"
   ],
   "metadata": {
    "collapsed": false,
    "ExecuteTime": {
     "end_time": "2023-09-04T07:47:52.309428800Z",
     "start_time": "2023-09-04T07:47:52.303339300Z"
    }
   }
  },
  {
   "cell_type": "code",
   "execution_count": 37,
   "outputs": [],
   "source": [
    "df_c = df_c.drop(columns=['ts','uid','id.orig_h','id.orig_p','id.resp_h','id.resp_p',\n",
    "                          'service','local_orig','local_resp','history'])"
   ],
   "metadata": {
    "collapsed": false,
    "ExecuteTime": {
     "end_time": "2023-09-04T07:48:00.522982100Z",
     "start_time": "2023-09-04T07:47:59.340202600Z"
    }
   }
  },
  {
   "cell_type": "code",
   "execution_count": 38,
   "outputs": [],
   "source": [
    "df_c = pd.get_dummies(df_c, columns=['proto'])\n",
    "df_c = pd.get_dummies(df_c, columns=['conn_state'])"
   ],
   "metadata": {
    "collapsed": false,
    "ExecuteTime": {
     "end_time": "2023-09-04T07:48:10.367367400Z",
     "start_time": "2023-09-04T07:48:04.827499500Z"
    }
   }
  },
  {
   "cell_type": "code",
   "execution_count": 39,
   "outputs": [
    {
     "data": {
      "text/plain": "        duration orig_bytes resp_bytes  missed_bytes  orig_pkts   \n0       2.998796          0          0           0.0        3.0  \\\n1              -          -          -           0.0        1.0   \n2              -          -          -           0.0        1.0   \n3       2.998804          0          0           0.0        3.0   \n4              -          -          -           0.0        1.0   \n...          ...        ...        ...           ...        ...   \n999994         -          -          -           0.0        1.0   \n999995         -          -          -           0.0        1.0   \n999996         -          -          -           0.0        1.0   \n999997         -          -          -           0.0        1.0   \n999998         -          -          -           0.0        1.0   \n\n        orig_ip_bytes  resp_pkts  resp_ip_bytes                      label   \n0               180.0        0.0            0.0  PartOfAHorizontalPortScan  \\\n1                60.0        0.0            0.0  PartOfAHorizontalPortScan   \n2                60.0        0.0            0.0  PartOfAHorizontalPortScan   \n3               180.0        0.0            0.0                     Benign   \n4                60.0        0.0            0.0                     Benign   \n...               ...        ...            ...                        ...   \n999994           40.0        0.0            0.0  PartOfAHorizontalPortScan   \n999995           40.0        0.0            0.0  PartOfAHorizontalPortScan   \n999996           40.0        0.0            0.0  PartOfAHorizontalPortScan   \n999997           40.0        0.0            0.0  PartOfAHorizontalPortScan   \n999998           40.0        0.0            0.0  PartOfAHorizontalPortScan   \n\n        proto_icmp  proto_tcp  proto_udp  conn_state_OTH  conn_state_REJ   \n0            False       True      False           False           False  \\\n1            False       True      False           False           False   \n2            False       True      False           False           False   \n3            False       True      False           False           False   \n4            False       True      False           False           False   \n...            ...        ...        ...             ...             ...   \n999994       False       True      False           False           False   \n999995       False       True      False           False           False   \n999996       False       True      False           False           False   \n999997       False       True      False           False           False   \n999998       False       True      False           False           False   \n\n        conn_state_RSTO  conn_state_RSTOS0  conn_state_RSTR  conn_state_RSTRH   \n0                 False              False            False             False  \\\n1                 False              False            False             False   \n2                 False              False            False             False   \n3                 False              False            False             False   \n4                 False              False            False             False   \n...                 ...                ...              ...               ...   \n999994            False              False            False             False   \n999995            False              False            False             False   \n999996            False              False            False             False   \n999997            False              False            False             False   \n999998            False              False            False             False   \n\n        conn_state_S0  conn_state_S1  conn_state_S2  conn_state_S3   \n0                True          False          False          False  \\\n1                True          False          False          False   \n2                True          False          False          False   \n3                True          False          False          False   \n4                True          False          False          False   \n...               ...            ...            ...            ...   \n999994           True          False          False          False   \n999995           True          False          False          False   \n999996           True          False          False          False   \n999997           True          False          False          False   \n999998           True          False          False          False   \n\n        conn_state_SF  conn_state_SH  conn_state_SHR  \n0               False          False           False  \n1               False          False           False  \n2               False          False           False  \n3               False          False           False  \n4               False          False           False  \n...               ...            ...             ...  \n999994          False          False           False  \n999995          False          False           False  \n999996          False          False           False  \n999997          False          False           False  \n999998          False          False           False  \n\n[11244802 rows x 25 columns]",
      "text/html": "<div>\n<style scoped>\n    .dataframe tbody tr th:only-of-type {\n        vertical-align: middle;\n    }\n\n    .dataframe tbody tr th {\n        vertical-align: top;\n    }\n\n    .dataframe thead th {\n        text-align: right;\n    }\n</style>\n<table border=\"1\" class=\"dataframe\">\n  <thead>\n    <tr style=\"text-align: right;\">\n      <th></th>\n      <th>duration</th>\n      <th>orig_bytes</th>\n      <th>resp_bytes</th>\n      <th>missed_bytes</th>\n      <th>orig_pkts</th>\n      <th>orig_ip_bytes</th>\n      <th>resp_pkts</th>\n      <th>resp_ip_bytes</th>\n      <th>label</th>\n      <th>proto_icmp</th>\n      <th>proto_tcp</th>\n      <th>proto_udp</th>\n      <th>conn_state_OTH</th>\n      <th>conn_state_REJ</th>\n      <th>conn_state_RSTO</th>\n      <th>conn_state_RSTOS0</th>\n      <th>conn_state_RSTR</th>\n      <th>conn_state_RSTRH</th>\n      <th>conn_state_S0</th>\n      <th>conn_state_S1</th>\n      <th>conn_state_S2</th>\n      <th>conn_state_S3</th>\n      <th>conn_state_SF</th>\n      <th>conn_state_SH</th>\n      <th>conn_state_SHR</th>\n    </tr>\n  </thead>\n  <tbody>\n    <tr>\n      <th>0</th>\n      <td>2.998796</td>\n      <td>0</td>\n      <td>0</td>\n      <td>0.0</td>\n      <td>3.0</td>\n      <td>180.0</td>\n      <td>0.0</td>\n      <td>0.0</td>\n      <td>PartOfAHorizontalPortScan</td>\n      <td>False</td>\n      <td>True</td>\n      <td>False</td>\n      <td>False</td>\n      <td>False</td>\n      <td>False</td>\n      <td>False</td>\n      <td>False</td>\n      <td>False</td>\n      <td>True</td>\n      <td>False</td>\n      <td>False</td>\n      <td>False</td>\n      <td>False</td>\n      <td>False</td>\n      <td>False</td>\n    </tr>\n    <tr>\n      <th>1</th>\n      <td>-</td>\n      <td>-</td>\n      <td>-</td>\n      <td>0.0</td>\n      <td>1.0</td>\n      <td>60.0</td>\n      <td>0.0</td>\n      <td>0.0</td>\n      <td>PartOfAHorizontalPortScan</td>\n      <td>False</td>\n      <td>True</td>\n      <td>False</td>\n      <td>False</td>\n      <td>False</td>\n      <td>False</td>\n      <td>False</td>\n      <td>False</td>\n      <td>False</td>\n      <td>True</td>\n      <td>False</td>\n      <td>False</td>\n      <td>False</td>\n      <td>False</td>\n      <td>False</td>\n      <td>False</td>\n    </tr>\n    <tr>\n      <th>2</th>\n      <td>-</td>\n      <td>-</td>\n      <td>-</td>\n      <td>0.0</td>\n      <td>1.0</td>\n      <td>60.0</td>\n      <td>0.0</td>\n      <td>0.0</td>\n      <td>PartOfAHorizontalPortScan</td>\n      <td>False</td>\n      <td>True</td>\n      <td>False</td>\n      <td>False</td>\n      <td>False</td>\n      <td>False</td>\n      <td>False</td>\n      <td>False</td>\n      <td>False</td>\n      <td>True</td>\n      <td>False</td>\n      <td>False</td>\n      <td>False</td>\n      <td>False</td>\n      <td>False</td>\n      <td>False</td>\n    </tr>\n    <tr>\n      <th>3</th>\n      <td>2.998804</td>\n      <td>0</td>\n      <td>0</td>\n      <td>0.0</td>\n      <td>3.0</td>\n      <td>180.0</td>\n      <td>0.0</td>\n      <td>0.0</td>\n      <td>Benign</td>\n      <td>False</td>\n      <td>True</td>\n      <td>False</td>\n      <td>False</td>\n      <td>False</td>\n      <td>False</td>\n      <td>False</td>\n      <td>False</td>\n      <td>False</td>\n      <td>True</td>\n      <td>False</td>\n      <td>False</td>\n      <td>False</td>\n      <td>False</td>\n      <td>False</td>\n      <td>False</td>\n    </tr>\n    <tr>\n      <th>4</th>\n      <td>-</td>\n      <td>-</td>\n      <td>-</td>\n      <td>0.0</td>\n      <td>1.0</td>\n      <td>60.0</td>\n      <td>0.0</td>\n      <td>0.0</td>\n      <td>Benign</td>\n      <td>False</td>\n      <td>True</td>\n      <td>False</td>\n      <td>False</td>\n      <td>False</td>\n      <td>False</td>\n      <td>False</td>\n      <td>False</td>\n      <td>False</td>\n      <td>True</td>\n      <td>False</td>\n      <td>False</td>\n      <td>False</td>\n      <td>False</td>\n      <td>False</td>\n      <td>False</td>\n    </tr>\n    <tr>\n      <th>...</th>\n      <td>...</td>\n      <td>...</td>\n      <td>...</td>\n      <td>...</td>\n      <td>...</td>\n      <td>...</td>\n      <td>...</td>\n      <td>...</td>\n      <td>...</td>\n      <td>...</td>\n      <td>...</td>\n      <td>...</td>\n      <td>...</td>\n      <td>...</td>\n      <td>...</td>\n      <td>...</td>\n      <td>...</td>\n      <td>...</td>\n      <td>...</td>\n      <td>...</td>\n      <td>...</td>\n      <td>...</td>\n      <td>...</td>\n      <td>...</td>\n      <td>...</td>\n    </tr>\n    <tr>\n      <th>999994</th>\n      <td>-</td>\n      <td>-</td>\n      <td>-</td>\n      <td>0.0</td>\n      <td>1.0</td>\n      <td>40.0</td>\n      <td>0.0</td>\n      <td>0.0</td>\n      <td>PartOfAHorizontalPortScan</td>\n      <td>False</td>\n      <td>True</td>\n      <td>False</td>\n      <td>False</td>\n      <td>False</td>\n      <td>False</td>\n      <td>False</td>\n      <td>False</td>\n      <td>False</td>\n      <td>True</td>\n      <td>False</td>\n      <td>False</td>\n      <td>False</td>\n      <td>False</td>\n      <td>False</td>\n      <td>False</td>\n    </tr>\n    <tr>\n      <th>999995</th>\n      <td>-</td>\n      <td>-</td>\n      <td>-</td>\n      <td>0.0</td>\n      <td>1.0</td>\n      <td>40.0</td>\n      <td>0.0</td>\n      <td>0.0</td>\n      <td>PartOfAHorizontalPortScan</td>\n      <td>False</td>\n      <td>True</td>\n      <td>False</td>\n      <td>False</td>\n      <td>False</td>\n      <td>False</td>\n      <td>False</td>\n      <td>False</td>\n      <td>False</td>\n      <td>True</td>\n      <td>False</td>\n      <td>False</td>\n      <td>False</td>\n      <td>False</td>\n      <td>False</td>\n      <td>False</td>\n    </tr>\n    <tr>\n      <th>999996</th>\n      <td>-</td>\n      <td>-</td>\n      <td>-</td>\n      <td>0.0</td>\n      <td>1.0</td>\n      <td>40.0</td>\n      <td>0.0</td>\n      <td>0.0</td>\n      <td>PartOfAHorizontalPortScan</td>\n      <td>False</td>\n      <td>True</td>\n      <td>False</td>\n      <td>False</td>\n      <td>False</td>\n      <td>False</td>\n      <td>False</td>\n      <td>False</td>\n      <td>False</td>\n      <td>True</td>\n      <td>False</td>\n      <td>False</td>\n      <td>False</td>\n      <td>False</td>\n      <td>False</td>\n      <td>False</td>\n    </tr>\n    <tr>\n      <th>999997</th>\n      <td>-</td>\n      <td>-</td>\n      <td>-</td>\n      <td>0.0</td>\n      <td>1.0</td>\n      <td>40.0</td>\n      <td>0.0</td>\n      <td>0.0</td>\n      <td>PartOfAHorizontalPortScan</td>\n      <td>False</td>\n      <td>True</td>\n      <td>False</td>\n      <td>False</td>\n      <td>False</td>\n      <td>False</td>\n      <td>False</td>\n      <td>False</td>\n      <td>False</td>\n      <td>True</td>\n      <td>False</td>\n      <td>False</td>\n      <td>False</td>\n      <td>False</td>\n      <td>False</td>\n      <td>False</td>\n    </tr>\n    <tr>\n      <th>999998</th>\n      <td>-</td>\n      <td>-</td>\n      <td>-</td>\n      <td>0.0</td>\n      <td>1.0</td>\n      <td>40.0</td>\n      <td>0.0</td>\n      <td>0.0</td>\n      <td>PartOfAHorizontalPortScan</td>\n      <td>False</td>\n      <td>True</td>\n      <td>False</td>\n      <td>False</td>\n      <td>False</td>\n      <td>False</td>\n      <td>False</td>\n      <td>False</td>\n      <td>False</td>\n      <td>True</td>\n      <td>False</td>\n      <td>False</td>\n      <td>False</td>\n      <td>False</td>\n      <td>False</td>\n      <td>False</td>\n    </tr>\n  </tbody>\n</table>\n<p>11244802 rows × 25 columns</p>\n</div>"
     },
     "execution_count": 39,
     "metadata": {},
     "output_type": "execute_result"
    }
   ],
   "source": [
    "df_c"
   ],
   "metadata": {
    "collapsed": false,
    "ExecuteTime": {
     "end_time": "2023-09-04T07:48:13.245184600Z",
     "start_time": "2023-09-04T07:48:13.229252700Z"
    }
   }
  },
  {
   "cell_type": "code",
   "execution_count": 40,
   "outputs": [],
   "source": [
    "df_c['duration'] = df_c['duration'].str.replace('-','0')\n",
    "df_c['orig_bytes'] = df_c['orig_bytes'].str.replace('-','0')\n",
    "df_c['resp_bytes'] = df_c['resp_bytes'].str.replace('-','0')"
   ],
   "metadata": {
    "collapsed": false,
    "ExecuteTime": {
     "end_time": "2023-09-04T07:48:46.235481600Z",
     "start_time": "2023-09-04T07:48:18.570545300Z"
    }
   }
  },
  {
   "cell_type": "code",
   "execution_count": 41,
   "outputs": [],
   "source": [
    "df_c.fillna(-1,inplace=True)"
   ],
   "metadata": {
    "collapsed": false,
    "ExecuteTime": {
     "end_time": "2023-09-04T07:48:52.504310900Z",
     "start_time": "2023-09-04T07:48:49.225654500Z"
    }
   }
  },
  {
   "cell_type": "code",
   "execution_count": 42,
   "outputs": [
    {
     "data": {
      "text/plain": "duration             0\norig_bytes           0\nresp_bytes           0\nmissed_bytes         0\norig_pkts            0\norig_ip_bytes        0\nresp_pkts            0\nresp_ip_bytes        0\nlabel                0\nproto_icmp           0\nproto_tcp            0\nproto_udp            0\nconn_state_OTH       0\nconn_state_REJ       0\nconn_state_RSTO      0\nconn_state_RSTOS0    0\nconn_state_RSTR      0\nconn_state_RSTRH     0\nconn_state_S0        0\nconn_state_S1        0\nconn_state_S2        0\nconn_state_S3        0\nconn_state_SF        0\nconn_state_SH        0\nconn_state_SHR       0\ndtype: int64"
     },
     "execution_count": 42,
     "metadata": {},
     "output_type": "execute_result"
    }
   ],
   "source": [
    "df_c.isna().sum()"
   ],
   "metadata": {
    "collapsed": false,
    "ExecuteTime": {
     "end_time": "2023-09-04T07:51:29.385612300Z",
     "start_time": "2023-09-04T07:51:28.095983900Z"
    }
   }
  },
  {
   "cell_type": "code",
   "execution_count": 43,
   "outputs": [
    {
     "name": "stdout",
     "output_type": "stream",
     "text": [
      "['duration', 'orig_bytes', 'resp_bytes', 'missed_bytes', 'orig_pkts', 'orig_ip_bytes', 'resp_pkts', 'resp_ip_bytes', 'label', 'proto_icmp', 'proto_tcp', 'proto_udp', 'conn_state_OTH', 'conn_state_REJ', 'conn_state_RSTO', 'conn_state_RSTOS0', 'conn_state_RSTR', 'conn_state_RSTRH', 'conn_state_S0', 'conn_state_S1', 'conn_state_S2', 'conn_state_S3', 'conn_state_SF', 'conn_state_SH', 'conn_state_SHR']\n"
     ]
    }
   ],
   "source": [
    "print(df_c.columns.tolist())"
   ],
   "metadata": {
    "collapsed": false,
    "ExecuteTime": {
     "end_time": "2023-09-04T07:51:34.345722500Z",
     "start_time": "2023-09-04T07:51:34.320294700Z"
    }
   }
  },
  {
   "cell_type": "code",
   "execution_count": 44,
   "outputs": [],
   "source": [
    "df_c.to_csv('iot23_combined.csv')"
   ],
   "metadata": {
    "collapsed": false,
    "ExecuteTime": {
     "end_time": "2023-09-04T07:53:17.834909400Z",
     "start_time": "2023-09-04T07:51:37.039939400Z"
    }
   }
  },
  {
   "cell_type": "code",
   "execution_count": null,
   "outputs": [],
   "source": [],
   "metadata": {
    "collapsed": false
   }
  }
 ],
 "metadata": {
  "kernelspec": {
   "display_name": "Python 3",
   "language": "python",
   "name": "python3"
  },
  "language_info": {
   "codemirror_mode": {
    "name": "ipython",
    "version": 2
   },
   "file_extension": ".py",
   "mimetype": "text/x-python",
   "name": "python",
   "nbconvert_exporter": "python",
   "pygments_lexer": "ipython2",
   "version": "2.7.6"
  }
 },
 "nbformat": 4,
 "nbformat_minor": 0
}
