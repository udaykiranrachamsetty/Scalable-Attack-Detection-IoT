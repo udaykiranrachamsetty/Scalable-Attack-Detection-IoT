{
 "cells": [
  {
   "cell_type": "code",
   "execution_count": 11,
   "id": "initial_id",
   "metadata": {
    "collapsed": true,
    "ExecuteTime": {
     "end_time": "2023-09-07T06:37:54.337548300Z",
     "start_time": "2023-09-07T06:37:53.542310400Z"
    }
   },
   "outputs": [],
   "source": [
    "import pandas as pd\n",
    "import numpy as np\n",
    "from sklearn.preprocessing import LabelEncoder, StandardScaler\n",
    "from sklearn.model_selection import train_test_split\n",
    "from tensorflow.keras.models import Sequential\n",
    "from tensorflow.keras.layers import Conv1D, MaxPooling1D, GlobalAveragePooling1D, Dense, BatchNormalization\n",
    "from tensorflow.keras.optimizers import Adam\n",
    "from tensorflow.keras.utils import to_categorical\n",
    "\n",
    "data = pd.read_csv(\"E:\\Final year project\\iot23_combined.csv\",nrows = 100000)\n"
   ]
  },
  {
   "cell_type": "code",
   "execution_count": 12,
   "outputs": [],
   "source": [
    "\n",
    "label_mapping = {\n",
    "    'PartOfAHorizontalPortScan': 0,\n",
    "    'Benign': 1,\n",
    "    'Okiru': 2,\n",
    "    'DDoS': 3,\n",
    "    'C&C': 4,\n",
    "    'Attack': 5,\n",
    "    'C&C-HeartBeat': 6,\n",
    "    'C&C-FileDownload': 7,\n",
    "    'C&C-Torii': 8,\n",
    "    'FileDownload': 9,\n",
    "    'C&C-HeartBeat-FileDownload': 10,\n",
    "    'Okiru-Attack': 11,\n",
    "    'C&C-Mirai': 12,\n",
    "    '-   benign   -': 13,\n",
    "}\n",
    "\n",
    "\n",
    "data['label'] = data['label'].map(label_mapping)"
   ],
   "metadata": {
    "collapsed": false,
    "ExecuteTime": {
     "end_time": "2023-09-07T06:37:57.122413800Z",
     "start_time": "2023-09-07T06:37:57.063035900Z"
    }
   },
   "id": "deaa0da7a5a856f5"
  },
  {
   "cell_type": "code",
   "execution_count": 13,
   "outputs": [],
   "source": [
    "\n",
    "non_binary_feature_columns = [\n",
    "    'duration', 'orig_bytes', 'resp_bytes', 'missed_bytes', 'orig_pkts', 'orig_ip_bytes',\n",
    "    'resp_pkts', 'resp_ip_bytes'\n",
    "]\n",
    "\n",
    "scaler = StandardScaler()\n",
    "\n",
    "data[non_binary_feature_columns] = scaler.fit_transform(data[non_binary_feature_columns])\n"
   ],
   "metadata": {
    "collapsed": false,
    "ExecuteTime": {
     "end_time": "2023-09-07T06:37:59.883753900Z",
     "start_time": "2023-09-07T06:37:59.786781400Z"
    }
   },
   "id": "95b60200fd82bfe"
  },
  {
   "cell_type": "code",
   "execution_count": 14,
   "outputs": [],
   "source": [
    "binary_feature_columns = [\n",
    "    'proto_icmp', 'proto_tcp', 'proto_udp', 'conn_state_OTH', 'conn_state_REJ',\n",
    "    'conn_state_RSTO', 'conn_state_RSTOS0', 'conn_state_RSTR', 'conn_state_RSTRH',\n",
    "    'conn_state_S0', 'conn_state_S1', 'conn_state_S2', 'conn_state_S3',\n",
    "    'conn_state_SF', 'conn_state_SH', 'conn_state_SHR'\n",
    "]\n",
    "\n",
    "label_encoder = LabelEncoder()\n",
    "for column in binary_feature_columns:\n",
    "    data[column] = label_encoder.fit_transform(data[column])"
   ],
   "metadata": {
    "collapsed": false,
    "ExecuteTime": {
     "end_time": "2023-09-07T06:38:01.718782Z",
     "start_time": "2023-09-07T06:38:01.550901600Z"
    }
   },
   "id": "14382bad16045bdc"
  },
  {
   "cell_type": "code",
   "execution_count": 15,
   "outputs": [
    {
     "data": {
      "text/plain": "       Unnamed: 0  duration  orig_bytes  resp_bytes  missed_bytes  orig_pkts   \n0               0  0.901146   -0.128871   -0.078198           0.0   0.520869  \\\n1               1 -0.299475   -0.128871   -0.078198           0.0  -0.240652   \n2               2 -0.299475   -0.128871   -0.078198           0.0  -0.240652   \n3               3  0.901149   -0.128871   -0.078198           0.0   0.520869   \n4               4 -0.299475   -0.128871   -0.078198           0.0  -0.240652   \n...           ...       ...         ...         ...           ...        ...   \n99995       99995 -0.299475   -0.128871   -0.078198           0.0  -0.240652   \n99996       99996 -0.299475   -0.128871   -0.078198           0.0  -0.240652   \n99997       99997 -0.299475   -0.128871   -0.078198           0.0  -0.240652   \n99998       99998  0.901249   -0.128871   -0.078198           0.0   0.520869   \n99999       99999 -0.299475   -0.128871   -0.078198           0.0  -0.240652   \n\n       orig_ip_bytes  resp_pkts  resp_ip_bytes  label  ...  conn_state_RSTOS0   \n0           0.693888  -0.098711      -0.098362      0  ...                  0  \\\n1          -0.214082  -0.098711      -0.098362      0  ...                  0   \n2          -0.214082  -0.098711      -0.098362      0  ...                  0   \n3           0.693888  -0.098711      -0.098362      1  ...                  0   \n4          -0.214082  -0.098711      -0.098362      1  ...                  0   \n...              ...        ...            ...    ...  ...                ...   \n99995      -0.214082  -0.098711      -0.098362      1  ...                  0   \n99996      -0.214082  -0.098711      -0.098362      0  ...                  0   \n99997      -0.365410  -0.098711      -0.098362      1  ...                  0   \n99998       0.693888  -0.098711      -0.098362      0  ...                  0   \n99999      -0.365410  -0.098711      -0.098362      1  ...                  0   \n\n       conn_state_RSTR  conn_state_RSTRH  conn_state_S0  conn_state_S1   \n0                    0                 0              1              0  \\\n1                    0                 0              1              0   \n2                    0                 0              1              0   \n3                    0                 0              1              0   \n4                    0                 0              1              0   \n...                ...               ...            ...            ...   \n99995                0                 0              1              0   \n99996                0                 0              1              0   \n99997                0                 0              1              0   \n99998                0                 0              1              0   \n99999                0                 0              1              0   \n\n       conn_state_S2  conn_state_S3  conn_state_SF  conn_state_SH   \n0                  0              0              0              0  \\\n1                  0              0              0              0   \n2                  0              0              0              0   \n3                  0              0              0              0   \n4                  0              0              0              0   \n...              ...            ...            ...            ...   \n99995              0              0              0              0   \n99996              0              0              0              0   \n99997              0              0              0              0   \n99998              0              0              0              0   \n99999              0              0              0              0   \n\n       conn_state_SHR  \n0                   0  \n1                   0  \n2                   0  \n3                   0  \n4                   0  \n...               ...  \n99995               0  \n99996               0  \n99997               0  \n99998               0  \n99999               0  \n\n[100000 rows x 26 columns]",
      "text/html": "<div>\n<style scoped>\n    .dataframe tbody tr th:only-of-type {\n        vertical-align: middle;\n    }\n\n    .dataframe tbody tr th {\n        vertical-align: top;\n    }\n\n    .dataframe thead th {\n        text-align: right;\n    }\n</style>\n<table border=\"1\" class=\"dataframe\">\n  <thead>\n    <tr style=\"text-align: right;\">\n      <th></th>\n      <th>Unnamed: 0</th>\n      <th>duration</th>\n      <th>orig_bytes</th>\n      <th>resp_bytes</th>\n      <th>missed_bytes</th>\n      <th>orig_pkts</th>\n      <th>orig_ip_bytes</th>\n      <th>resp_pkts</th>\n      <th>resp_ip_bytes</th>\n      <th>label</th>\n      <th>...</th>\n      <th>conn_state_RSTOS0</th>\n      <th>conn_state_RSTR</th>\n      <th>conn_state_RSTRH</th>\n      <th>conn_state_S0</th>\n      <th>conn_state_S1</th>\n      <th>conn_state_S2</th>\n      <th>conn_state_S3</th>\n      <th>conn_state_SF</th>\n      <th>conn_state_SH</th>\n      <th>conn_state_SHR</th>\n    </tr>\n  </thead>\n  <tbody>\n    <tr>\n      <th>0</th>\n      <td>0</td>\n      <td>0.901146</td>\n      <td>-0.128871</td>\n      <td>-0.078198</td>\n      <td>0.0</td>\n      <td>0.520869</td>\n      <td>0.693888</td>\n      <td>-0.098711</td>\n      <td>-0.098362</td>\n      <td>0</td>\n      <td>...</td>\n      <td>0</td>\n      <td>0</td>\n      <td>0</td>\n      <td>1</td>\n      <td>0</td>\n      <td>0</td>\n      <td>0</td>\n      <td>0</td>\n      <td>0</td>\n      <td>0</td>\n    </tr>\n    <tr>\n      <th>1</th>\n      <td>1</td>\n      <td>-0.299475</td>\n      <td>-0.128871</td>\n      <td>-0.078198</td>\n      <td>0.0</td>\n      <td>-0.240652</td>\n      <td>-0.214082</td>\n      <td>-0.098711</td>\n      <td>-0.098362</td>\n      <td>0</td>\n      <td>...</td>\n      <td>0</td>\n      <td>0</td>\n      <td>0</td>\n      <td>1</td>\n      <td>0</td>\n      <td>0</td>\n      <td>0</td>\n      <td>0</td>\n      <td>0</td>\n      <td>0</td>\n    </tr>\n    <tr>\n      <th>2</th>\n      <td>2</td>\n      <td>-0.299475</td>\n      <td>-0.128871</td>\n      <td>-0.078198</td>\n      <td>0.0</td>\n      <td>-0.240652</td>\n      <td>-0.214082</td>\n      <td>-0.098711</td>\n      <td>-0.098362</td>\n      <td>0</td>\n      <td>...</td>\n      <td>0</td>\n      <td>0</td>\n      <td>0</td>\n      <td>1</td>\n      <td>0</td>\n      <td>0</td>\n      <td>0</td>\n      <td>0</td>\n      <td>0</td>\n      <td>0</td>\n    </tr>\n    <tr>\n      <th>3</th>\n      <td>3</td>\n      <td>0.901149</td>\n      <td>-0.128871</td>\n      <td>-0.078198</td>\n      <td>0.0</td>\n      <td>0.520869</td>\n      <td>0.693888</td>\n      <td>-0.098711</td>\n      <td>-0.098362</td>\n      <td>1</td>\n      <td>...</td>\n      <td>0</td>\n      <td>0</td>\n      <td>0</td>\n      <td>1</td>\n      <td>0</td>\n      <td>0</td>\n      <td>0</td>\n      <td>0</td>\n      <td>0</td>\n      <td>0</td>\n    </tr>\n    <tr>\n      <th>4</th>\n      <td>4</td>\n      <td>-0.299475</td>\n      <td>-0.128871</td>\n      <td>-0.078198</td>\n      <td>0.0</td>\n      <td>-0.240652</td>\n      <td>-0.214082</td>\n      <td>-0.098711</td>\n      <td>-0.098362</td>\n      <td>1</td>\n      <td>...</td>\n      <td>0</td>\n      <td>0</td>\n      <td>0</td>\n      <td>1</td>\n      <td>0</td>\n      <td>0</td>\n      <td>0</td>\n      <td>0</td>\n      <td>0</td>\n      <td>0</td>\n    </tr>\n    <tr>\n      <th>...</th>\n      <td>...</td>\n      <td>...</td>\n      <td>...</td>\n      <td>...</td>\n      <td>...</td>\n      <td>...</td>\n      <td>...</td>\n      <td>...</td>\n      <td>...</td>\n      <td>...</td>\n      <td>...</td>\n      <td>...</td>\n      <td>...</td>\n      <td>...</td>\n      <td>...</td>\n      <td>...</td>\n      <td>...</td>\n      <td>...</td>\n      <td>...</td>\n      <td>...</td>\n      <td>...</td>\n    </tr>\n    <tr>\n      <th>99995</th>\n      <td>99995</td>\n      <td>-0.299475</td>\n      <td>-0.128871</td>\n      <td>-0.078198</td>\n      <td>0.0</td>\n      <td>-0.240652</td>\n      <td>-0.214082</td>\n      <td>-0.098711</td>\n      <td>-0.098362</td>\n      <td>1</td>\n      <td>...</td>\n      <td>0</td>\n      <td>0</td>\n      <td>0</td>\n      <td>1</td>\n      <td>0</td>\n      <td>0</td>\n      <td>0</td>\n      <td>0</td>\n      <td>0</td>\n      <td>0</td>\n    </tr>\n    <tr>\n      <th>99996</th>\n      <td>99996</td>\n      <td>-0.299475</td>\n      <td>-0.128871</td>\n      <td>-0.078198</td>\n      <td>0.0</td>\n      <td>-0.240652</td>\n      <td>-0.214082</td>\n      <td>-0.098711</td>\n      <td>-0.098362</td>\n      <td>0</td>\n      <td>...</td>\n      <td>0</td>\n      <td>0</td>\n      <td>0</td>\n      <td>1</td>\n      <td>0</td>\n      <td>0</td>\n      <td>0</td>\n      <td>0</td>\n      <td>0</td>\n      <td>0</td>\n    </tr>\n    <tr>\n      <th>99997</th>\n      <td>99997</td>\n      <td>-0.299475</td>\n      <td>-0.128871</td>\n      <td>-0.078198</td>\n      <td>0.0</td>\n      <td>-0.240652</td>\n      <td>-0.365410</td>\n      <td>-0.098711</td>\n      <td>-0.098362</td>\n      <td>1</td>\n      <td>...</td>\n      <td>0</td>\n      <td>0</td>\n      <td>0</td>\n      <td>1</td>\n      <td>0</td>\n      <td>0</td>\n      <td>0</td>\n      <td>0</td>\n      <td>0</td>\n      <td>0</td>\n    </tr>\n    <tr>\n      <th>99998</th>\n      <td>99998</td>\n      <td>0.901249</td>\n      <td>-0.128871</td>\n      <td>-0.078198</td>\n      <td>0.0</td>\n      <td>0.520869</td>\n      <td>0.693888</td>\n      <td>-0.098711</td>\n      <td>-0.098362</td>\n      <td>0</td>\n      <td>...</td>\n      <td>0</td>\n      <td>0</td>\n      <td>0</td>\n      <td>1</td>\n      <td>0</td>\n      <td>0</td>\n      <td>0</td>\n      <td>0</td>\n      <td>0</td>\n      <td>0</td>\n    </tr>\n    <tr>\n      <th>99999</th>\n      <td>99999</td>\n      <td>-0.299475</td>\n      <td>-0.128871</td>\n      <td>-0.078198</td>\n      <td>0.0</td>\n      <td>-0.240652</td>\n      <td>-0.365410</td>\n      <td>-0.098711</td>\n      <td>-0.098362</td>\n      <td>1</td>\n      <td>...</td>\n      <td>0</td>\n      <td>0</td>\n      <td>0</td>\n      <td>1</td>\n      <td>0</td>\n      <td>0</td>\n      <td>0</td>\n      <td>0</td>\n      <td>0</td>\n      <td>0</td>\n    </tr>\n  </tbody>\n</table>\n<p>100000 rows × 26 columns</p>\n</div>"
     },
     "execution_count": 15,
     "metadata": {},
     "output_type": "execute_result"
    }
   ],
   "source": [
    "data"
   ],
   "metadata": {
    "collapsed": false,
    "ExecuteTime": {
     "end_time": "2023-09-07T06:38:03.087858300Z",
     "start_time": "2023-09-07T06:38:02.951347700Z"
    }
   },
   "id": "47111c817a7b2424"
  },
  {
   "cell_type": "code",
   "execution_count": 16,
   "outputs": [],
   "source": [
    "X = data[['duration', 'orig_bytes', 'resp_bytes', 'missed_bytes', 'orig_pkts', 'orig_ip_bytes', 'resp_pkts', 'resp_ip_bytes', 'proto_icmp', 'proto_tcp', 'proto_udp', 'conn_state_OTH', 'conn_state_REJ', 'conn_state_RSTO', 'conn_state_RSTOS0', 'conn_state_RSTR', 'conn_state_RSTRH', 'conn_state_S0', 'conn_state_S1', 'conn_state_S2', 'conn_state_S3', 'conn_state_SF', 'conn_state_SH', 'conn_state_SHR']]\n",
    "y = data['label']"
   ],
   "metadata": {
    "collapsed": false,
    "ExecuteTime": {
     "end_time": "2023-09-07T06:38:07.703342500Z",
     "start_time": "2023-09-07T06:38:07.446330900Z"
    }
   },
   "id": "e4bb6b55e3798da2"
  },
  {
   "cell_type": "code",
   "execution_count": 17,
   "outputs": [
    {
     "data": {
      "text/plain": "array([0, 1], dtype=int64)"
     },
     "execution_count": 17,
     "metadata": {},
     "output_type": "execute_result"
    }
   ],
   "source": [
    "y.unique()"
   ],
   "metadata": {
    "collapsed": false,
    "ExecuteTime": {
     "end_time": "2023-09-07T06:38:17.071222700Z",
     "start_time": "2023-09-07T06:38:16.948377100Z"
    }
   },
   "id": "6423f374c217b7bb"
  },
  {
   "cell_type": "code",
   "execution_count": 18,
   "outputs": [],
   "source": [
    "# Convert Pandas DataFrames to NumPy arrays\n",
    "X = X.values\n",
    "y = y.values\n",
    "\n",
    "# Reshape input for channels dimension\n",
    "X = X.reshape(X.shape[0], X.shape[1], 1)\n",
    "\n",
    "# Encode target labels as categorical\n",
    "num_classes = 14\n",
    "y = to_categorical(y, num_classes=num_classes)"
   ],
   "metadata": {
    "collapsed": false,
    "ExecuteTime": {
     "end_time": "2023-09-07T06:38:30.990962200Z",
     "start_time": "2023-09-07T06:38:30.891196600Z"
    }
   },
   "id": "73054b6d84a5422b"
  },
  {
   "cell_type": "code",
   "execution_count": 19,
   "outputs": [],
   "source": [
    "X_train, X_temp, y_train, y_temp = train_test_split(X, y, test_size=0.30, random_state=42)\n",
    "X_val, X_test, y_val, y_test = train_test_split(X_temp, y_temp, test_size=0.50, random_state=42)\n"
   ],
   "metadata": {
    "collapsed": false,
    "ExecuteTime": {
     "end_time": "2023-09-07T06:38:34.141614500Z",
     "start_time": "2023-09-07T06:38:33.934018800Z"
    }
   },
   "id": "96afae551d51cd05"
  },
  {
   "cell_type": "code",
   "execution_count": 21,
   "outputs": [
    {
     "name": "stdout",
     "output_type": "stream",
     "text": [
      "Epoch 1/10\n",
      "2188/2188 [==============================] - 31s 12ms/step - loss: 0.1995 - accuracy: 0.9545 - val_loss: 0.1891 - val_accuracy: 0.9507\n",
      "Epoch 2/10\n",
      "2188/2188 [==============================] - 24s 11ms/step - loss: 0.1677 - accuracy: 0.9559 - val_loss: 0.1740 - val_accuracy: 0.9551\n",
      "Epoch 3/10\n",
      "2188/2188 [==============================] - 23s 11ms/step - loss: 0.1678 - accuracy: 0.9560 - val_loss: 0.1876 - val_accuracy: 0.9551\n",
      "Epoch 4/10\n",
      "2188/2188 [==============================] - 22s 10ms/step - loss: 0.1657 - accuracy: 0.9560 - val_loss: 0.2219 - val_accuracy: 0.9551\n",
      "Epoch 5/10\n",
      "2188/2188 [==============================] - 22s 10ms/step - loss: 0.1643 - accuracy: 0.9560 - val_loss: 0.2422 - val_accuracy: 0.9545\n",
      "Epoch 6/10\n",
      "2188/2188 [==============================] - 22s 10ms/step - loss: 0.1638 - accuracy: 0.9560 - val_loss: 0.1954 - val_accuracy: 0.9550\n",
      "Epoch 7/10\n",
      "2188/2188 [==============================] - 22s 10ms/step - loss: 0.1628 - accuracy: 0.9559 - val_loss: 0.2470 - val_accuracy: 0.9531\n",
      "Epoch 8/10\n",
      "2188/2188 [==============================] - 23s 11ms/step - loss: 0.1616 - accuracy: 0.9560 - val_loss: 0.2741 - val_accuracy: 0.9509\n",
      "Epoch 9/10\n",
      "2188/2188 [==============================] - 22s 10ms/step - loss: 0.1608 - accuracy: 0.9558 - val_loss: 0.2583 - val_accuracy: 0.9550\n",
      "Epoch 10/10\n",
      "2188/2188 [==============================] - 22s 10ms/step - loss: 0.1599 - accuracy: 0.9561 - val_loss: 0.1924 - val_accuracy: 0.9549\n"
     ]
    },
    {
     "data": {
      "text/plain": "<keras.src.callbacks.History at 0x271ddb9b510>"
     },
     "execution_count": 21,
     "metadata": {},
     "output_type": "execute_result"
    }
   ],
   "source": [
    "model = Sequential()\n",
    "\n",
    "# Convolutional layers\n",
    "model.add(Conv1D(filters=36, kernel_size=5, activation='relu', input_shape=(24, 1)))\n",
    "model.add(BatchNormalization())\n",
    "\n",
    "model.add(Conv1D(filters=72, kernel_size=5, activation='relu'))\n",
    "model.add(BatchNormalization())\n",
    "model.add(MaxPooling1D(pool_size=2))\n",
    "\n",
    "model.add(Conv1D(filters=144, kernel_size=3, activation='relu'))\n",
    "model.add(BatchNormalization())\n",
    "model.add(MaxPooling1D(pool_size=2))\n",
    "\n",
    "model.add(Conv1D(filters=288, kernel_size=3, activation='relu'))\n",
    "model.add(BatchNormalization())\n",
    "\n",
    "\n",
    "model.add(GlobalAveragePooling1D())\n",
    "model.add(Dense(num_classes, activation='softmax'))\n",
    "\n",
    "\n",
    "optimizer = Adam()\n",
    "model.compile(optimizer=optimizer, loss='categorical_crossentropy', metrics=['accuracy'])\n",
    "\n",
    "# Train the model\n",
    "model.fit(X_train, y_train, validation_data=(X_val, y_val), batch_size=32, epochs=10)"
   ],
   "metadata": {
    "collapsed": false,
    "ExecuteTime": {
     "end_time": "2023-09-07T07:57:56.483417400Z",
     "start_time": "2023-09-07T07:54:00.235178700Z"
    }
   },
   "id": "57b49b880fe68e64"
  },
  {
   "cell_type": "code",
   "execution_count": null,
   "outputs": [],
   "source": [
    " "
   ],
   "metadata": {
    "collapsed": false
   },
   "id": "5ff634cd8833195b"
  }
 ],
 "metadata": {
  "kernelspec": {
   "display_name": "Python 3",
   "language": "python",
   "name": "python3"
  },
  "language_info": {
   "codemirror_mode": {
    "name": "ipython",
    "version": 2
   },
   "file_extension": ".py",
   "mimetype": "text/x-python",
   "name": "python",
   "nbconvert_exporter": "python",
   "pygments_lexer": "ipython2",
   "version": "2.7.6"
  }
 },
 "nbformat": 4,
 "nbformat_minor": 5
}
