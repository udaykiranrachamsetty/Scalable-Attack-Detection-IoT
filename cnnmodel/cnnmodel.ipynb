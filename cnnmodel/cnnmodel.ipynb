{
 "cells": [
  {
   "cell_type": "code",
   "execution_count": 9,
   "metadata": {
    "collapsed": true,
    "ExecuteTime": {
     "end_time": "2023-09-04T14:04:36.024813300Z",
     "start_time": "2023-09-04T14:04:36.011639800Z"
    }
   },
   "outputs": [],
   "source": [
    "# For data processing\n",
    "import pandas as pd\n",
    "import numpy as np\n",
    "\n",
    "# For scaling and encoding\n",
    "from sklearn.preprocessing import LabelEncoder\n",
    "from sklearn.preprocessing import MinMaxScaler\n",
    "from sklearn.preprocessing import OneHotEncoder\n",
    "\n",
    "# For splitting data\n",
    "from sklearn.model_selection import train_test_split\n",
    "\n",
    "# For deep learning model\n",
    "from tensorflow.keras.models import Sequential\n",
    "from tensorflow.keras.layers import Dense, Flatten, Conv2D, MaxPooling2D"
   ]
  },
  {
   "cell_type": "code",
   "execution_count": 43,
   "outputs": [],
   "source": [
    "dataset = pd.read_csv(\"E:\\Final year project\\iot23_combined.csv\")"
   ],
   "metadata": {
    "collapsed": false,
    "ExecuteTime": {
     "end_time": "2023-09-05T03:16:19.218252600Z",
     "start_time": "2023-09-05T03:15:51.472544800Z"
    }
   }
  },
  {
   "cell_type": "code",
   "execution_count": 44,
   "outputs": [
    {
     "data": {
      "text/plain": "          Unnamed: 0  duration  orig_bytes  resp_bytes  missed_bytes   \n0                  0  2.998796           0           0           0.0  \\\n1                  1  0.000000           0           0           0.0   \n2                  2  0.000000           0           0           0.0   \n3                  3  2.998804           0           0           0.0   \n4                  4  0.000000           0           0           0.0   \n...              ...       ...         ...         ...           ...   \n11244797      999994  0.000000           0           0           0.0   \n11244798      999995  0.000000           0           0           0.0   \n11244799      999996  0.000000           0           0           0.0   \n11244800      999997  0.000000           0           0           0.0   \n11244801      999998  0.000000           0           0           0.0   \n\n          orig_pkts  orig_ip_bytes  resp_pkts  resp_ip_bytes   \n0               3.0          180.0        0.0            0.0  \\\n1               1.0           60.0        0.0            0.0   \n2               1.0           60.0        0.0            0.0   \n3               3.0          180.0        0.0            0.0   \n4               1.0           60.0        0.0            0.0   \n...             ...            ...        ...            ...   \n11244797        1.0           40.0        0.0            0.0   \n11244798        1.0           40.0        0.0            0.0   \n11244799        1.0           40.0        0.0            0.0   \n11244800        1.0           40.0        0.0            0.0   \n11244801        1.0           40.0        0.0            0.0   \n\n                              label  ...  conn_state_RSTOS0  conn_state_RSTR   \n0         PartOfAHorizontalPortScan  ...              False            False  \\\n1         PartOfAHorizontalPortScan  ...              False            False   \n2         PartOfAHorizontalPortScan  ...              False            False   \n3                            Benign  ...              False            False   \n4                            Benign  ...              False            False   \n...                             ...  ...                ...              ...   \n11244797  PartOfAHorizontalPortScan  ...              False            False   \n11244798  PartOfAHorizontalPortScan  ...              False            False   \n11244799  PartOfAHorizontalPortScan  ...              False            False   \n11244800  PartOfAHorizontalPortScan  ...              False            False   \n11244801  PartOfAHorizontalPortScan  ...              False            False   \n\n          conn_state_RSTRH  conn_state_S0  conn_state_S1  conn_state_S2   \n0                    False           True          False          False  \\\n1                    False           True          False          False   \n2                    False           True          False          False   \n3                    False           True          False          False   \n4                    False           True          False          False   \n...                    ...            ...            ...            ...   \n11244797             False           True          False          False   \n11244798             False           True          False          False   \n11244799             False           True          False          False   \n11244800             False           True          False          False   \n11244801             False           True          False          False   \n\n          conn_state_S3  conn_state_SF  conn_state_SH  conn_state_SHR  \n0                 False          False          False           False  \n1                 False          False          False           False  \n2                 False          False          False           False  \n3                 False          False          False           False  \n4                 False          False          False           False  \n...                 ...            ...            ...             ...  \n11244797          False          False          False           False  \n11244798          False          False          False           False  \n11244799          False          False          False           False  \n11244800          False          False          False           False  \n11244801          False          False          False           False  \n\n[11244802 rows x 26 columns]",
      "text/html": "<div>\n<style scoped>\n    .dataframe tbody tr th:only-of-type {\n        vertical-align: middle;\n    }\n\n    .dataframe tbody tr th {\n        vertical-align: top;\n    }\n\n    .dataframe thead th {\n        text-align: right;\n    }\n</style>\n<table border=\"1\" class=\"dataframe\">\n  <thead>\n    <tr style=\"text-align: right;\">\n      <th></th>\n      <th>Unnamed: 0</th>\n      <th>duration</th>\n      <th>orig_bytes</th>\n      <th>resp_bytes</th>\n      <th>missed_bytes</th>\n      <th>orig_pkts</th>\n      <th>orig_ip_bytes</th>\n      <th>resp_pkts</th>\n      <th>resp_ip_bytes</th>\n      <th>label</th>\n      <th>...</th>\n      <th>conn_state_RSTOS0</th>\n      <th>conn_state_RSTR</th>\n      <th>conn_state_RSTRH</th>\n      <th>conn_state_S0</th>\n      <th>conn_state_S1</th>\n      <th>conn_state_S2</th>\n      <th>conn_state_S3</th>\n      <th>conn_state_SF</th>\n      <th>conn_state_SH</th>\n      <th>conn_state_SHR</th>\n    </tr>\n  </thead>\n  <tbody>\n    <tr>\n      <th>0</th>\n      <td>0</td>\n      <td>2.998796</td>\n      <td>0</td>\n      <td>0</td>\n      <td>0.0</td>\n      <td>3.0</td>\n      <td>180.0</td>\n      <td>0.0</td>\n      <td>0.0</td>\n      <td>PartOfAHorizontalPortScan</td>\n      <td>...</td>\n      <td>False</td>\n      <td>False</td>\n      <td>False</td>\n      <td>True</td>\n      <td>False</td>\n      <td>False</td>\n      <td>False</td>\n      <td>False</td>\n      <td>False</td>\n      <td>False</td>\n    </tr>\n    <tr>\n      <th>1</th>\n      <td>1</td>\n      <td>0.000000</td>\n      <td>0</td>\n      <td>0</td>\n      <td>0.0</td>\n      <td>1.0</td>\n      <td>60.0</td>\n      <td>0.0</td>\n      <td>0.0</td>\n      <td>PartOfAHorizontalPortScan</td>\n      <td>...</td>\n      <td>False</td>\n      <td>False</td>\n      <td>False</td>\n      <td>True</td>\n      <td>False</td>\n      <td>False</td>\n      <td>False</td>\n      <td>False</td>\n      <td>False</td>\n      <td>False</td>\n    </tr>\n    <tr>\n      <th>2</th>\n      <td>2</td>\n      <td>0.000000</td>\n      <td>0</td>\n      <td>0</td>\n      <td>0.0</td>\n      <td>1.0</td>\n      <td>60.0</td>\n      <td>0.0</td>\n      <td>0.0</td>\n      <td>PartOfAHorizontalPortScan</td>\n      <td>...</td>\n      <td>False</td>\n      <td>False</td>\n      <td>False</td>\n      <td>True</td>\n      <td>False</td>\n      <td>False</td>\n      <td>False</td>\n      <td>False</td>\n      <td>False</td>\n      <td>False</td>\n    </tr>\n    <tr>\n      <th>3</th>\n      <td>3</td>\n      <td>2.998804</td>\n      <td>0</td>\n      <td>0</td>\n      <td>0.0</td>\n      <td>3.0</td>\n      <td>180.0</td>\n      <td>0.0</td>\n      <td>0.0</td>\n      <td>Benign</td>\n      <td>...</td>\n      <td>False</td>\n      <td>False</td>\n      <td>False</td>\n      <td>True</td>\n      <td>False</td>\n      <td>False</td>\n      <td>False</td>\n      <td>False</td>\n      <td>False</td>\n      <td>False</td>\n    </tr>\n    <tr>\n      <th>4</th>\n      <td>4</td>\n      <td>0.000000</td>\n      <td>0</td>\n      <td>0</td>\n      <td>0.0</td>\n      <td>1.0</td>\n      <td>60.0</td>\n      <td>0.0</td>\n      <td>0.0</td>\n      <td>Benign</td>\n      <td>...</td>\n      <td>False</td>\n      <td>False</td>\n      <td>False</td>\n      <td>True</td>\n      <td>False</td>\n      <td>False</td>\n      <td>False</td>\n      <td>False</td>\n      <td>False</td>\n      <td>False</td>\n    </tr>\n    <tr>\n      <th>...</th>\n      <td>...</td>\n      <td>...</td>\n      <td>...</td>\n      <td>...</td>\n      <td>...</td>\n      <td>...</td>\n      <td>...</td>\n      <td>...</td>\n      <td>...</td>\n      <td>...</td>\n      <td>...</td>\n      <td>...</td>\n      <td>...</td>\n      <td>...</td>\n      <td>...</td>\n      <td>...</td>\n      <td>...</td>\n      <td>...</td>\n      <td>...</td>\n      <td>...</td>\n      <td>...</td>\n    </tr>\n    <tr>\n      <th>11244797</th>\n      <td>999994</td>\n      <td>0.000000</td>\n      <td>0</td>\n      <td>0</td>\n      <td>0.0</td>\n      <td>1.0</td>\n      <td>40.0</td>\n      <td>0.0</td>\n      <td>0.0</td>\n      <td>PartOfAHorizontalPortScan</td>\n      <td>...</td>\n      <td>False</td>\n      <td>False</td>\n      <td>False</td>\n      <td>True</td>\n      <td>False</td>\n      <td>False</td>\n      <td>False</td>\n      <td>False</td>\n      <td>False</td>\n      <td>False</td>\n    </tr>\n    <tr>\n      <th>11244798</th>\n      <td>999995</td>\n      <td>0.000000</td>\n      <td>0</td>\n      <td>0</td>\n      <td>0.0</td>\n      <td>1.0</td>\n      <td>40.0</td>\n      <td>0.0</td>\n      <td>0.0</td>\n      <td>PartOfAHorizontalPortScan</td>\n      <td>...</td>\n      <td>False</td>\n      <td>False</td>\n      <td>False</td>\n      <td>True</td>\n      <td>False</td>\n      <td>False</td>\n      <td>False</td>\n      <td>False</td>\n      <td>False</td>\n      <td>False</td>\n    </tr>\n    <tr>\n      <th>11244799</th>\n      <td>999996</td>\n      <td>0.000000</td>\n      <td>0</td>\n      <td>0</td>\n      <td>0.0</td>\n      <td>1.0</td>\n      <td>40.0</td>\n      <td>0.0</td>\n      <td>0.0</td>\n      <td>PartOfAHorizontalPortScan</td>\n      <td>...</td>\n      <td>False</td>\n      <td>False</td>\n      <td>False</td>\n      <td>True</td>\n      <td>False</td>\n      <td>False</td>\n      <td>False</td>\n      <td>False</td>\n      <td>False</td>\n      <td>False</td>\n    </tr>\n    <tr>\n      <th>11244800</th>\n      <td>999997</td>\n      <td>0.000000</td>\n      <td>0</td>\n      <td>0</td>\n      <td>0.0</td>\n      <td>1.0</td>\n      <td>40.0</td>\n      <td>0.0</td>\n      <td>0.0</td>\n      <td>PartOfAHorizontalPortScan</td>\n      <td>...</td>\n      <td>False</td>\n      <td>False</td>\n      <td>False</td>\n      <td>True</td>\n      <td>False</td>\n      <td>False</td>\n      <td>False</td>\n      <td>False</td>\n      <td>False</td>\n      <td>False</td>\n    </tr>\n    <tr>\n      <th>11244801</th>\n      <td>999998</td>\n      <td>0.000000</td>\n      <td>0</td>\n      <td>0</td>\n      <td>0.0</td>\n      <td>1.0</td>\n      <td>40.0</td>\n      <td>0.0</td>\n      <td>0.0</td>\n      <td>PartOfAHorizontalPortScan</td>\n      <td>...</td>\n      <td>False</td>\n      <td>False</td>\n      <td>False</td>\n      <td>True</td>\n      <td>False</td>\n      <td>False</td>\n      <td>False</td>\n      <td>False</td>\n      <td>False</td>\n      <td>False</td>\n    </tr>\n  </tbody>\n</table>\n<p>11244802 rows × 26 columns</p>\n</div>"
     },
     "execution_count": 44,
     "metadata": {},
     "output_type": "execute_result"
    }
   ],
   "source": [
    "dataset"
   ],
   "metadata": {
    "collapsed": false,
    "ExecuteTime": {
     "end_time": "2023-09-05T03:16:25.127519200Z",
     "start_time": "2023-09-05T03:16:23.817005600Z"
    }
   }
  },
  {
   "cell_type": "code",
   "execution_count": 46,
   "outputs": [],
   "source": [
    "\n",
    "\n",
    "# Label column\n",
    "label_col = 'label'\n",
    "\n",
    "# Separate features and labels\n",
    "X = dataset.drop(label_col, axis=1)\n",
    "y = dataset[label_col]"
   ],
   "metadata": {
    "collapsed": false,
    "ExecuteTime": {
     "end_time": "2023-09-05T03:16:34.870740800Z",
     "start_time": "2023-09-05T03:16:34.540855100Z"
    }
   }
  },
  {
   "cell_type": "code",
   "execution_count": 47,
   "outputs": [
    {
     "data": {
      "text/plain": "          Unnamed: 0  duration  orig_bytes  resp_bytes  missed_bytes   \n0                  0  2.998796           0           0           0.0  \\\n1                  1  0.000000           0           0           0.0   \n2                  2  0.000000           0           0           0.0   \n3                  3  2.998804           0           0           0.0   \n4                  4  0.000000           0           0           0.0   \n...              ...       ...         ...         ...           ...   \n11244797      999994  0.000000           0           0           0.0   \n11244798      999995  0.000000           0           0           0.0   \n11244799      999996  0.000000           0           0           0.0   \n11244800      999997  0.000000           0           0           0.0   \n11244801      999998  0.000000           0           0           0.0   \n\n          orig_pkts  orig_ip_bytes  resp_pkts  resp_ip_bytes  proto_icmp  ...   \n0               3.0          180.0        0.0            0.0       False  ...  \\\n1               1.0           60.0        0.0            0.0       False  ...   \n2               1.0           60.0        0.0            0.0       False  ...   \n3               3.0          180.0        0.0            0.0       False  ...   \n4               1.0           60.0        0.0            0.0       False  ...   \n...             ...            ...        ...            ...         ...  ...   \n11244797        1.0           40.0        0.0            0.0       False  ...   \n11244798        1.0           40.0        0.0            0.0       False  ...   \n11244799        1.0           40.0        0.0            0.0       False  ...   \n11244800        1.0           40.0        0.0            0.0       False  ...   \n11244801        1.0           40.0        0.0            0.0       False  ...   \n\n          conn_state_RSTOS0  conn_state_RSTR  conn_state_RSTRH  conn_state_S0   \n0                     False            False             False           True  \\\n1                     False            False             False           True   \n2                     False            False             False           True   \n3                     False            False             False           True   \n4                     False            False             False           True   \n...                     ...              ...               ...            ...   \n11244797              False            False             False           True   \n11244798              False            False             False           True   \n11244799              False            False             False           True   \n11244800              False            False             False           True   \n11244801              False            False             False           True   \n\n          conn_state_S1  conn_state_S2  conn_state_S3  conn_state_SF   \n0                 False          False          False          False  \\\n1                 False          False          False          False   \n2                 False          False          False          False   \n3                 False          False          False          False   \n4                 False          False          False          False   \n...                 ...            ...            ...            ...   \n11244797          False          False          False          False   \n11244798          False          False          False          False   \n11244799          False          False          False          False   \n11244800          False          False          False          False   \n11244801          False          False          False          False   \n\n          conn_state_SH  conn_state_SHR  \n0                 False           False  \n1                 False           False  \n2                 False           False  \n3                 False           False  \n4                 False           False  \n...                 ...             ...  \n11244797          False           False  \n11244798          False           False  \n11244799          False           False  \n11244800          False           False  \n11244801          False           False  \n\n[11244802 rows x 25 columns]",
      "text/html": "<div>\n<style scoped>\n    .dataframe tbody tr th:only-of-type {\n        vertical-align: middle;\n    }\n\n    .dataframe tbody tr th {\n        vertical-align: top;\n    }\n\n    .dataframe thead th {\n        text-align: right;\n    }\n</style>\n<table border=\"1\" class=\"dataframe\">\n  <thead>\n    <tr style=\"text-align: right;\">\n      <th></th>\n      <th>Unnamed: 0</th>\n      <th>duration</th>\n      <th>orig_bytes</th>\n      <th>resp_bytes</th>\n      <th>missed_bytes</th>\n      <th>orig_pkts</th>\n      <th>orig_ip_bytes</th>\n      <th>resp_pkts</th>\n      <th>resp_ip_bytes</th>\n      <th>proto_icmp</th>\n      <th>...</th>\n      <th>conn_state_RSTOS0</th>\n      <th>conn_state_RSTR</th>\n      <th>conn_state_RSTRH</th>\n      <th>conn_state_S0</th>\n      <th>conn_state_S1</th>\n      <th>conn_state_S2</th>\n      <th>conn_state_S3</th>\n      <th>conn_state_SF</th>\n      <th>conn_state_SH</th>\n      <th>conn_state_SHR</th>\n    </tr>\n  </thead>\n  <tbody>\n    <tr>\n      <th>0</th>\n      <td>0</td>\n      <td>2.998796</td>\n      <td>0</td>\n      <td>0</td>\n      <td>0.0</td>\n      <td>3.0</td>\n      <td>180.0</td>\n      <td>0.0</td>\n      <td>0.0</td>\n      <td>False</td>\n      <td>...</td>\n      <td>False</td>\n      <td>False</td>\n      <td>False</td>\n      <td>True</td>\n      <td>False</td>\n      <td>False</td>\n      <td>False</td>\n      <td>False</td>\n      <td>False</td>\n      <td>False</td>\n    </tr>\n    <tr>\n      <th>1</th>\n      <td>1</td>\n      <td>0.000000</td>\n      <td>0</td>\n      <td>0</td>\n      <td>0.0</td>\n      <td>1.0</td>\n      <td>60.0</td>\n      <td>0.0</td>\n      <td>0.0</td>\n      <td>False</td>\n      <td>...</td>\n      <td>False</td>\n      <td>False</td>\n      <td>False</td>\n      <td>True</td>\n      <td>False</td>\n      <td>False</td>\n      <td>False</td>\n      <td>False</td>\n      <td>False</td>\n      <td>False</td>\n    </tr>\n    <tr>\n      <th>2</th>\n      <td>2</td>\n      <td>0.000000</td>\n      <td>0</td>\n      <td>0</td>\n      <td>0.0</td>\n      <td>1.0</td>\n      <td>60.0</td>\n      <td>0.0</td>\n      <td>0.0</td>\n      <td>False</td>\n      <td>...</td>\n      <td>False</td>\n      <td>False</td>\n      <td>False</td>\n      <td>True</td>\n      <td>False</td>\n      <td>False</td>\n      <td>False</td>\n      <td>False</td>\n      <td>False</td>\n      <td>False</td>\n    </tr>\n    <tr>\n      <th>3</th>\n      <td>3</td>\n      <td>2.998804</td>\n      <td>0</td>\n      <td>0</td>\n      <td>0.0</td>\n      <td>3.0</td>\n      <td>180.0</td>\n      <td>0.0</td>\n      <td>0.0</td>\n      <td>False</td>\n      <td>...</td>\n      <td>False</td>\n      <td>False</td>\n      <td>False</td>\n      <td>True</td>\n      <td>False</td>\n      <td>False</td>\n      <td>False</td>\n      <td>False</td>\n      <td>False</td>\n      <td>False</td>\n    </tr>\n    <tr>\n      <th>4</th>\n      <td>4</td>\n      <td>0.000000</td>\n      <td>0</td>\n      <td>0</td>\n      <td>0.0</td>\n      <td>1.0</td>\n      <td>60.0</td>\n      <td>0.0</td>\n      <td>0.0</td>\n      <td>False</td>\n      <td>...</td>\n      <td>False</td>\n      <td>False</td>\n      <td>False</td>\n      <td>True</td>\n      <td>False</td>\n      <td>False</td>\n      <td>False</td>\n      <td>False</td>\n      <td>False</td>\n      <td>False</td>\n    </tr>\n    <tr>\n      <th>...</th>\n      <td>...</td>\n      <td>...</td>\n      <td>...</td>\n      <td>...</td>\n      <td>...</td>\n      <td>...</td>\n      <td>...</td>\n      <td>...</td>\n      <td>...</td>\n      <td>...</td>\n      <td>...</td>\n      <td>...</td>\n      <td>...</td>\n      <td>...</td>\n      <td>...</td>\n      <td>...</td>\n      <td>...</td>\n      <td>...</td>\n      <td>...</td>\n      <td>...</td>\n      <td>...</td>\n    </tr>\n    <tr>\n      <th>11244797</th>\n      <td>999994</td>\n      <td>0.000000</td>\n      <td>0</td>\n      <td>0</td>\n      <td>0.0</td>\n      <td>1.0</td>\n      <td>40.0</td>\n      <td>0.0</td>\n      <td>0.0</td>\n      <td>False</td>\n      <td>...</td>\n      <td>False</td>\n      <td>False</td>\n      <td>False</td>\n      <td>True</td>\n      <td>False</td>\n      <td>False</td>\n      <td>False</td>\n      <td>False</td>\n      <td>False</td>\n      <td>False</td>\n    </tr>\n    <tr>\n      <th>11244798</th>\n      <td>999995</td>\n      <td>0.000000</td>\n      <td>0</td>\n      <td>0</td>\n      <td>0.0</td>\n      <td>1.0</td>\n      <td>40.0</td>\n      <td>0.0</td>\n      <td>0.0</td>\n      <td>False</td>\n      <td>...</td>\n      <td>False</td>\n      <td>False</td>\n      <td>False</td>\n      <td>True</td>\n      <td>False</td>\n      <td>False</td>\n      <td>False</td>\n      <td>False</td>\n      <td>False</td>\n      <td>False</td>\n    </tr>\n    <tr>\n      <th>11244799</th>\n      <td>999996</td>\n      <td>0.000000</td>\n      <td>0</td>\n      <td>0</td>\n      <td>0.0</td>\n      <td>1.0</td>\n      <td>40.0</td>\n      <td>0.0</td>\n      <td>0.0</td>\n      <td>False</td>\n      <td>...</td>\n      <td>False</td>\n      <td>False</td>\n      <td>False</td>\n      <td>True</td>\n      <td>False</td>\n      <td>False</td>\n      <td>False</td>\n      <td>False</td>\n      <td>False</td>\n      <td>False</td>\n    </tr>\n    <tr>\n      <th>11244800</th>\n      <td>999997</td>\n      <td>0.000000</td>\n      <td>0</td>\n      <td>0</td>\n      <td>0.0</td>\n      <td>1.0</td>\n      <td>40.0</td>\n      <td>0.0</td>\n      <td>0.0</td>\n      <td>False</td>\n      <td>...</td>\n      <td>False</td>\n      <td>False</td>\n      <td>False</td>\n      <td>True</td>\n      <td>False</td>\n      <td>False</td>\n      <td>False</td>\n      <td>False</td>\n      <td>False</td>\n      <td>False</td>\n    </tr>\n    <tr>\n      <th>11244801</th>\n      <td>999998</td>\n      <td>0.000000</td>\n      <td>0</td>\n      <td>0</td>\n      <td>0.0</td>\n      <td>1.0</td>\n      <td>40.0</td>\n      <td>0.0</td>\n      <td>0.0</td>\n      <td>False</td>\n      <td>...</td>\n      <td>False</td>\n      <td>False</td>\n      <td>False</td>\n      <td>True</td>\n      <td>False</td>\n      <td>False</td>\n      <td>False</td>\n      <td>False</td>\n      <td>False</td>\n      <td>False</td>\n    </tr>\n  </tbody>\n</table>\n<p>11244802 rows × 25 columns</p>\n</div>"
     },
     "execution_count": 47,
     "metadata": {},
     "output_type": "execute_result"
    }
   ],
   "source": [
    "X"
   ],
   "metadata": {
    "collapsed": false,
    "ExecuteTime": {
     "end_time": "2023-09-05T03:16:38.829160600Z",
     "start_time": "2023-09-05T03:16:37.748823500Z"
    }
   }
  },
  {
   "cell_type": "code",
   "execution_count": 48,
   "outputs": [
    {
     "data": {
      "text/plain": "(11244802, 25)"
     },
     "execution_count": 48,
     "metadata": {},
     "output_type": "execute_result"
    }
   ],
   "source": [
    "X.shape"
   ],
   "metadata": {
    "collapsed": false,
    "ExecuteTime": {
     "end_time": "2023-09-05T03:16:45.110732400Z",
     "start_time": "2023-09-05T03:16:45.095837400Z"
    }
   }
  },
  {
   "cell_type": "code",
   "execution_count": 49,
   "outputs": [
    {
     "data": {
      "text/plain": "(11244802,)"
     },
     "execution_count": 49,
     "metadata": {},
     "output_type": "execute_result"
    }
   ],
   "source": [
    "y.shape"
   ],
   "metadata": {
    "collapsed": false,
    "ExecuteTime": {
     "end_time": "2023-09-05T03:16:48.347802500Z",
     "start_time": "2023-09-05T03:16:48.341288600Z"
    }
   }
  },
  {
   "cell_type": "code",
   "execution_count": null,
   "outputs": [],
   "source": [],
   "metadata": {
    "collapsed": false
   }
  }
 ],
 "metadata": {
  "kernelspec": {
   "display_name": "Python 3",
   "language": "python",
   "name": "python3"
  },
  "language_info": {
   "codemirror_mode": {
    "name": "ipython",
    "version": 2
   },
   "file_extension": ".py",
   "mimetype": "text/x-python",
   "name": "python",
   "nbconvert_exporter": "python",
   "pygments_lexer": "ipython2",
   "version": "2.7.6"
  }
 },
 "nbformat": 4,
 "nbformat_minor": 0
}
