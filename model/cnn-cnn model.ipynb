{
 "cells": [
  {
   "cell_type": "code",
   "execution_count": 1,
   "id": "initial_id",
   "metadata": {
    "collapsed": true,
    "ExecuteTime": {
     "end_time": "2023-11-21T07:59:52.667890100Z",
     "start_time": "2023-11-21T07:58:59.774996300Z"
    }
   },
   "outputs": [],
   "source": [
    "import pandas as pd\n",
    "import numpy as np\n",
    "from sklearn.model_selection import train_test_split\n",
    "from tensorflow import keras\n",
    "from tensorflow.keras import layers\n",
    "\n",
    "\n",
    "df = pd.read_csv(\"E:\\Final year project\\project\\datapreprocessing\\iot_combined.csv\")\n",
    "\n",
    "\n",
    "top_labels = {\n",
    "    'PartOfAHorizontalPortScan': 1,\n",
    "    'Benign': 0,\n",
    "    'Okiru': 2,\n",
    "    'DDoS': 3,\n",
    "}\n",
    "\n",
    "df = df[df['label'].isin(top_labels)]\n",
    "\n",
    "balanced_df = pd.concat([df[df['label'] == label].sample(12500, replace=True) for label in top_labels])\n",
    "\n",
    "\n",
    "balanced_df = balanced_df.sample(frac=1).reset_index(drop=True)\n",
    "balanced_df['label'] = balanced_df['label'].map(top_labels)"
   ]
  },
  {
   "cell_type": "code",
   "execution_count": 5,
   "outputs": [
    {
     "name": "stdout",
     "output_type": "stream",
     "text": [
      "Epoch 1/10\n",
      "1250/1250 [==============================] - 4s 3ms/step - loss: 574.6653 - accuracy: 0.3662 - val_loss: 172.4956 - val_accuracy: 0.5028\n",
      "Epoch 2/10\n",
      "1250/1250 [==============================] - 3s 2ms/step - loss: 50.3067 - accuracy: 0.5034 - val_loss: 13.6687 - val_accuracy: 0.5922\n",
      "Epoch 3/10\n",
      "1250/1250 [==============================] - 3s 3ms/step - loss: 7.3195 - accuracy: 0.6053 - val_loss: 3.0513 - val_accuracy: 0.6070\n",
      "Epoch 4/10\n",
      "1250/1250 [==============================] - 3s 2ms/step - loss: 2.9098 - accuracy: 0.6528 - val_loss: 1.0227 - val_accuracy: 0.7059\n",
      "Epoch 5/10\n",
      "1250/1250 [==============================] - 3s 3ms/step - loss: 1.1238 - accuracy: 0.6529 - val_loss: 0.9338 - val_accuracy: 0.6550\n",
      "Epoch 6/10\n",
      "1250/1250 [==============================] - 3s 2ms/step - loss: 0.9311 - accuracy: 0.6535 - val_loss: 1.2669 - val_accuracy: 0.6375\n",
      "Epoch 7/10\n",
      "1250/1250 [==============================] - 3s 2ms/step - loss: 10.1271 - accuracy: 0.6300 - val_loss: 1.1172 - val_accuracy: 0.6113\n",
      "Epoch 8/10\n",
      "1250/1250 [==============================] - 3s 2ms/step - loss: 1.2266 - accuracy: 0.6513 - val_loss: 0.8103 - val_accuracy: 0.5750\n",
      "Epoch 9/10\n",
      "1250/1250 [==============================] - 3s 2ms/step - loss: 5.1875 - accuracy: 0.6394 - val_loss: 1.2415 - val_accuracy: 0.6795\n",
      "Epoch 10/10\n",
      "1250/1250 [==============================] - 3s 2ms/step - loss: 1.5002 - accuracy: 0.6478 - val_loss: 1.3926 - val_accuracy: 0.5812\n",
      "1250/1250 [==============================] - 2s 1ms/step\n",
      "313/313 [==============================] - 0s 1ms/step\n",
      "Epoch 1/10\n",
      "1250/1250 [==============================] - 5s 3ms/step - loss: 2.7687 - accuracy: 0.6344 - val_loss: 0.8392 - val_accuracy: 0.6809\n",
      "Epoch 2/10\n",
      "1250/1250 [==============================] - 3s 3ms/step - loss: 10.0612 - accuracy: 0.6551 - val_loss: 0.7457 - val_accuracy: 0.6808\n",
      "Epoch 3/10\n",
      "1250/1250 [==============================] - 3s 3ms/step - loss: 4.4118 - accuracy: 0.6551 - val_loss: 0.7681 - val_accuracy: 0.6809\n",
      "Epoch 4/10\n",
      "1250/1250 [==============================] - 3s 3ms/step - loss: 1.0690 - accuracy: 0.6645 - val_loss: 0.9953 - val_accuracy: 0.6129\n",
      "Epoch 5/10\n",
      "1250/1250 [==============================] - 3s 3ms/step - loss: 3.4930 - accuracy: 0.6413 - val_loss: 1.2393 - val_accuracy: 0.6808\n",
      "Epoch 6/10\n",
      "1250/1250 [==============================] - 3s 3ms/step - loss: 1.0587 - accuracy: 0.6564 - val_loss: 0.8005 - val_accuracy: 0.6813\n",
      "Epoch 7/10\n",
      "1250/1250 [==============================] - 3s 3ms/step - loss: 5.7668 - accuracy: 0.6386 - val_loss: 0.9827 - val_accuracy: 0.6806\n",
      "Epoch 8/10\n",
      "1250/1250 [==============================] - 3s 3ms/step - loss: 15.3240 - accuracy: 0.6326 - val_loss: 1.4131 - val_accuracy: 0.6806\n",
      "Epoch 9/10\n",
      "1250/1250 [==============================] - 3s 3ms/step - loss: 2.9526 - accuracy: 0.6522 - val_loss: 1.1494 - val_accuracy: 0.6809\n",
      "Epoch 10/10\n",
      "1250/1250 [==============================] - 3s 3ms/step - loss: 6.4227 - accuracy: 0.6231 - val_loss: 1.5308 - val_accuracy: 0.6807\n",
      "313/313 [==============================] - 0s 1ms/step - loss: 1.5308 - accuracy: 0.6807\n",
      "Test Loss: 1.5307948589324951, Test Accuracy: 0.6807000041007996\n"
     ]
    }
   ],
   "source": [
    "from tensorflow.keras.utils import to_categorical\n",
    "\n",
    "# Extract features and labels\n",
    "X = balanced_df.drop(columns=['label'])\n",
    "y = balanced_df['label']\n",
    "\n",
    "# Convert the labels to one-hot encoding\n",
    "num_classes = 4\n",
    "y_encoded = to_categorical(y, num_classes)\n",
    "\n",
    "# Split the data into training and testing sets\n",
    "X_train, X_test, y_train, y_test = train_test_split(X, y_encoded, test_size=0.2, random_state=42)\n",
    "\n",
    "# Reshape the data for CNN input\n",
    "input_shape = (24, 1)\n",
    "X_train_reshaped = X_train.values.reshape(X_train.shape[0], *input_shape)\n",
    "X_test_reshaped = X_test.values.reshape(X_test.shape[0], *input_shape)\n",
    "\n",
    "# Create and train the CNN model\n",
    "cnn_model = keras.Sequential([\n",
    "    layers.Conv1D(32, 3, activation='relu', input_shape=input_shape),\n",
    "    layers.MaxPooling1D(2),\n",
    "    layers.Conv1D(64, 3, activation='relu'),\n",
    "    layers.MaxPooling1D(2),\n",
    "    layers.Flatten(),\n",
    "    layers.Dense(128, activation='relu'),\n",
    "    layers.Dense(num_classes, activation='softmax')\n",
    "])\n",
    "\n",
    "cnn_model.compile(optimizer='adam', loss='categorical_crossentropy', metrics=['accuracy'])\n",
    "cnn_model.fit(X_train_reshaped, y_train, epochs=10, validation_data=(X_test_reshaped, y_test))\n",
    "\n",
    "# Extract features using the trained CNN model\n",
    "feature_extractor = keras.Model(inputs=cnn_model.input, outputs=cnn_model.layers[-2].output)\n",
    "X_train_features = feature_extractor.predict(X_train_reshaped)\n",
    "X_test_features = feature_extractor.predict(X_test_reshaped)\n",
    "\n",
    "X_train_features_reshaped = X_train_features[:, :24].reshape((X_train_features.shape[0], 24, 1))\n",
    "X_test_features_reshaped = X_test_features[:, :24].reshape((X_test_features.shape[0], 24, 1))\n",
    "\n",
    "cnn_model = keras.Sequential([\n",
    "    layers.Conv1D(32, 3, activation='relu', input_shape=(24, 1)),\n",
    "    layers.MaxPooling1D(2),\n",
    "    layers.Conv1D(64, 3, activation='relu'),\n",
    "    layers.MaxPooling1D(2),\n",
    "    layers.Flatten(),\n",
    "    layers.Dense(128, activation='relu'),\n",
    "    layers.Dense(num_classes, activation='softmax')\n",
    "])\n",
    "\n",
    "cnn_model.compile(optimizer='adam', loss='categorical_crossentropy', metrics=['accuracy'])\n",
    "cnn_model.fit(X_train_features_reshaped, y_train, epochs=10, validation_data=(X_test_features_reshaped, y_test))\n",
    "\n",
    "# Evaluate the CNN model\n",
    "loss, accuracy = cnn_model.evaluate(X_test_features_reshaped, y_test)\n",
    "print(f\"Test Loss: {loss}, Test Accuracy: {accuracy}\")\n",
    "\n"
   ],
   "metadata": {
    "collapsed": false,
    "ExecuteTime": {
     "end_time": "2023-11-21T08:11:59.559546400Z",
     "start_time": "2023-11-21T08:10:48.672902600Z"
    }
   },
   "id": "20b1b38621576358"
  },
  {
   "cell_type": "code",
   "execution_count": 6,
   "outputs": [
    {
     "name": "stdout",
     "output_type": "stream",
     "text": [
      "313/313 [==============================] - 1s 2ms/step\n",
      "Classification Report:\n",
      "               precision    recall  f1-score   support\n",
      "\n",
      "           0       0.92      0.56      0.69      2492\n",
      "           1       0.60      0.49      0.54      2491\n",
      "           2       0.49      0.88      0.63      2463\n",
      "           3       1.00      0.80      0.89      2554\n",
      "\n",
      "    accuracy                           0.68     10000\n",
      "   macro avg       0.75      0.68      0.69     10000\n",
      "weighted avg       0.75      0.68      0.69     10000\n"
     ]
    }
   ],
   "source": [
    "from sklearn.metrics import classification_report\n",
    "\n",
    "y_pred = cnn_model.predict(X_test_features_reshaped)\n",
    "\n",
    "# Convert one-hot encoded labels back to categorical labels\n",
    "y_test_categorical = y_test.argmax(axis=1)\n",
    "y_pred_categorical = y_pred.argmax(axis=1)\n",
    "\n",
    "# Generate a classification report\n",
    "class_report = classification_report(y_test_categorical, y_pred_categorical)\n",
    "\n",
    "# Print the classification report\n",
    "print(\"Classification Report:\\n\", class_report)"
   ],
   "metadata": {
    "collapsed": false,
    "ExecuteTime": {
     "end_time": "2023-11-21T08:12:59.549674900Z",
     "start_time": "2023-11-21T08:12:58.683508400Z"
    }
   },
   "id": "bac3cc5df37e6750"
  },
  {
   "cell_type": "code",
   "execution_count": null,
   "outputs": [],
   "source": [],
   "metadata": {
    "collapsed": false
   },
   "id": "ce067a11821ec0c9"
  }
 ],
 "metadata": {
  "kernelspec": {
   "display_name": "Python 3",
   "language": "python",
   "name": "python3"
  },
  "language_info": {
   "codemirror_mode": {
    "name": "ipython",
    "version": 2
   },
   "file_extension": ".py",
   "mimetype": "text/x-python",
   "name": "python",
   "nbconvert_exporter": "python",
   "pygments_lexer": "ipython2",
   "version": "2.7.6"
  }
 },
 "nbformat": 4,
 "nbformat_minor": 5
}
