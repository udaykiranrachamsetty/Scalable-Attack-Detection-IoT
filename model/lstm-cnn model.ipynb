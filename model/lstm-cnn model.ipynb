{
 "cells": [
  {
   "cell_type": "code",
   "execution_count": null,
   "id": "initial_id",
   "metadata": {
    "collapsed": true
   },
   "outputs": [],
   "source": [
    "import pandas as pd\n",
    "import numpy as np\n",
    "from sklearn.model_selection import train_test_split\n",
    "from tensorflow import keras\n",
    "from tensorflow.keras import layers\n",
    "\n",
    "\n",
    "df = pd.read_csv(\"E:\\Final year project\\project\\datapreprocessing\\iot_combined.csv\")\n",
    "\n",
    "\n",
    "top_labels = {\n",
    "    'PartOfAHorizontalPortScan': 1,\n",
    "    'Benign': 0,\n",
    "    'Okiru': 2,\n",
    "    'DDoS': 3,\n",
    "}\n",
    "\n",
    "df = df[df['label'].isin(top_labels)]\n",
    "\n",
    "balanced_df = pd.concat([df[df['label'] == label].sample(12500, replace=True) for label in top_labels])\n",
    "\n",
    "\n",
    "balanced_df = balanced_df.sample(frac=1).reset_index(drop=True)\n",
    "balanced_df['label'] = balanced_df['label'].map(top_labels)"
   ]
  },
  {
   "cell_type": "code",
   "execution_count": 33,
   "outputs": [
    {
     "name": "stdout",
     "output_type": "stream",
     "text": [
      "Epoch 1/10\n",
      "1250/1250 [==============================] - 44s 29ms/step - loss: 0.8063 - accuracy: 0.5997 - val_loss: 0.7231 - val_accuracy: 0.6825\n",
      "Epoch 2/10\n",
      "1250/1250 [==============================] - 33s 26ms/step - loss: 0.7598 - accuracy: 0.6239 - val_loss: 0.7201 - val_accuracy: 0.6487\n",
      "Epoch 3/10\n",
      "1250/1250 [==============================] - 41s 33ms/step - loss: 0.7554 - accuracy: 0.6186 - val_loss: 0.7165 - val_accuracy: 0.6486\n",
      "Epoch 4/10\n",
      "1250/1250 [==============================] - 38s 31ms/step - loss: 0.7633 - accuracy: 0.5993 - val_loss: 0.7225 - val_accuracy: 0.6474\n",
      "Epoch 5/10\n",
      "1250/1250 [==============================] - 37s 30ms/step - loss: 0.7374 - accuracy: 0.6332 - val_loss: 0.7640 - val_accuracy: 0.5976\n",
      "Epoch 6/10\n",
      "1250/1250 [==============================] - 38s 30ms/step - loss: 0.7374 - accuracy: 0.6272 - val_loss: 0.7189 - val_accuracy: 0.6488\n",
      "Epoch 7/10\n",
      "1250/1250 [==============================] - 39s 31ms/step - loss: 0.7289 - accuracy: 0.6397 - val_loss: 0.7249 - val_accuracy: 0.6488\n",
      "Epoch 8/10\n",
      "1250/1250 [==============================] - 39s 31ms/step - loss: 0.7268 - accuracy: 0.6396 - val_loss: 0.7136 - val_accuracy: 0.6488\n",
      "Epoch 9/10\n",
      "1250/1250 [==============================] - 40s 32ms/step - loss: 0.7250 - accuracy: 0.6406 - val_loss: 0.7128 - val_accuracy: 0.6488\n",
      "Epoch 10/10\n",
      "1250/1250 [==============================] - 38s 31ms/step - loss: 0.7413 - accuracy: 0.6209 - val_loss: 0.7602 - val_accuracy: 0.5766\n",
      "1250/1250 [==============================] - 22s 16ms/step\n",
      "313/313 [==============================] - 5s 10ms/step\n"
     ]
    },
    {
     "ename": "ValueError",
     "evalue": "Exception encountered when calling layer \"conv1d_33\" (type Conv1D).\n\nNegative dimension size caused by subtracting 3 from 2 for '{{node conv1d_33/Conv1D}} = Conv2D[T=DT_FLOAT, data_format=\"NHWC\", dilations=[1, 1, 1, 1], explicit_paddings=[], padding=\"VALID\", strides=[1, 1, 1, 1], use_cudnn_on_gpu=true](conv1d_33/Conv1D/ExpandDims, conv1d_33/Conv1D/ExpandDims_1)' with input shapes: [?,1,2,64], [1,3,64,128].\n\nCall arguments received by layer \"conv1d_33\" (type Conv1D):\n  • inputs=tf.Tensor(shape=(None, 2, 64), dtype=float32)",
     "output_type": "error",
     "traceback": [
      "\u001B[1;31m---------------------------------------------------------------------------\u001B[0m",
      "\u001B[1;31mValueError\u001B[0m                                Traceback (most recent call last)",
      "Cell \u001B[1;32mIn[33], line 47\u001B[0m\n\u001B[0;32m     44\u001B[0m \u001B[38;5;66;03m# Assuming y_train and y_test are already one-hot encoded\u001B[39;00m\n\u001B[0;32m     45\u001B[0m num_classes \u001B[38;5;241m=\u001B[39m y_train\u001B[38;5;241m.\u001B[39mshape[\u001B[38;5;241m1\u001B[39m]  \u001B[38;5;66;03m# Assuming y_train is one-hot encoded\u001B[39;00m\n\u001B[1;32m---> 47\u001B[0m cnn_model \u001B[38;5;241m=\u001B[39m \u001B[43mkeras\u001B[49m\u001B[38;5;241;43m.\u001B[39;49m\u001B[43mSequential\u001B[49m\u001B[43m(\u001B[49m\u001B[43m[\u001B[49m\n\u001B[0;32m     48\u001B[0m \u001B[43m    \u001B[49m\u001B[43mlayers\u001B[49m\u001B[38;5;241;43m.\u001B[39;49m\u001B[43mConv1D\u001B[49m\u001B[43m(\u001B[49m\u001B[38;5;241;43m64\u001B[39;49m\u001B[43m,\u001B[49m\u001B[43m \u001B[49m\u001B[38;5;241;43m3\u001B[39;49m\u001B[43m,\u001B[49m\u001B[43m \u001B[49m\u001B[43mactivation\u001B[49m\u001B[38;5;241;43m=\u001B[39;49m\u001B[38;5;124;43m'\u001B[39;49m\u001B[38;5;124;43mrelu\u001B[39;49m\u001B[38;5;124;43m'\u001B[39;49m\u001B[43m,\u001B[49m\u001B[43m \u001B[49m\u001B[43minput_shape\u001B[49m\u001B[38;5;241;43m=\u001B[39;49m\u001B[43minput_shape_cnn\u001B[49m\u001B[43m)\u001B[49m\u001B[43m,\u001B[49m\n\u001B[0;32m     49\u001B[0m \u001B[43m    \u001B[49m\u001B[43mlayers\u001B[49m\u001B[38;5;241;43m.\u001B[39;49m\u001B[43mConv1D\u001B[49m\u001B[43m(\u001B[49m\u001B[38;5;241;43m128\u001B[39;49m\u001B[43m,\u001B[49m\u001B[43m \u001B[49m\u001B[38;5;241;43m3\u001B[39;49m\u001B[43m,\u001B[49m\u001B[43m \u001B[49m\u001B[43mactivation\u001B[49m\u001B[38;5;241;43m=\u001B[39;49m\u001B[38;5;124;43m'\u001B[39;49m\u001B[38;5;124;43mrelu\u001B[39;49m\u001B[38;5;124;43m'\u001B[39;49m\u001B[43m)\u001B[49m\u001B[43m,\u001B[49m\n\u001B[0;32m     50\u001B[0m \u001B[43m    \u001B[49m\u001B[43mlayers\u001B[49m\u001B[38;5;241;43m.\u001B[39;49m\u001B[43mFlatten\u001B[49m\u001B[43m(\u001B[49m\u001B[43m)\u001B[49m\u001B[43m,\u001B[49m\n\u001B[0;32m     51\u001B[0m \u001B[43m    \u001B[49m\u001B[43mlayers\u001B[49m\u001B[38;5;241;43m.\u001B[39;49m\u001B[43mDense\u001B[49m\u001B[43m(\u001B[49m\u001B[38;5;241;43m128\u001B[39;49m\u001B[43m,\u001B[49m\u001B[43m \u001B[49m\u001B[43mactivation\u001B[49m\u001B[38;5;241;43m=\u001B[39;49m\u001B[38;5;124;43m'\u001B[39;49m\u001B[38;5;124;43mrelu\u001B[39;49m\u001B[38;5;124;43m'\u001B[39;49m\u001B[43m)\u001B[49m\u001B[43m,\u001B[49m\n\u001B[0;32m     52\u001B[0m \u001B[43m    \u001B[49m\u001B[43mlayers\u001B[49m\u001B[38;5;241;43m.\u001B[39;49m\u001B[43mDense\u001B[49m\u001B[43m(\u001B[49m\u001B[43mnum_classes\u001B[49m\u001B[43m,\u001B[49m\u001B[43m \u001B[49m\u001B[43mactivation\u001B[49m\u001B[38;5;241;43m=\u001B[39;49m\u001B[38;5;124;43m'\u001B[39;49m\u001B[38;5;124;43msoftmax\u001B[39;49m\u001B[38;5;124;43m'\u001B[39;49m\u001B[43m)\u001B[49m\n\u001B[0;32m     53\u001B[0m \u001B[43m]\u001B[49m\u001B[43m)\u001B[49m\n\u001B[0;32m     55\u001B[0m cnn_model\u001B[38;5;241m.\u001B[39mcompile(optimizer\u001B[38;5;241m=\u001B[39m\u001B[38;5;124m'\u001B[39m\u001B[38;5;124madam\u001B[39m\u001B[38;5;124m'\u001B[39m, loss\u001B[38;5;241m=\u001B[39m\u001B[38;5;124m'\u001B[39m\u001B[38;5;124mcategorical_crossentropy\u001B[39m\u001B[38;5;124m'\u001B[39m, metrics\u001B[38;5;241m=\u001B[39m[\u001B[38;5;124m'\u001B[39m\u001B[38;5;124maccuracy\u001B[39m\u001B[38;5;124m'\u001B[39m])\n\u001B[0;32m     56\u001B[0m cnn_model\u001B[38;5;241m.\u001B[39mfit(X_train_features_reshaped_cnn, y_train, epochs\u001B[38;5;241m=\u001B[39m\u001B[38;5;241m10\u001B[39m, validation_data\u001B[38;5;241m=\u001B[39m(X_test_features_reshaped_cnn, y_test))\n",
      "File \u001B[1;32m~\\AppData\\Local\\Programs\\Python\\Python311\\Lib\\site-packages\\tensorflow\\python\\trackable\\base.py:204\u001B[0m, in \u001B[0;36mno_automatic_dependency_tracking.<locals>._method_wrapper\u001B[1;34m(self, *args, **kwargs)\u001B[0m\n\u001B[0;32m    202\u001B[0m \u001B[38;5;28mself\u001B[39m\u001B[38;5;241m.\u001B[39m_self_setattr_tracking \u001B[38;5;241m=\u001B[39m \u001B[38;5;28;01mFalse\u001B[39;00m  \u001B[38;5;66;03m# pylint: disable=protected-access\u001B[39;00m\n\u001B[0;32m    203\u001B[0m \u001B[38;5;28;01mtry\u001B[39;00m:\n\u001B[1;32m--> 204\u001B[0m   result \u001B[38;5;241m=\u001B[39m \u001B[43mmethod\u001B[49m\u001B[43m(\u001B[49m\u001B[38;5;28;43mself\u001B[39;49m\u001B[43m,\u001B[49m\u001B[43m \u001B[49m\u001B[38;5;241;43m*\u001B[39;49m\u001B[43margs\u001B[49m\u001B[43m,\u001B[49m\u001B[43m \u001B[49m\u001B[38;5;241;43m*\u001B[39;49m\u001B[38;5;241;43m*\u001B[39;49m\u001B[43mkwargs\u001B[49m\u001B[43m)\u001B[49m\n\u001B[0;32m    205\u001B[0m \u001B[38;5;28;01mfinally\u001B[39;00m:\n\u001B[0;32m    206\u001B[0m   \u001B[38;5;28mself\u001B[39m\u001B[38;5;241m.\u001B[39m_self_setattr_tracking \u001B[38;5;241m=\u001B[39m previous_value  \u001B[38;5;66;03m# pylint: disable=protected-access\u001B[39;00m\n",
      "File \u001B[1;32m~\\AppData\\Local\\Programs\\Python\\Python311\\Lib\\site-packages\\keras\\src\\utils\\traceback_utils.py:70\u001B[0m, in \u001B[0;36mfilter_traceback.<locals>.error_handler\u001B[1;34m(*args, **kwargs)\u001B[0m\n\u001B[0;32m     67\u001B[0m     filtered_tb \u001B[38;5;241m=\u001B[39m _process_traceback_frames(e\u001B[38;5;241m.\u001B[39m__traceback__)\n\u001B[0;32m     68\u001B[0m     \u001B[38;5;66;03m# To get the full stack trace, call:\u001B[39;00m\n\u001B[0;32m     69\u001B[0m     \u001B[38;5;66;03m# `tf.debugging.disable_traceback_filtering()`\u001B[39;00m\n\u001B[1;32m---> 70\u001B[0m     \u001B[38;5;28;01mraise\u001B[39;00m e\u001B[38;5;241m.\u001B[39mwith_traceback(filtered_tb) \u001B[38;5;28;01mfrom\u001B[39;00m \u001B[38;5;28;01mNone\u001B[39;00m\n\u001B[0;32m     71\u001B[0m \u001B[38;5;28;01mfinally\u001B[39;00m:\n\u001B[0;32m     72\u001B[0m     \u001B[38;5;28;01mdel\u001B[39;00m filtered_tb\n",
      "File \u001B[1;32m~\\AppData\\Local\\Programs\\Python\\Python311\\Lib\\site-packages\\tensorflow\\python\\framework\\ops.py:1021\u001B[0m, in \u001B[0;36m_create_c_op\u001B[1;34m(graph, node_def, inputs, control_inputs, op_def, extract_traceback)\u001B[0m\n\u001B[0;32m   1018\u001B[0m   c_op \u001B[38;5;241m=\u001B[39m pywrap_tf_session\u001B[38;5;241m.\u001B[39mTF_FinishOperation(op_desc)\n\u001B[0;32m   1019\u001B[0m \u001B[38;5;28;01mexcept\u001B[39;00m errors\u001B[38;5;241m.\u001B[39mInvalidArgumentError \u001B[38;5;28;01mas\u001B[39;00m e:\n\u001B[0;32m   1020\u001B[0m   \u001B[38;5;66;03m# Convert to ValueError for backwards compatibility.\u001B[39;00m\n\u001B[1;32m-> 1021\u001B[0m   \u001B[38;5;28;01mraise\u001B[39;00m \u001B[38;5;167;01mValueError\u001B[39;00m(e\u001B[38;5;241m.\u001B[39mmessage)\n\u001B[0;32m   1023\u001B[0m \u001B[38;5;66;03m# Record the current Python stack trace as the creating stacktrace of this\u001B[39;00m\n\u001B[0;32m   1024\u001B[0m \u001B[38;5;66;03m# TF_Operation.\u001B[39;00m\n\u001B[0;32m   1025\u001B[0m \u001B[38;5;28;01mif\u001B[39;00m extract_traceback:\n",
      "\u001B[1;31mValueError\u001B[0m: Exception encountered when calling layer \"conv1d_33\" (type Conv1D).\n\nNegative dimension size caused by subtracting 3 from 2 for '{{node conv1d_33/Conv1D}} = Conv2D[T=DT_FLOAT, data_format=\"NHWC\", dilations=[1, 1, 1, 1], explicit_paddings=[], padding=\"VALID\", strides=[1, 1, 1, 1], use_cudnn_on_gpu=true](conv1d_33/Conv1D/ExpandDims, conv1d_33/Conv1D/ExpandDims_1)' with input shapes: [?,1,2,64], [1,3,64,128].\n\nCall arguments received by layer \"conv1d_33\" (type Conv1D):\n  • inputs=tf.Tensor(shape=(None, 2, 64), dtype=float32)"
     ]
    }
   ],
   "source": [
    "from tensorflow import keras\n",
    "from tensorflow.keras import layers\n",
    "from sklearn.model_selection import train_test_split\n",
    "from tensorflow.keras.utils import to_categorical\n",
    "\n",
    "\n",
    "X = balanced_df.drop(columns=['label'])\n",
    "y = balanced_df['label']\n",
    "\n",
    "\n",
    "num_classes = 4\n",
    "y_encoded = to_categorical(y, num_classes)\n",
    "\n",
    "X_train, X_test, y_train, y_test = train_test_split(X, y_encoded, test_size=0.2, random_state=42)\n",
    "\n",
    "\n",
    "input_shape_lstm = (X_train.shape[1], 1)\n",
    "X_train_reshaped_lstm = X_train.values.reshape(X_train.shape[0], *input_shape_lstm)\n",
    "X_test_reshaped_lstm = X_test.values.reshape(X_test.shape[0], *input_shape_lstm)\n",
    "\n",
    "\n",
    "lstm_model = keras.Sequential([\n",
    "    layers.LSTM(64, input_shape=input_shape_lstm),\n",
    "    layers.Dense(num_classes, activation='softmax') \n",
    "])\n",
    "\n",
    "lstm_model.compile(optimizer='adam', loss='categorical_crossentropy', metrics=['accuracy'])\n",
    "lstm_model.fit(X_train_reshaped_lstm, y_train, epochs=10, validation_data=(X_test_reshaped_lstm, y_test))\n",
    "\n",
    "\n",
    "X_train_features_lstm = lstm_model.predict(X_train_reshaped_lstm)\n",
    "X_test_features_lstm = lstm_model.predict(X_test_reshaped_lstm)\n",
    "\n",
    "\n",
    "\n",
    "input_shape_cnn = (X_train_features_lstm.shape[1], 1)\n",
    "\n",
    "X_train_features_reshaped_cnn = X_train_features_lstm.reshape(X_train_features_lstm.shape[0], *input_shape_cnn)\n",
    "X_test_features_reshaped_cnn = X_test_features_lstm.reshape(X_test_features_lstm.shape[0], *input_shape_cnn)\n",
    "\n",
    "num_classes = y_train.shape[1] \n",
    "\n",
    "cnn_model = keras.Sequential([\n",
    "    layers.Conv1D(64, 3, activation='relu', input_shape=input_shape_cnn),\n",
    "    layers.Conv1D(128, 3, activation='relu'),\n",
    "    layers.Flatten(),\n",
    "    layers.Dense(128, activation='relu'),\n",
    "    layers.Dense(num_classes, activation='softmax')\n",
    "])\n",
    "\n",
    "cnn_model.compile(optimizer='adam', loss='categorical_crossentropy', metrics=['accuracy'])\n",
    "cnn_model.fit(X_train_features_reshaped_cnn, y_train, epochs=10, validation_data=(X_test_features_reshaped_cnn, y_test))\n"
   ],
   "metadata": {
    "collapsed": false,
    "ExecuteTime": {
     "end_time": "2023-11-21T10:44:16.650861100Z",
     "start_time": "2023-11-21T10:37:19.373024400Z"
    }
   },
   "id": "b432458a765b460c"
  },
  {
   "cell_type": "code",
   "execution_count": 34,
   "outputs": [
    {
     "name": "stdout",
     "output_type": "stream",
     "text": [
      "4\n"
     ]
    }
   ],
   "source": [
    "print(y_train.shape[1])"
   ],
   "metadata": {
    "collapsed": false,
    "ExecuteTime": {
     "end_time": "2023-11-21T10:45:11.087944Z",
     "start_time": "2023-11-21T10:45:10.921115200Z"
    }
   },
   "id": "e10c69d34ffb0f9b"
  },
  {
   "cell_type": "code",
   "execution_count": 35,
   "outputs": [
    {
     "data": {
      "text/plain": "       Unnamed: 0  duration  orig_bytes  resp_bytes  orig_pkts  orig_ip_bytes   \n0          537371  0.000000           0           0        0.0            0.0  \\\n1          837280  0.000000           0           0        0.0            0.0   \n2          294668  3.159932           0           0        3.0          180.0   \n3         1238401  0.000000           0           0        1.0           40.0   \n4          281011  0.000000           0           0        1.0           40.0   \n...           ...       ...         ...         ...        ...            ...   \n49995      113342  0.000000           0           0        1.0           40.0   \n49996     1740861  0.000000           0           0        1.0           40.0   \n49997      921141 -1.000000          -1          -1        2.0           80.0   \n49998      842217 -1.000000          -1          -1        2.0           80.0   \n49999     2580359  0.000000           0           0        1.0           40.0   \n\n       resp_pkts  resp_ip_bytes  label  proto_icmp  ...  conn_state_RSTOS0   \n0            0.0            0.0      3           0  ...                  0  \\\n1            0.0            0.0      3           0  ...                  0   \n2            0.0            0.0      0           0  ...                  0   \n3            0.0            0.0      1           0  ...                  0   \n4            0.0            0.0      2           0  ...                  0   \n...          ...            ...    ...         ...  ...                ...   \n49995        0.0            0.0      1           0  ...                  0   \n49996        0.0            0.0      1           0  ...                  0   \n49997        0.0            0.0      1           0  ...                  0   \n49998        0.0            0.0      2           0  ...                  0   \n49999        0.0            0.0      0           0  ...                  0   \n\n       conn_state_RSTR  conn_state_RSTRH  conn_state_S0  conn_state_S1   \n0                    0                 0              0              0  \\\n1                    0                 0              0              0   \n2                    0                 0              1              0   \n3                    0                 0              1              0   \n4                    0                 0              1              0   \n...                ...               ...            ...            ...   \n49995                0                 0              1              0   \n49996                0                 0              1              0   \n49997                0                 0              1              0   \n49998                0                 0              1              0   \n49999                0                 0              1              0   \n\n       conn_state_S2  conn_state_S3  conn_state_SF  conn_state_SH   \n0                  0              0              0              0  \\\n1                  0              0              0              0   \n2                  0              0              0              0   \n3                  0              0              0              0   \n4                  0              0              0              0   \n...              ...            ...            ...            ...   \n49995              0              0              0              0   \n49996              0              0              0              0   \n49997              0              0              0              0   \n49998              0              0              0              0   \n49999              0              0              0              0   \n\n       conn_state_SHR  \n0                   0  \n1                   0  \n2                   0  \n3                   0  \n4                   0  \n...               ...  \n49995               0  \n49996               0  \n49997               0  \n49998               0  \n49999               0  \n\n[50000 rows x 25 columns]",
      "text/html": "<div>\n<style scoped>\n    .dataframe tbody tr th:only-of-type {\n        vertical-align: middle;\n    }\n\n    .dataframe tbody tr th {\n        vertical-align: top;\n    }\n\n    .dataframe thead th {\n        text-align: right;\n    }\n</style>\n<table border=\"1\" class=\"dataframe\">\n  <thead>\n    <tr style=\"text-align: right;\">\n      <th></th>\n      <th>Unnamed: 0</th>\n      <th>duration</th>\n      <th>orig_bytes</th>\n      <th>resp_bytes</th>\n      <th>orig_pkts</th>\n      <th>orig_ip_bytes</th>\n      <th>resp_pkts</th>\n      <th>resp_ip_bytes</th>\n      <th>label</th>\n      <th>proto_icmp</th>\n      <th>...</th>\n      <th>conn_state_RSTOS0</th>\n      <th>conn_state_RSTR</th>\n      <th>conn_state_RSTRH</th>\n      <th>conn_state_S0</th>\n      <th>conn_state_S1</th>\n      <th>conn_state_S2</th>\n      <th>conn_state_S3</th>\n      <th>conn_state_SF</th>\n      <th>conn_state_SH</th>\n      <th>conn_state_SHR</th>\n    </tr>\n  </thead>\n  <tbody>\n    <tr>\n      <th>0</th>\n      <td>537371</td>\n      <td>0.000000</td>\n      <td>0</td>\n      <td>0</td>\n      <td>0.0</td>\n      <td>0.0</td>\n      <td>0.0</td>\n      <td>0.0</td>\n      <td>3</td>\n      <td>0</td>\n      <td>...</td>\n      <td>0</td>\n      <td>0</td>\n      <td>0</td>\n      <td>0</td>\n      <td>0</td>\n      <td>0</td>\n      <td>0</td>\n      <td>0</td>\n      <td>0</td>\n      <td>0</td>\n    </tr>\n    <tr>\n      <th>1</th>\n      <td>837280</td>\n      <td>0.000000</td>\n      <td>0</td>\n      <td>0</td>\n      <td>0.0</td>\n      <td>0.0</td>\n      <td>0.0</td>\n      <td>0.0</td>\n      <td>3</td>\n      <td>0</td>\n      <td>...</td>\n      <td>0</td>\n      <td>0</td>\n      <td>0</td>\n      <td>0</td>\n      <td>0</td>\n      <td>0</td>\n      <td>0</td>\n      <td>0</td>\n      <td>0</td>\n      <td>0</td>\n    </tr>\n    <tr>\n      <th>2</th>\n      <td>294668</td>\n      <td>3.159932</td>\n      <td>0</td>\n      <td>0</td>\n      <td>3.0</td>\n      <td>180.0</td>\n      <td>0.0</td>\n      <td>0.0</td>\n      <td>0</td>\n      <td>0</td>\n      <td>...</td>\n      <td>0</td>\n      <td>0</td>\n      <td>0</td>\n      <td>1</td>\n      <td>0</td>\n      <td>0</td>\n      <td>0</td>\n      <td>0</td>\n      <td>0</td>\n      <td>0</td>\n    </tr>\n    <tr>\n      <th>3</th>\n      <td>1238401</td>\n      <td>0.000000</td>\n      <td>0</td>\n      <td>0</td>\n      <td>1.0</td>\n      <td>40.0</td>\n      <td>0.0</td>\n      <td>0.0</td>\n      <td>1</td>\n      <td>0</td>\n      <td>...</td>\n      <td>0</td>\n      <td>0</td>\n      <td>0</td>\n      <td>1</td>\n      <td>0</td>\n      <td>0</td>\n      <td>0</td>\n      <td>0</td>\n      <td>0</td>\n      <td>0</td>\n    </tr>\n    <tr>\n      <th>4</th>\n      <td>281011</td>\n      <td>0.000000</td>\n      <td>0</td>\n      <td>0</td>\n      <td>1.0</td>\n      <td>40.0</td>\n      <td>0.0</td>\n      <td>0.0</td>\n      <td>2</td>\n      <td>0</td>\n      <td>...</td>\n      <td>0</td>\n      <td>0</td>\n      <td>0</td>\n      <td>1</td>\n      <td>0</td>\n      <td>0</td>\n      <td>0</td>\n      <td>0</td>\n      <td>0</td>\n      <td>0</td>\n    </tr>\n    <tr>\n      <th>...</th>\n      <td>...</td>\n      <td>...</td>\n      <td>...</td>\n      <td>...</td>\n      <td>...</td>\n      <td>...</td>\n      <td>...</td>\n      <td>...</td>\n      <td>...</td>\n      <td>...</td>\n      <td>...</td>\n      <td>...</td>\n      <td>...</td>\n      <td>...</td>\n      <td>...</td>\n      <td>...</td>\n      <td>...</td>\n      <td>...</td>\n      <td>...</td>\n      <td>...</td>\n      <td>...</td>\n    </tr>\n    <tr>\n      <th>49995</th>\n      <td>113342</td>\n      <td>0.000000</td>\n      <td>0</td>\n      <td>0</td>\n      <td>1.0</td>\n      <td>40.0</td>\n      <td>0.0</td>\n      <td>0.0</td>\n      <td>1</td>\n      <td>0</td>\n      <td>...</td>\n      <td>0</td>\n      <td>0</td>\n      <td>0</td>\n      <td>1</td>\n      <td>0</td>\n      <td>0</td>\n      <td>0</td>\n      <td>0</td>\n      <td>0</td>\n      <td>0</td>\n    </tr>\n    <tr>\n      <th>49996</th>\n      <td>1740861</td>\n      <td>0.000000</td>\n      <td>0</td>\n      <td>0</td>\n      <td>1.0</td>\n      <td>40.0</td>\n      <td>0.0</td>\n      <td>0.0</td>\n      <td>1</td>\n      <td>0</td>\n      <td>...</td>\n      <td>0</td>\n      <td>0</td>\n      <td>0</td>\n      <td>1</td>\n      <td>0</td>\n      <td>0</td>\n      <td>0</td>\n      <td>0</td>\n      <td>0</td>\n      <td>0</td>\n    </tr>\n    <tr>\n      <th>49997</th>\n      <td>921141</td>\n      <td>-1.000000</td>\n      <td>-1</td>\n      <td>-1</td>\n      <td>2.0</td>\n      <td>80.0</td>\n      <td>0.0</td>\n      <td>0.0</td>\n      <td>1</td>\n      <td>0</td>\n      <td>...</td>\n      <td>0</td>\n      <td>0</td>\n      <td>0</td>\n      <td>1</td>\n      <td>0</td>\n      <td>0</td>\n      <td>0</td>\n      <td>0</td>\n      <td>0</td>\n      <td>0</td>\n    </tr>\n    <tr>\n      <th>49998</th>\n      <td>842217</td>\n      <td>-1.000000</td>\n      <td>-1</td>\n      <td>-1</td>\n      <td>2.0</td>\n      <td>80.0</td>\n      <td>0.0</td>\n      <td>0.0</td>\n      <td>2</td>\n      <td>0</td>\n      <td>...</td>\n      <td>0</td>\n      <td>0</td>\n      <td>0</td>\n      <td>1</td>\n      <td>0</td>\n      <td>0</td>\n      <td>0</td>\n      <td>0</td>\n      <td>0</td>\n      <td>0</td>\n    </tr>\n    <tr>\n      <th>49999</th>\n      <td>2580359</td>\n      <td>0.000000</td>\n      <td>0</td>\n      <td>0</td>\n      <td>1.0</td>\n      <td>40.0</td>\n      <td>0.0</td>\n      <td>0.0</td>\n      <td>0</td>\n      <td>0</td>\n      <td>...</td>\n      <td>0</td>\n      <td>0</td>\n      <td>0</td>\n      <td>1</td>\n      <td>0</td>\n      <td>0</td>\n      <td>0</td>\n      <td>0</td>\n      <td>0</td>\n      <td>0</td>\n    </tr>\n  </tbody>\n</table>\n<p>50000 rows × 25 columns</p>\n</div>"
     },
     "execution_count": 35,
     "metadata": {},
     "output_type": "execute_result"
    }
   ],
   "source": [
    "balanced_df"
   ],
   "metadata": {
    "collapsed": false,
    "ExecuteTime": {
     "end_time": "2023-11-21T13:03:34.655475600Z",
     "start_time": "2023-11-21T13:03:34.527234300Z"
    }
   },
   "id": "39bc28426f5859b"
  },
  {
   "cell_type": "code",
   "execution_count": null,
   "outputs": [],
   "source": [],
   "metadata": {
    "collapsed": false
   },
   "id": "db607dae80008228"
  }
 ],
 "metadata": {
  "kernelspec": {
   "display_name": "Python 3",
   "language": "python",
   "name": "python3"
  },
  "language_info": {
   "codemirror_mode": {
    "name": "ipython",
    "version": 2
   },
   "file_extension": ".py",
   "mimetype": "text/x-python",
   "name": "python",
   "nbconvert_exporter": "python",
   "pygments_lexer": "ipython2",
   "version": "2.7.6"
  }
 },
 "nbformat": 4,
 "nbformat_minor": 5
}
