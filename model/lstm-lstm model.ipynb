{
 "cells": [
  {
   "cell_type": "code",
   "execution_count": 1,
   "id": "initial_id",
   "metadata": {
    "collapsed": true,
    "ExecuteTime": {
     "end_time": "2023-11-21T10:55:51.992206300Z",
     "start_time": "2023-11-21T10:53:54.868438700Z"
    }
   },
   "outputs": [],
   "source": [
    "import pandas as pd\n",
    "import numpy as np\n",
    "from sklearn.model_selection import train_test_split\n",
    "from tensorflow import keras\n",
    "from tensorflow.keras import layers\n",
    "\n",
    "\n",
    "df = pd.read_csv(\"E:\\Final year project\\project\\datapreprocessing\\iot_combined.csv\")\n",
    "\n",
    "\n",
    "top_labels = {\n",
    "    'PartOfAHorizontalPortScan': 1,\n",
    "    'Benign': 0,\n",
    "    'Okiru': 2,\n",
    "    'DDoS': 3,\n",
    "}\n",
    "\n",
    "df = df[df['label'].isin(top_labels)]\n",
    "\n",
    "balanced_df = pd.concat([df[df['label'] == label].sample(12500, replace=True) for label in top_labels])\n",
    "\n",
    "\n",
    "balanced_df = balanced_df.sample(frac=1).reset_index(drop=True)\n",
    "balanced_df['label'] = balanced_df['label'].map(top_labels)"
   ]
  },
  {
   "cell_type": "code",
   "execution_count": 2,
   "outputs": [
    {
     "name": "stdout",
     "output_type": "stream",
     "text": [
      "Epoch 1/10\n",
      "1250/1250 [==============================] - 43s 29ms/step - loss: 0.8231 - accuracy: 0.5843 - val_loss: 0.7330 - val_accuracy: 0.6432\n",
      "Epoch 2/10\n",
      "1250/1250 [==============================] - 33s 26ms/step - loss: 0.7678 - accuracy: 0.6102 - val_loss: 0.7271 - val_accuracy: 0.6432\n",
      "Epoch 3/10\n",
      "1250/1250 [==============================] - 33s 27ms/step - loss: 0.7254 - accuracy: 0.6417 - val_loss: 0.7215 - val_accuracy: 0.6433\n",
      "Epoch 4/10\n",
      "1250/1250 [==============================] - 34s 27ms/step - loss: 0.7233 - accuracy: 0.6419 - val_loss: 0.7268 - val_accuracy: 0.6434\n",
      "Epoch 5/10\n",
      "1250/1250 [==============================] - 33s 26ms/step - loss: 0.7381 - accuracy: 0.6298 - val_loss: 0.7694 - val_accuracy: 0.5958\n",
      "Epoch 6/10\n",
      "1250/1250 [==============================] - 33s 27ms/step - loss: 0.7346 - accuracy: 0.6303 - val_loss: 0.7210 - val_accuracy: 0.6434\n",
      "Epoch 7/10\n",
      "1250/1250 [==============================] - 36s 29ms/step - loss: 0.7215 - accuracy: 0.6420 - val_loss: 0.7219 - val_accuracy: 0.6434\n",
      "Epoch 8/10\n",
      "1250/1250 [==============================] - 34s 27ms/step - loss: 0.7524 - accuracy: 0.6098 - val_loss: 0.7660 - val_accuracy: 0.5662\n",
      "Epoch 9/10\n",
      "1250/1250 [==============================] - 37s 30ms/step - loss: 0.7682 - accuracy: 0.5855 - val_loss: 0.7641 - val_accuracy: 0.5943\n",
      "Epoch 10/10\n",
      "1250/1250 [==============================] - 36s 29ms/step - loss: 0.7465 - accuracy: 0.6120 - val_loss: 0.7243 - val_accuracy: 0.6434\n",
      "1250/1250 [==============================] - 20s 15ms/step\n",
      "313/313 [==============================] - 7s 17ms/step\n",
      "Epoch 1/10\n",
      "1250/1250 [==============================] - 9s 6ms/step - loss: 0.7720 - accuracy: 0.6406 - val_loss: 0.7274 - val_accuracy: 0.6434\n",
      "Epoch 2/10\n",
      "1250/1250 [==============================] - 8s 6ms/step - loss: 0.7240 - accuracy: 0.6424 - val_loss: 0.7237 - val_accuracy: 0.6434\n",
      "Epoch 3/10\n",
      "1250/1250 [==============================] - 8s 6ms/step - loss: 0.7232 - accuracy: 0.6417 - val_loss: 0.7236 - val_accuracy: 0.6434\n",
      "Epoch 4/10\n",
      "1250/1250 [==============================] - 6s 5ms/step - loss: 0.7222 - accuracy: 0.6421 - val_loss: 0.7254 - val_accuracy: 0.6434\n",
      "Epoch 5/10\n",
      "1250/1250 [==============================] - 7s 6ms/step - loss: 0.7220 - accuracy: 0.6424 - val_loss: 0.7230 - val_accuracy: 0.6434\n",
      "Epoch 6/10\n",
      "1250/1250 [==============================] - 8s 6ms/step - loss: 0.7216 - accuracy: 0.6422 - val_loss: 0.7224 - val_accuracy: 0.6434\n",
      "Epoch 7/10\n",
      "1250/1250 [==============================] - 7s 5ms/step - loss: 0.7214 - accuracy: 0.6424 - val_loss: 0.7263 - val_accuracy: 0.6434\n",
      "Epoch 8/10\n",
      "1250/1250 [==============================] - 8s 6ms/step - loss: 0.7216 - accuracy: 0.6421 - val_loss: 0.7215 - val_accuracy: 0.6434\n",
      "Epoch 9/10\n",
      "1250/1250 [==============================] - 7s 6ms/step - loss: 0.7214 - accuracy: 0.6424 - val_loss: 0.7212 - val_accuracy: 0.6434\n",
      "Epoch 10/10\n",
      "1250/1250 [==============================] - 7s 6ms/step - loss: 0.7215 - accuracy: 0.6421 - val_loss: 0.7261 - val_accuracy: 0.6434\n",
      "Dense Model - Train Accuracy: 0.6424, Test Accuracy: 0.6434\n"
     ]
    }
   ],
   "source": [
    "from tensorflow import keras\n",
    "from tensorflow.keras import layers\n",
    "from sklearn.model_selection import train_test_split\n",
    "from tensorflow.keras.utils import to_categorical\n",
    "\n",
    "\n",
    "X = balanced_df.drop(columns=['label'])\n",
    "y = balanced_df['label']\n",
    "\n",
    "\n",
    "num_classes = 4\n",
    "y_encoded = to_categorical(y, num_classes)\n",
    "# Split the data into training and testing sets\n",
    "X_train, X_test, y_train, y_test = train_test_split(X, y_encoded, test_size=0.2, random_state=42)\n",
    "\n",
    "# Reshape the input data for LSTM\n",
    "input_shape_lstm = (X_train.shape[1], 1)\n",
    "X_train_reshaped_lstm = X_train.values.reshape(X_train.shape[0], *input_shape_lstm)\n",
    "X_test_reshaped_lstm = X_test.values.reshape(X_test.shape[0], *input_shape_lstm)\n",
    "\n",
    "# Define and compile the LSTM model\n",
    "lstm_model = keras.Sequential([\n",
    "    layers.LSTM(64, input_shape=input_shape_lstm),\n",
    "    layers.Dense(num_classes, activation='softmax')\n",
    "])\n",
    "\n",
    "lstm_model.compile(optimizer='adam', loss='categorical_crossentropy', metrics=['accuracy'])\n",
    "\n",
    "# Train the LSTM model\n",
    "lstm_model.fit(X_train_reshaped_lstm, y_train, epochs=10, validation_data=(X_test_reshaped_lstm, y_test))\n",
    "\n",
    "# Predict using the LSTM model\n",
    "X_train_features_lstm = lstm_model.predict(X_train_reshaped_lstm)\n",
    "X_test_features_lstm = lstm_model.predict(X_test_reshaped_lstm)\n",
    "\n",
    "# Define and compile the final dense layer model\n",
    "dense_model = keras.Sequential([\n",
    "    layers.Dense(128, activation='relu', input_shape=(X_train_features_lstm.shape[1],)),\n",
    "    layers.Dense(num_classes, activation='softmax')\n",
    "])\n",
    "\n",
    "dense_model.compile(optimizer='adam', loss='categorical_crossentropy', metrics=['accuracy'])\n",
    "\n",
    "# Train the final dense layer model\n",
    "dense_model.fit(X_train_features_lstm, y_train, epochs=10, validation_data=(X_test_features_lstm, y_test))\n",
    "\n",
    "# Print accuracy for the final dense layer model\n",
    "train_accuracy_dense = dense_model.evaluate(X_train_features_lstm, y_train, verbose=0)[1]\n",
    "test_accuracy_dense = dense_model.evaluate(X_test_features_lstm, y_test, verbose=0)[1]\n",
    "print(f\"Dense Model - Train Accuracy: {train_accuracy_dense:.4f}, Test Accuracy: {test_accuracy_dense:.4f}\")\n"
   ],
   "metadata": {
    "collapsed": false,
    "ExecuteTime": {
     "end_time": "2023-11-21T11:05:23.935280100Z",
     "start_time": "2023-11-21T10:57:35.431026100Z"
    }
   },
   "id": "84a358b82027b7d9"
  },
  {
   "cell_type": "code",
   "execution_count": 3,
   "outputs": [
    {
     "name": "stdout",
     "output_type": "stream",
     "text": [
      "313/313 [==============================] - 4s 14ms/step\n",
      "LSTM Model Classification Report:\n",
      "              precision    recall  f1-score   support\n",
      "\n",
      "           0       0.90      0.40      0.56      2442\n",
      "           1       0.61      0.50      0.55      2565\n",
      "           2       0.46      0.88      0.60      2513\n",
      "           3       1.00      0.79      0.88      2480\n",
      "\n",
      "    accuracy                           0.64     10000\n",
      "   macro avg       0.74      0.64      0.65     10000\n",
      "weighted avg       0.74      0.64      0.65     10000\n",
      "313/313 [==============================] - 2s 5ms/step\n",
      "Dense Model Classification Report:\n",
      "              precision    recall  f1-score   support\n",
      "\n",
      "           0       0.90      0.40      0.56      2442\n",
      "           1       0.61      0.50      0.55      2565\n",
      "           2       0.46      0.88      0.60      2513\n",
      "           3       1.00      0.79      0.88      2480\n",
      "\n",
      "    accuracy                           0.64     10000\n",
      "   macro avg       0.74      0.64      0.65     10000\n",
      "weighted avg       0.74      0.64      0.65     10000\n"
     ]
    }
   ],
   "source": [
    "from sklearn.metrics import classification_report\n",
    "\n",
    "\n",
    "y_pred_lstm = np.argmax(lstm_model.predict(X_test_reshaped_lstm), axis=1)\n",
    "y_true = np.argmax(y_test, axis=1)\n",
    "print(\"LSTM Model Classification Report:\")\n",
    "print(classification_report(y_true, y_pred_lstm))\n",
    "\n",
    "y_pred_dense = np.argmax(dense_model.predict(X_test_features_lstm), axis=1)\n",
    "\n",
    "print(\"Dense Model Classification Report:\")\n",
    "print(classification_report(y_true, y_pred_dense))"
   ],
   "metadata": {
    "collapsed": false,
    "ExecuteTime": {
     "end_time": "2023-11-21T11:07:06.267624200Z",
     "start_time": "2023-11-21T11:06:58.779530300Z"
    }
   },
   "id": "85ca362738de1b80"
  },
  {
   "cell_type": "code",
   "execution_count": null,
   "outputs": [],
   "source": [],
   "metadata": {
    "collapsed": false
   },
   "id": "aed147fc1f11f3"
  }
 ],
 "metadata": {
  "kernelspec": {
   "display_name": "Python 3",
   "language": "python",
   "name": "python3"
  },
  "language_info": {
   "codemirror_mode": {
    "name": "ipython",
    "version": 2
   },
   "file_extension": ".py",
   "mimetype": "text/x-python",
   "name": "python",
   "nbconvert_exporter": "python",
   "pygments_lexer": "ipython2",
   "version": "2.7.6"
  }
 },
 "nbformat": 4,
 "nbformat_minor": 5
}
